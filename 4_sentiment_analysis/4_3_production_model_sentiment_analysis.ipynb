{
 "cells": [
  {
   "cell_type": "markdown",
   "metadata": {},
   "source": [
    "## Sentiment Prediction Modeling\n",
    "\n",
    "### Determining production model: Evaluating performance of LSTM RNN model, Logistic Regression model, Multinomial Naive Bayes model to determine which is the best model\n",
    "\n",
    "Having gathered the posts by scraping, a sample of 1000 posts were labelled manually so as to train models to subsequently predict labels on the remainder of the dataset (around 9000 posts). *Textblob and VADER (unsupervised learning text classification models) were initially used to predict the sentiment of the posts, but the results were not accurate*\n",
    "\n",
    "The labels are: \n",
    "- **0 for negative sentiment** \n",
    "- **1 for neutral sentiment**\n",
    "- **2 for positive sentiment**\n",
    "\n",
    "It should be noted that the labels were highly skewed, with around 80% of the posts classed as neutral, 15% as negative and 5% positive. This affected how well the model was able to predict the sentiment of unlabelled posts. \n",
    "\n",
    "The models chosen were classification models - Logistic Regression and Multinomial Naive Bayes, Long Short Term Memory Recurrent Neural Net model and BERT. \n",
    "\n",
    "It was found that the Multinomial Naive Bayes model was the most accurate in predicting sentiment. It had high Accuracy, ROC AUC and F1 scores, with little variance between the train and validation sets, as well as being more likely to assign minority classes, compared to the Logistic Regression Model. The performance of LSTM RNN and BERT models paled in comparison as well. For BERT, it could be that the pretrained model did not generalise well on the dataset, due to the nature of the local Singlish language (in terms of different words and sentence structures). The LSTM RNN model also did not do well, as it relied on learning words before and after a significant word, instead of standalone words, which did not work particularly well for this dataset.  \n",
    "\n",
    "It should be noted that methods such as SMOTE, random oversampling and manipulating class weights were used to try to address the issue of unbalanced classes in the data, all of which did not perform as well as a model where the minority classes were not oversampled/given more weightage in the model. \n",
    "\n",
    "The process of assessing a production model for sentiment analysis is as follows:\n",
    "1. Train Multinomial NB model on all posts in train set, which have labelled sentiments \n",
    "2. Predict label on posts in test set \n",
    "3. Check accuracy of predictions and make changes to incorrect labels (completed prior to starting this notebook)\n",
    "4. **Collate labelled posts in train and test sets to train final production model (THIS NOTEBOOK)**\n",
    "\n",
    "While I acknowledge that it is not ideal to use a regular supervised learning classification models to predict the sentiment of text posts, this was the best method for this particular dataset. I believe that with more data gathered, a LSTM RNN or BERT model can be sufficiently trained to better predict sentiment of posts from Singaporean forums.  "
   ]
  },
  {
   "cell_type": "markdown",
   "metadata": {},
   "source": [
    "---\n",
    "## Importing of libraries, train and test datasets"
   ]
  },
  {
   "cell_type": "code",
   "execution_count": 3,
   "metadata": {},
   "outputs": [],
   "source": [
    "import pandas as pd\n",
    "import numpy as np\n",
    "import matplotlib.pyplot as plt\n",
    "\n",
    "from nltk.stem import WordNetLemmatizer\n",
    "from nltk.tokenize import RegexpTokenizer\n",
    "from nltk.corpus import stopwords\n",
    "\n",
    "from sklearn.preprocessing import StandardScaler\n",
    "from imblearn.over_sampling import SMOTE\n",
    "from sklearn.feature_extraction.text import CountVectorizer, TfidfVectorizer\n",
    "from sklearn.pipeline import Pipeline\n",
    "from sklearn.model_selection import train_test_split, GridSearchCV\n",
    "from sklearn.naive_bayes import MultinomialNB\n",
    "from sklearn.linear_model import LogisticRegression\n",
    "\n",
    "from keras.preprocessing.text import Tokenizer\n",
    "from keras.preprocessing.sequence import pad_sequences\n",
    "from keras.models import Sequential\n",
    "from keras.layers import Dense, Dropout, GRU, Embedding, SpatialDropout1D, LSTM\n",
    "from keras.callbacks import EarlyStopping\n",
    "from keras.optimizers import Adam\n",
    "\n",
    "from sklearn.metrics import roc_auc_score, f1_score, confusion_matrix, classification_report"
   ]
  },
  {
   "cell_type": "code",
   "execution_count": 4,
   "metadata": {},
   "outputs": [
    {
     "data": {
      "text/html": [
       "<div>\n",
       "<style scoped>\n",
       "    .dataframe tbody tr th:only-of-type {\n",
       "        vertical-align: middle;\n",
       "    }\n",
       "\n",
       "    .dataframe tbody tr th {\n",
       "        vertical-align: top;\n",
       "    }\n",
       "\n",
       "    .dataframe thead th {\n",
       "        text-align: right;\n",
       "    }\n",
       "</style>\n",
       "<table border=\"1\" class=\"dataframe\">\n",
       "  <thead>\n",
       "    <tr style=\"text-align: right;\">\n",
       "      <th></th>\n",
       "      <th>Unnamed: 0</th>\n",
       "      <th>post</th>\n",
       "      <th>label</th>\n",
       "      <th>date</th>\n",
       "      <th>source</th>\n",
       "      <th>post_clean_for_rnn</th>\n",
       "    </tr>\n",
       "  </thead>\n",
       "  <tbody>\n",
       "    <tr>\n",
       "      <th>0</th>\n",
       "      <td>0</td>\n",
       "      <td>There is no new cluster beside the dorm for tw...</td>\n",
       "      <td>2.0</td>\n",
       "      <td>2020-10-04 08:34:00</td>\n",
       "      <td>hardwarezone</td>\n",
       "      <td>there is no new cluster beside the dorm for tw...</td>\n",
       "    </tr>\n",
       "    <tr>\n",
       "      <th>1</th>\n",
       "      <td>1</td>\n",
       "      <td>&gt;For consistency and accuracy, it could be eas...</td>\n",
       "      <td>0.0</td>\n",
       "      <td>2020-04-11 12:26:38</td>\n",
       "      <td>reddit</td>\n",
       "      <td>for consistency and accuracy it could be easie...</td>\n",
       "    </tr>\n",
       "    <tr>\n",
       "      <th>2</th>\n",
       "      <td>2</td>\n",
       "      <td>Only IQ lower than 86 will believe this CSB.Wh...</td>\n",
       "      <td>0.0</td>\n",
       "      <td>2020-04-23 10:42:00</td>\n",
       "      <td>hardwarezone</td>\n",
       "      <td>only iq lower than 86 will believe this csb wh...</td>\n",
       "    </tr>\n",
       "    <tr>\n",
       "      <th>3</th>\n",
       "      <td>3</td>\n",
       "      <td>I work nearby to the Westlite and Toh Guan Dor...</td>\n",
       "      <td>0.0</td>\n",
       "      <td>2020-04-06 20:55:47</td>\n",
       "      <td>reddit</td>\n",
       "      <td>i work nearby to the westlite and toh guan dor...</td>\n",
       "    </tr>\n",
       "    <tr>\n",
       "      <th>4</th>\n",
       "      <td>4</td>\n",
       "      <td>Ho seh liao</td>\n",
       "      <td>0.0</td>\n",
       "      <td>2020-09-04 21:43:00</td>\n",
       "      <td>hardwarezone</td>\n",
       "      <td>ho seh liao</td>\n",
       "    </tr>\n",
       "  </tbody>\n",
       "</table>\n",
       "</div>"
      ],
      "text/plain": [
       "   Unnamed: 0                                               post  label  \\\n",
       "0           0  There is no new cluster beside the dorm for tw...    2.0   \n",
       "1           1  >For consistency and accuracy, it could be eas...    0.0   \n",
       "2           2  Only IQ lower than 86 will believe this CSB.Wh...    0.0   \n",
       "3           3  I work nearby to the Westlite and Toh Guan Dor...    0.0   \n",
       "4           4                                        Ho seh liao    0.0   \n",
       "\n",
       "                  date        source  \\\n",
       "0  2020-10-04 08:34:00  hardwarezone   \n",
       "1  2020-04-11 12:26:38        reddit   \n",
       "2  2020-04-23 10:42:00  hardwarezone   \n",
       "3  2020-04-06 20:55:47        reddit   \n",
       "4  2020-09-04 21:43:00  hardwarezone   \n",
       "\n",
       "                                  post_clean_for_rnn  \n",
       "0  there is no new cluster beside the dorm for tw...  \n",
       "1  for consistency and accuracy it could be easie...  \n",
       "2  only iq lower than 86 will believe this csb wh...  \n",
       "3  i work nearby to the westlite and toh guan dor...  \n",
       "4                                        ho seh liao  "
      ]
     },
     "execution_count": 4,
     "metadata": {},
     "output_type": "execute_result"
    }
   ],
   "source": [
    "train = pd.read_csv('../labelled_posts/train_labelled_clean.csv')\n",
    "train.head()"
   ]
  },
  {
   "cell_type": "code",
   "execution_count": 5,
   "metadata": {},
   "outputs": [
    {
     "data": {
      "text/plain": [
       "post                  0\n",
       "label                 0\n",
       "date                  0\n",
       "source                0\n",
       "post_clean_for_rnn    5\n",
       "dtype: int64"
      ]
     },
     "metadata": {},
     "output_type": "display_data"
    },
    {
     "data": {
      "text/html": [
       "<div>\n",
       "<style scoped>\n",
       "    .dataframe tbody tr th:only-of-type {\n",
       "        vertical-align: middle;\n",
       "    }\n",
       "\n",
       "    .dataframe tbody tr th {\n",
       "        vertical-align: top;\n",
       "    }\n",
       "\n",
       "    .dataframe thead th {\n",
       "        text-align: right;\n",
       "    }\n",
       "</style>\n",
       "<table border=\"1\" class=\"dataframe\">\n",
       "  <thead>\n",
       "    <tr style=\"text-align: right;\">\n",
       "      <th></th>\n",
       "      <th>post</th>\n",
       "      <th>label</th>\n",
       "      <th>date</th>\n",
       "      <th>source</th>\n",
       "      <th>post_clean_for_rnn</th>\n",
       "    </tr>\n",
       "  </thead>\n",
       "  <tbody>\n",
       "    <tr>\n",
       "      <th>0</th>\n",
       "      <td>There is no new cluster beside the dorm for tw...</td>\n",
       "      <td>2.0</td>\n",
       "      <td>2020-10-04 08:34:00</td>\n",
       "      <td>hardwarezone</td>\n",
       "      <td>there is no new cluster beside the dorm for tw...</td>\n",
       "    </tr>\n",
       "    <tr>\n",
       "      <th>1</th>\n",
       "      <td>&gt;For consistency and accuracy, it could be eas...</td>\n",
       "      <td>0.0</td>\n",
       "      <td>2020-04-11 12:26:38</td>\n",
       "      <td>reddit</td>\n",
       "      <td>for consistency and accuracy it could be easie...</td>\n",
       "    </tr>\n",
       "  </tbody>\n",
       "</table>\n",
       "</div>"
      ],
      "text/plain": [
       "                                                post  label  \\\n",
       "0  There is no new cluster beside the dorm for tw...    2.0   \n",
       "1  >For consistency and accuracy, it could be eas...    0.0   \n",
       "\n",
       "                  date        source  \\\n",
       "0  2020-10-04 08:34:00  hardwarezone   \n",
       "1  2020-04-11 12:26:38        reddit   \n",
       "\n",
       "                                  post_clean_for_rnn  \n",
       "0  there is no new cluster beside the dorm for tw...  \n",
       "1  for consistency and accuracy it could be easie...  "
      ]
     },
     "execution_count": 5,
     "metadata": {},
     "output_type": "execute_result"
    }
   ],
   "source": [
    "train.drop(columns = ['Unnamed: 0'], inplace=True)\n",
    "display(train.isnull().sum())\n",
    "train.fillna('nopost', inplace=True)\n",
    "train.head(2)"
   ]
  },
  {
   "cell_type": "code",
   "execution_count": 6,
   "metadata": {},
   "outputs": [
    {
     "data": {
      "text/html": [
       "<div>\n",
       "<style scoped>\n",
       "    .dataframe tbody tr th:only-of-type {\n",
       "        vertical-align: middle;\n",
       "    }\n",
       "\n",
       "    .dataframe tbody tr th {\n",
       "        vertical-align: top;\n",
       "    }\n",
       "\n",
       "    .dataframe thead th {\n",
       "        text-align: right;\n",
       "    }\n",
       "</style>\n",
       "<table border=\"1\" class=\"dataframe\">\n",
       "  <thead>\n",
       "    <tr style=\"text-align: right;\">\n",
       "      <th></th>\n",
       "      <th>post</th>\n",
       "      <th>label</th>\n",
       "      <th>date</th>\n",
       "      <th>source</th>\n",
       "      <th>post_clean</th>\n",
       "    </tr>\n",
       "  </thead>\n",
       "  <tbody>\n",
       "    <tr>\n",
       "      <th>0</th>\n",
       "      <td>Need more camp to house all foreign worker</td>\n",
       "      <td>1</td>\n",
       "      <td>2020-04-15 15:09:00</td>\n",
       "      <td>hardwarezone</td>\n",
       "      <td>need camp house</td>\n",
       "    </tr>\n",
       "    <tr>\n",
       "      <th>1</th>\n",
       "      <td>Im interested in the clusters esp new ones. Wh...</td>\n",
       "      <td>1</td>\n",
       "      <td>2020-04-29 23:07:00</td>\n",
       "      <td>hardwarezone</td>\n",
       "      <td>im interested clusters esp new ones see</td>\n",
       "    </tr>\n",
       "    <tr>\n",
       "      <th>2</th>\n",
       "      <td>did the virus make his kkj buay kia?</td>\n",
       "      <td>1</td>\n",
       "      <td>2020-04-23 21:22:00</td>\n",
       "      <td>hardwarezone</td>\n",
       "      <td>make kkj buay kia</td>\n",
       "    </tr>\n",
       "    <tr>\n",
       "      <th>3</th>\n",
       "      <td>I’m not saying there isn’t room for improvemen...</td>\n",
       "      <td>1</td>\n",
       "      <td>2020-04-08 11:23:23</td>\n",
       "      <td>reddit</td>\n",
       "      <td>not saying room improvement point choice nsfs ...</td>\n",
       "    </tr>\n",
       "    <tr>\n",
       "      <th>4</th>\n",
       "      <td>abnn good life no need work get paid and free ...</td>\n",
       "      <td>1</td>\n",
       "      <td>2020-04-05 13:04:00</td>\n",
       "      <td>hardwarezone</td>\n",
       "      <td>abnn good life no need work get paid free food...</td>\n",
       "    </tr>\n",
       "  </tbody>\n",
       "</table>\n",
       "</div>"
      ],
      "text/plain": [
       "                                                post  label  \\\n",
       "0         Need more camp to house all foreign worker      1   \n",
       "1  Im interested in the clusters esp new ones. Wh...      1   \n",
       "2               did the virus make his kkj buay kia?      1   \n",
       "3  I’m not saying there isn’t room for improvemen...      1   \n",
       "4  abnn good life no need work get paid and free ...      1   \n",
       "\n",
       "                  date        source  \\\n",
       "0  2020-04-15 15:09:00  hardwarezone   \n",
       "1  2020-04-29 23:07:00  hardwarezone   \n",
       "2  2020-04-23 21:22:00  hardwarezone   \n",
       "3  2020-04-08 11:23:23        reddit   \n",
       "4  2020-04-05 13:04:00  hardwarezone   \n",
       "\n",
       "                                          post_clean  \n",
       "0                                    need camp house  \n",
       "1            im interested clusters esp new ones see  \n",
       "2                                  make kkj buay kia  \n",
       "3  not saying room improvement point choice nsfs ...  \n",
       "4  abnn good life no need work get paid free food...  "
      ]
     },
     "execution_count": 6,
     "metadata": {},
     "output_type": "execute_result"
    }
   ],
   "source": [
    "test = pd.read_csv('../labelled_posts/test_posts_labelled_checked.csv')\n",
    "test.head()"
   ]
  },
  {
   "cell_type": "code",
   "execution_count": 7,
   "metadata": {},
   "outputs": [
    {
     "data": {
      "text/plain": [
       "post          0\n",
       "label         0\n",
       "date          0\n",
       "source        0\n",
       "post_clean    8\n",
       "dtype: int64"
      ]
     },
     "metadata": {},
     "output_type": "display_data"
    },
    {
     "data": {
      "text/html": [
       "<div>\n",
       "<style scoped>\n",
       "    .dataframe tbody tr th:only-of-type {\n",
       "        vertical-align: middle;\n",
       "    }\n",
       "\n",
       "    .dataframe tbody tr th {\n",
       "        vertical-align: top;\n",
       "    }\n",
       "\n",
       "    .dataframe thead th {\n",
       "        text-align: right;\n",
       "    }\n",
       "</style>\n",
       "<table border=\"1\" class=\"dataframe\">\n",
       "  <thead>\n",
       "    <tr style=\"text-align: right;\">\n",
       "      <th></th>\n",
       "      <th>post</th>\n",
       "      <th>label</th>\n",
       "      <th>date</th>\n",
       "      <th>source</th>\n",
       "      <th>post_clean</th>\n",
       "    </tr>\n",
       "  </thead>\n",
       "  <tbody>\n",
       "    <tr>\n",
       "      <th>0</th>\n",
       "      <td>Need more camp to house all foreign worker</td>\n",
       "      <td>1</td>\n",
       "      <td>2020-04-15 15:09:00</td>\n",
       "      <td>hardwarezone</td>\n",
       "      <td>need camp house</td>\n",
       "    </tr>\n",
       "    <tr>\n",
       "      <th>1</th>\n",
       "      <td>Im interested in the clusters esp new ones. Wh...</td>\n",
       "      <td>1</td>\n",
       "      <td>2020-04-29 23:07:00</td>\n",
       "      <td>hardwarezone</td>\n",
       "      <td>im interested clusters esp new ones see</td>\n",
       "    </tr>\n",
       "  </tbody>\n",
       "</table>\n",
       "</div>"
      ],
      "text/plain": [
       "                                                post  label  \\\n",
       "0         Need more camp to house all foreign worker      1   \n",
       "1  Im interested in the clusters esp new ones. Wh...      1   \n",
       "\n",
       "                  date        source                               post_clean  \n",
       "0  2020-04-15 15:09:00  hardwarezone                          need camp house  \n",
       "1  2020-04-29 23:07:00  hardwarezone  im interested clusters esp new ones see  "
      ]
     },
     "execution_count": 7,
     "metadata": {},
     "output_type": "execute_result"
    }
   ],
   "source": [
    "display(test.isnull().sum())\n",
    "test.fillna('nopost', inplace=True)\n",
    "test.head(2)"
   ]
  },
  {
   "cell_type": "markdown",
   "metadata": {},
   "source": [
    "---\n",
    "## Preprocessing of posts in train and test sets"
   ]
  },
  {
   "cell_type": "markdown",
   "metadata": {},
   "source": [
    "### Preprocessing train posts - for classification models, logreg and multinomial naive bayes \n",
    "\n",
    "Preprocessing for RNN model already done"
   ]
  },
  {
   "cell_type": "code",
   "execution_count": 8,
   "metadata": {},
   "outputs": [
    {
     "name": "stdout",
     "output_type": "stream",
     "text": [
      "157\n"
     ]
    },
    {
     "data": {
      "text/plain": [
       "181"
      ]
     },
     "execution_count": 8,
     "metadata": {},
     "output_type": "execute_result"
    }
   ],
   "source": [
    "#dealing with stopwords \n",
    "\n",
    "#first cut - removing words from stopwords that indicate sentiment \n",
    "remove_words = [\"no\", \"not\", \"against\", \"don't\", \"should\", \"should've\", \"couldn\", \"couldn't\",'didn', \"didn't\",\n",
    "                   'doesn',\"doesn't\",'shouldn',\"shouldn't\",'wasn',\"wasn't\",'weren',\"weren't\",'won',\"won't\",\n",
    "                   'wouldn',\"wouldn't\"]\n",
    "stopwords = [word for word in stopwords.words('english') if word not in remove_words]\n",
    "print(len(stopwords))\n",
    "\n",
    "#also adding words that are either common words, singaporean slang or noisy words from forum posts\n",
    "add_words = ['foreign', 'migrant', 'worker', 'workers', 'fw', 'dorm', 'dorms', 'dormitory', 'dormitories', 'covid', \n",
    "             '19', 'cases', 'virus', 'coronavirus', 'gagt', 'ah', 'liao', 'lah', 'trt', 'huawei', 'samsung',\n",
    "            'xiaomi', 'l21a', '32']\n",
    "stopwords.extend(add_words)\n",
    "len(stopwords)"
   ]
  },
  {
   "cell_type": "code",
   "execution_count": 9,
   "metadata": {},
   "outputs": [],
   "source": [
    "def preprocess(word):\n",
    "     \n",
    "    # tokenize and convert lower \n",
    "    # \\w also removes punctuation - may need to add extra no punc if tokenizing does not do it\n",
    "    token = RegexpTokenizer(r'\\w+')\n",
    "    tokens = token.tokenize(word.lower())\n",
    "    \n",
    "   #remove stopwords \n",
    "    no_stop = [word for word in tokens if word not in stopwords]\n",
    "\n",
    "    no_stopword = (' '.join(no_stop))\n",
    "        \n",
    "    #lemmatize words\n",
    "    lemmatizer = WordNetLemmatizer()\n",
    "    lem = [lemmatizer.lemmatize(word) for word in no_stopword]\n",
    "    \n",
    "    #return words as a single string \n",
    "    return(''.join(lem))"
   ]
  },
  {
   "cell_type": "code",
   "execution_count": 10,
   "metadata": {
    "scrolled": false
   },
   "outputs": [
    {
     "name": "stdout",
     "output_type": "stream",
     "text": [
      "checking post_clean: \n",
      "['no new cluster beside two days', 'consistency accuracy could easier use data new moh situation report separates non foreigners citizen pr think count named clusters either linked construction sites live non cluster get categorized linked clusters pending investigations respectively moh situation report 28 3 10 4 ltp holders 545 linked clusters 126 linked clusters 141 pending investigations whereas estimate time period 702 construction related reason make graphs really 2 separate problems singapore circuit breaker slow growth general public stopping work construction sites circuit breaker doesn help construction site problem construction site problem tackled improving living conditions testing separating sick well conversely issues way many people exercising eating hawker centres sneakily meeting etc affect non problem yes testing situation worrisome not know prioritizing tests would political suicide moh admit either prioritizing sc pr first patriotism urgent separate sick cramped conditions', 'iq lower 86 believe csb maids pregnant nothing fws sex friends catholic believe immaculate inception like mary', 'work nearby westlite toh guan initial reports westlite saw still open operating usual even food stalls provision shop rather surprised didn try isolate situation earlier understand maybe couldn put everyone shn immediately financial implications wonder still allowed still congregate eating place also allowed provision shop stay open didn see sanitizing stuff going fair telecommuting week may done without seeing many decided lock place also spread toh guan across road couple units quite frustrated something wasn done earlier', 'ho seh']\n"
     ]
    },
    {
     "data": {
      "text/html": [
       "<div>\n",
       "<style scoped>\n",
       "    .dataframe tbody tr th:only-of-type {\n",
       "        vertical-align: middle;\n",
       "    }\n",
       "\n",
       "    .dataframe tbody tr th {\n",
       "        vertical-align: top;\n",
       "    }\n",
       "\n",
       "    .dataframe thead th {\n",
       "        text-align: right;\n",
       "    }\n",
       "</style>\n",
       "<table border=\"1\" class=\"dataframe\">\n",
       "  <thead>\n",
       "    <tr style=\"text-align: right;\">\n",
       "      <th></th>\n",
       "      <th>post</th>\n",
       "      <th>label</th>\n",
       "      <th>date</th>\n",
       "      <th>source</th>\n",
       "      <th>post_clean_for_rnn</th>\n",
       "      <th>post_clean_nb_logreg</th>\n",
       "    </tr>\n",
       "  </thead>\n",
       "  <tbody>\n",
       "    <tr>\n",
       "      <th>0</th>\n",
       "      <td>There is no new cluster beside the dorm for tw...</td>\n",
       "      <td>2.0</td>\n",
       "      <td>2020-10-04 08:34:00</td>\n",
       "      <td>hardwarezone</td>\n",
       "      <td>there is no new cluster beside the dorm for tw...</td>\n",
       "      <td>no new cluster beside two days</td>\n",
       "    </tr>\n",
       "    <tr>\n",
       "      <th>1</th>\n",
       "      <td>&gt;For consistency and accuracy, it could be eas...</td>\n",
       "      <td>0.0</td>\n",
       "      <td>2020-04-11 12:26:38</td>\n",
       "      <td>reddit</td>\n",
       "      <td>for consistency and accuracy it could be easie...</td>\n",
       "      <td>consistency accuracy could easier use data new...</td>\n",
       "    </tr>\n",
       "    <tr>\n",
       "      <th>2</th>\n",
       "      <td>Only IQ lower than 86 will believe this CSB.Wh...</td>\n",
       "      <td>0.0</td>\n",
       "      <td>2020-04-23 10:42:00</td>\n",
       "      <td>hardwarezone</td>\n",
       "      <td>only iq lower than 86 will believe this csb wh...</td>\n",
       "      <td>iq lower 86 believe csb maids pregnant nothing...</td>\n",
       "    </tr>\n",
       "    <tr>\n",
       "      <th>3</th>\n",
       "      <td>I work nearby to the Westlite and Toh Guan Dor...</td>\n",
       "      <td>0.0</td>\n",
       "      <td>2020-04-06 20:55:47</td>\n",
       "      <td>reddit</td>\n",
       "      <td>i work nearby to the westlite and toh guan dor...</td>\n",
       "      <td>work nearby westlite toh guan initial reports ...</td>\n",
       "    </tr>\n",
       "    <tr>\n",
       "      <th>4</th>\n",
       "      <td>Ho seh liao</td>\n",
       "      <td>0.0</td>\n",
       "      <td>2020-09-04 21:43:00</td>\n",
       "      <td>hardwarezone</td>\n",
       "      <td>ho seh liao</td>\n",
       "      <td>ho seh</td>\n",
       "    </tr>\n",
       "    <tr>\n",
       "      <th>5</th>\n",
       "      <td>I’m not saying we caused this spread among the...</td>\n",
       "      <td>0.0</td>\n",
       "      <td>2020-04-16 23:59:35</td>\n",
       "      <td>reddit</td>\n",
       "      <td>i m not saying we caused this spread among the...</td>\n",
       "      <td>not saying caused spread among agree oversight...</td>\n",
       "    </tr>\n",
       "    <tr>\n",
       "      <th>6</th>\n",
       "      <td>1. From healthy no wear mask to Mask mandatory...</td>\n",
       "      <td>0.0</td>\n",
       "      <td>2020-04-14 20:29:00</td>\n",
       "      <td>hardwarezone</td>\n",
       "      <td>1 from healthy no wear mask to mask mandatory ...</td>\n",
       "      <td>1 healthy no wear mask mask mandatory 2 many 9...</td>\n",
       "    </tr>\n",
       "    <tr>\n",
       "      <th>7</th>\n",
       "      <td>Exactly. People don’t even wanna let our publi...</td>\n",
       "      <td>2.0</td>\n",
       "      <td>2020-05-27 20:28:30</td>\n",
       "      <td>reddit</td>\n",
       "      <td>exactly people don t even wanna let our public...</td>\n",
       "      <td>exactly people even wanna let public servants ...</td>\n",
       "    </tr>\n",
       "    <tr>\n",
       "      <th>8</th>\n",
       "      <td>The current situation is beyond this woman. 24...</td>\n",
       "      <td>1.0</td>\n",
       "      <td>2020-06-06 14:40:00</td>\n",
       "      <td>sgtalk</td>\n",
       "      <td>the current situation is beyond this woman 24h...</td>\n",
       "      <td>current situation beyond woman 24hrs day not e...</td>\n",
       "    </tr>\n",
       "    <tr>\n",
       "      <th>9</th>\n",
       "      <td>Iran, followed by China, India, Israel, Saudi ...</td>\n",
       "      <td>0.0</td>\n",
       "      <td>2020-04-23 17:52:00</td>\n",
       "      <td>hardwarezone</td>\n",
       "      <td>iran followed by china india israel saudi arab...</td>\n",
       "      <td>iran followed china india israel saudi arabia ...</td>\n",
       "    </tr>\n",
       "  </tbody>\n",
       "</table>\n",
       "</div>"
      ],
      "text/plain": [
       "                                                post  label  \\\n",
       "0  There is no new cluster beside the dorm for tw...    2.0   \n",
       "1  >For consistency and accuracy, it could be eas...    0.0   \n",
       "2  Only IQ lower than 86 will believe this CSB.Wh...    0.0   \n",
       "3  I work nearby to the Westlite and Toh Guan Dor...    0.0   \n",
       "4                                        Ho seh liao    0.0   \n",
       "5  I’m not saying we caused this spread among the...    0.0   \n",
       "6  1. From healthy no wear mask to Mask mandatory...    0.0   \n",
       "7  Exactly. People don’t even wanna let our publi...    2.0   \n",
       "8  The current situation is beyond this woman. 24...    1.0   \n",
       "9  Iran, followed by China, India, Israel, Saudi ...    0.0   \n",
       "\n",
       "                  date        source  \\\n",
       "0  2020-10-04 08:34:00  hardwarezone   \n",
       "1  2020-04-11 12:26:38        reddit   \n",
       "2  2020-04-23 10:42:00  hardwarezone   \n",
       "3  2020-04-06 20:55:47        reddit   \n",
       "4  2020-09-04 21:43:00  hardwarezone   \n",
       "5  2020-04-16 23:59:35        reddit   \n",
       "6  2020-04-14 20:29:00  hardwarezone   \n",
       "7  2020-05-27 20:28:30        reddit   \n",
       "8  2020-06-06 14:40:00        sgtalk   \n",
       "9  2020-04-23 17:52:00  hardwarezone   \n",
       "\n",
       "                                  post_clean_for_rnn  \\\n",
       "0  there is no new cluster beside the dorm for tw...   \n",
       "1  for consistency and accuracy it could be easie...   \n",
       "2  only iq lower than 86 will believe this csb wh...   \n",
       "3  i work nearby to the westlite and toh guan dor...   \n",
       "4                                        ho seh liao   \n",
       "5  i m not saying we caused this spread among the...   \n",
       "6  1 from healthy no wear mask to mask mandatory ...   \n",
       "7  exactly people don t even wanna let our public...   \n",
       "8  the current situation is beyond this woman 24h...   \n",
       "9  iran followed by china india israel saudi arab...   \n",
       "\n",
       "                                post_clean_nb_logreg  \n",
       "0                     no new cluster beside two days  \n",
       "1  consistency accuracy could easier use data new...  \n",
       "2  iq lower 86 believe csb maids pregnant nothing...  \n",
       "3  work nearby westlite toh guan initial reports ...  \n",
       "4                                             ho seh  \n",
       "5  not saying caused spread among agree oversight...  \n",
       "6  1 healthy no wear mask mask mandatory 2 many 9...  \n",
       "7  exactly people even wanna let public servants ...  \n",
       "8  current situation beyond woman 24hrs day not e...  \n",
       "9  iran followed china india israel saudi arabia ...  "
      ]
     },
     "execution_count": 10,
     "metadata": {},
     "output_type": "execute_result"
    }
   ],
   "source": [
    "post_clean = []\n",
    "\n",
    "for p in train[\"post\"]:\n",
    "    post_clean.append(preprocess(p))\n",
    "\n",
    "print(f\"checking post_clean: \\n{post_clean[0:5]}\")\n",
    "\n",
    "train['post_clean_nb_logreg'] = post_clean\n",
    "train.head(10)"
   ]
  },
  {
   "cell_type": "markdown",
   "metadata": {},
   "source": [
    "### Preprocessing for test posts - for Recurrent Neural Network model \n",
    "\n",
    "Preprocessing for classification models - logreg and multinomial naive bayes already done"
   ]
  },
  {
   "cell_type": "code",
   "execution_count": 11,
   "metadata": {},
   "outputs": [],
   "source": [
    "# will not remove stop words to help with sequentiality \n",
    "\n",
    "def preprocess_rnn(word):\n",
    "     \n",
    "    # tokenize and convert lower \n",
    "    # \\w also removes punctuation - may need to add extra no punc if tokenizing does not do it\n",
    "    token = RegexpTokenizer(r'\\w+')\n",
    "    tokens = token.tokenize(word.lower())\n",
    " \n",
    "    #lemmatize words\n",
    "    lemmatizer = WordNetLemmatizer()\n",
    "    lem = [lemmatizer.lemmatize(word) for word in tokens]\n",
    "    \n",
    "    #return words as a single string \n",
    "    return(' '.join(lem))"
   ]
  },
  {
   "cell_type": "code",
   "execution_count": 12,
   "metadata": {},
   "outputs": [
    {
     "name": "stdout",
     "output_type": "stream",
     "text": [
      "checking post_clean_for_rnn: \n",
      "['im interested in the cluster esp new one where can i see', 'did the virus make his kkj buay kia']\n"
     ]
    },
    {
     "data": {
      "text/html": [
       "<div>\n",
       "<style scoped>\n",
       "    .dataframe tbody tr th:only-of-type {\n",
       "        vertical-align: middle;\n",
       "    }\n",
       "\n",
       "    .dataframe tbody tr th {\n",
       "        vertical-align: top;\n",
       "    }\n",
       "\n",
       "    .dataframe thead th {\n",
       "        text-align: right;\n",
       "    }\n",
       "</style>\n",
       "<table border=\"1\" class=\"dataframe\">\n",
       "  <thead>\n",
       "    <tr style=\"text-align: right;\">\n",
       "      <th></th>\n",
       "      <th>post</th>\n",
       "      <th>label</th>\n",
       "      <th>date</th>\n",
       "      <th>source</th>\n",
       "      <th>post_clean</th>\n",
       "      <th>post_clean_for_rnn</th>\n",
       "    </tr>\n",
       "  </thead>\n",
       "  <tbody>\n",
       "    <tr>\n",
       "      <th>0</th>\n",
       "      <td>Need more camp to house all foreign worker</td>\n",
       "      <td>1</td>\n",
       "      <td>2020-04-15 15:09:00</td>\n",
       "      <td>hardwarezone</td>\n",
       "      <td>need camp house</td>\n",
       "      <td>need more camp to house all foreign worker</td>\n",
       "    </tr>\n",
       "    <tr>\n",
       "      <th>1</th>\n",
       "      <td>Im interested in the clusters esp new ones. Wh...</td>\n",
       "      <td>1</td>\n",
       "      <td>2020-04-29 23:07:00</td>\n",
       "      <td>hardwarezone</td>\n",
       "      <td>im interested clusters esp new ones see</td>\n",
       "      <td>im interested in the cluster esp new one where...</td>\n",
       "    </tr>\n",
       "    <tr>\n",
       "      <th>2</th>\n",
       "      <td>did the virus make his kkj buay kia?</td>\n",
       "      <td>1</td>\n",
       "      <td>2020-04-23 21:22:00</td>\n",
       "      <td>hardwarezone</td>\n",
       "      <td>make kkj buay kia</td>\n",
       "      <td>did the virus make his kkj buay kia</td>\n",
       "    </tr>\n",
       "    <tr>\n",
       "      <th>3</th>\n",
       "      <td>I’m not saying there isn’t room for improvemen...</td>\n",
       "      <td>1</td>\n",
       "      <td>2020-04-08 11:23:23</td>\n",
       "      <td>reddit</td>\n",
       "      <td>not saying room improvement point choice nsfs ...</td>\n",
       "      <td>i m not saying there isn t room for improvemen...</td>\n",
       "    </tr>\n",
       "    <tr>\n",
       "      <th>4</th>\n",
       "      <td>abnn good life no need work get paid and free ...</td>\n",
       "      <td>1</td>\n",
       "      <td>2020-04-05 13:04:00</td>\n",
       "      <td>hardwarezone</td>\n",
       "      <td>abnn good life no need work get paid free food...</td>\n",
       "      <td>abnn good life no need work get paid and free ...</td>\n",
       "    </tr>\n",
       "    <tr>\n",
       "      <th>5</th>\n",
       "      <td>I have some information that some of these cb ...</td>\n",
       "      <td>1</td>\n",
       "      <td>2020-04-14 20:23:00</td>\n",
       "      <td>hardwarezone</td>\n",
       "      <td>information cb companies already pulled house ...</td>\n",
       "      <td>i have some information that some of these cb ...</td>\n",
       "    </tr>\n",
       "    <tr>\n",
       "      <th>6</th>\n",
       "      <td>A total of 122 are still unlinked, pending con...</td>\n",
       "      <td>1</td>\n",
       "      <td>2020-04-14 20:26:00</td>\n",
       "      <td>hardwarezone</td>\n",
       "      <td>total 122 still unlinked pending contact traci...</td>\n",
       "      <td>a total of 122 are still unlinked pending cont...</td>\n",
       "    </tr>\n",
       "    <tr>\n",
       "      <th>7</th>\n",
       "      <td>Case 1121 Mr.Worldwide</td>\n",
       "      <td>1</td>\n",
       "      <td>2020-04-04 21:53:14</td>\n",
       "      <td>reddit</td>\n",
       "      <td>case 1121 mr worldwide</td>\n",
       "      <td>case 1121 mr worldwide</td>\n",
       "    </tr>\n",
       "    <tr>\n",
       "      <th>8</th>\n",
       "      <td>I expect another national broadcast in 1 weeks...</td>\n",
       "      <td>1</td>\n",
       "      <td>2020-05-04 19:20:00</td>\n",
       "      <td>hardwarezone</td>\n",
       "      <td>expect another national broadcast 1 weeks time...</td>\n",
       "      <td>i expect another national broadcast in 1 week ...</td>\n",
       "    </tr>\n",
       "    <tr>\n",
       "      <th>9</th>\n",
       "      <td>Even if not govt's fault, they took their eyes...</td>\n",
       "      <td>0</td>\n",
       "      <td>2020-04-17 16:56:00</td>\n",
       "      <td>sgtalk</td>\n",
       "      <td>even not govt fault took eyes ball not sure cl...</td>\n",
       "      <td>even if not govt s fault they took their eye o...</td>\n",
       "    </tr>\n",
       "  </tbody>\n",
       "</table>\n",
       "</div>"
      ],
      "text/plain": [
       "                                                post  label  \\\n",
       "0         Need more camp to house all foreign worker      1   \n",
       "1  Im interested in the clusters esp new ones. Wh...      1   \n",
       "2               did the virus make his kkj buay kia?      1   \n",
       "3  I’m not saying there isn’t room for improvemen...      1   \n",
       "4  abnn good life no need work get paid and free ...      1   \n",
       "5  I have some information that some of these cb ...      1   \n",
       "6  A total of 122 are still unlinked, pending con...      1   \n",
       "7                             Case 1121 Mr.Worldwide      1   \n",
       "8  I expect another national broadcast in 1 weeks...      1   \n",
       "9  Even if not govt's fault, they took their eyes...      0   \n",
       "\n",
       "                  date        source  \\\n",
       "0  2020-04-15 15:09:00  hardwarezone   \n",
       "1  2020-04-29 23:07:00  hardwarezone   \n",
       "2  2020-04-23 21:22:00  hardwarezone   \n",
       "3  2020-04-08 11:23:23        reddit   \n",
       "4  2020-04-05 13:04:00  hardwarezone   \n",
       "5  2020-04-14 20:23:00  hardwarezone   \n",
       "6  2020-04-14 20:26:00  hardwarezone   \n",
       "7  2020-04-04 21:53:14        reddit   \n",
       "8  2020-05-04 19:20:00  hardwarezone   \n",
       "9  2020-04-17 16:56:00        sgtalk   \n",
       "\n",
       "                                          post_clean  \\\n",
       "0                                    need camp house   \n",
       "1            im interested clusters esp new ones see   \n",
       "2                                  make kkj buay kia   \n",
       "3  not saying room improvement point choice nsfs ...   \n",
       "4  abnn good life no need work get paid free food...   \n",
       "5  information cb companies already pulled house ...   \n",
       "6  total 122 still unlinked pending contact traci...   \n",
       "7                             case 1121 mr worldwide   \n",
       "8  expect another national broadcast 1 weeks time...   \n",
       "9  even not govt fault took eyes ball not sure cl...   \n",
       "\n",
       "                                  post_clean_for_rnn  \n",
       "0         need more camp to house all foreign worker  \n",
       "1  im interested in the cluster esp new one where...  \n",
       "2                did the virus make his kkj buay kia  \n",
       "3  i m not saying there isn t room for improvemen...  \n",
       "4  abnn good life no need work get paid and free ...  \n",
       "5  i have some information that some of these cb ...  \n",
       "6  a total of 122 are still unlinked pending cont...  \n",
       "7                             case 1121 mr worldwide  \n",
       "8  i expect another national broadcast in 1 week ...  \n",
       "9  even if not govt s fault they took their eye o...  "
      ]
     },
     "execution_count": 12,
     "metadata": {},
     "output_type": "execute_result"
    }
   ],
   "source": [
    "post_clean_for_rnn = []\n",
    "\n",
    "for p in test[\"post\"]:\n",
    "    post_clean_for_rnn.append(preprocess_rnn(p))\n",
    "\n",
    "print(f\"checking post_clean_for_rnn: \\n{post_clean_for_rnn[1:3]}\")\n",
    "\n",
    "test['post_clean_for_rnn'] = post_clean_for_rnn\n",
    "test.head(10)"
   ]
  },
  {
   "cell_type": "code",
   "execution_count": 13,
   "metadata": {},
   "outputs": [
    {
     "data": {
      "text/plain": [
       "(2055, 6)"
      ]
     },
     "metadata": {},
     "output_type": "display_data"
    },
    {
     "data": {
      "text/html": [
       "<div>\n",
       "<style scoped>\n",
       "    .dataframe tbody tr th:only-of-type {\n",
       "        vertical-align: middle;\n",
       "    }\n",
       "\n",
       "    .dataframe tbody tr th {\n",
       "        vertical-align: top;\n",
       "    }\n",
       "\n",
       "    .dataframe thead th {\n",
       "        text-align: right;\n",
       "    }\n",
       "</style>\n",
       "<table border=\"1\" class=\"dataframe\">\n",
       "  <thead>\n",
       "    <tr style=\"text-align: right;\">\n",
       "      <th></th>\n",
       "      <th>post</th>\n",
       "      <th>label</th>\n",
       "      <th>date</th>\n",
       "      <th>source</th>\n",
       "      <th>post_clean_rnn</th>\n",
       "      <th>post_clean_nb_logreg</th>\n",
       "    </tr>\n",
       "  </thead>\n",
       "  <tbody>\n",
       "    <tr>\n",
       "      <th>0</th>\n",
       "      <td>Need more camp to house all foreign worker</td>\n",
       "      <td>1</td>\n",
       "      <td>2020-04-15 15:09:00</td>\n",
       "      <td>hardwarezone</td>\n",
       "      <td>need more camp to house all foreign worker</td>\n",
       "      <td>need camp house</td>\n",
       "    </tr>\n",
       "    <tr>\n",
       "      <th>1</th>\n",
       "      <td>Im interested in the clusters esp new ones. Wh...</td>\n",
       "      <td>1</td>\n",
       "      <td>2020-04-29 23:07:00</td>\n",
       "      <td>hardwarezone</td>\n",
       "      <td>im interested in the cluster esp new one where...</td>\n",
       "      <td>im interested clusters esp new ones see</td>\n",
       "    </tr>\n",
       "  </tbody>\n",
       "</table>\n",
       "</div>"
      ],
      "text/plain": [
       "                                                post  label  \\\n",
       "0         Need more camp to house all foreign worker      1   \n",
       "1  Im interested in the clusters esp new ones. Wh...      1   \n",
       "\n",
       "                  date        source  \\\n",
       "0  2020-04-15 15:09:00  hardwarezone   \n",
       "1  2020-04-29 23:07:00  hardwarezone   \n",
       "\n",
       "                                      post_clean_rnn  \\\n",
       "0         need more camp to house all foreign worker   \n",
       "1  im interested in the cluster esp new one where...   \n",
       "\n",
       "                      post_clean_nb_logreg  \n",
       "0                          need camp house  \n",
       "1  im interested clusters esp new ones see  "
      ]
     },
     "execution_count": 13,
     "metadata": {},
     "output_type": "execute_result"
    }
   ],
   "source": [
    "# renaming and reordering columns in test set \n",
    "\n",
    "test.rename(columns = {'post_clean': 'post_clean_nb_logreg',\n",
    "                      'post_clean_for_rnn': 'post_clean_rnn'}, inplace=True)\n",
    "test = test[['post', 'label', 'date', 'source', 'post_clean_rnn', 'post_clean_nb_logreg']]\n",
    "display(test.shape)\n",
    "test.head(2)"
   ]
  },
  {
   "cell_type": "code",
   "execution_count": 14,
   "metadata": {},
   "outputs": [
    {
     "data": {
      "text/plain": [
       "(8213, 6)"
      ]
     },
     "metadata": {},
     "output_type": "display_data"
    },
    {
     "data": {
      "text/html": [
       "<div>\n",
       "<style scoped>\n",
       "    .dataframe tbody tr th:only-of-type {\n",
       "        vertical-align: middle;\n",
       "    }\n",
       "\n",
       "    .dataframe tbody tr th {\n",
       "        vertical-align: top;\n",
       "    }\n",
       "\n",
       "    .dataframe thead th {\n",
       "        text-align: right;\n",
       "    }\n",
       "</style>\n",
       "<table border=\"1\" class=\"dataframe\">\n",
       "  <thead>\n",
       "    <tr style=\"text-align: right;\">\n",
       "      <th></th>\n",
       "      <th>post</th>\n",
       "      <th>label</th>\n",
       "      <th>date</th>\n",
       "      <th>source</th>\n",
       "      <th>post_clean_rnn</th>\n",
       "      <th>post_clean_nb_logreg</th>\n",
       "    </tr>\n",
       "  </thead>\n",
       "  <tbody>\n",
       "    <tr>\n",
       "      <th>0</th>\n",
       "      <td>There is no new cluster beside the dorm for tw...</td>\n",
       "      <td>2.0</td>\n",
       "      <td>2020-10-04 08:34:00</td>\n",
       "      <td>hardwarezone</td>\n",
       "      <td>there is no new cluster beside the dorm for tw...</td>\n",
       "      <td>no new cluster beside two days</td>\n",
       "    </tr>\n",
       "    <tr>\n",
       "      <th>1</th>\n",
       "      <td>&gt;For consistency and accuracy, it could be eas...</td>\n",
       "      <td>0.0</td>\n",
       "      <td>2020-04-11 12:26:38</td>\n",
       "      <td>reddit</td>\n",
       "      <td>for consistency and accuracy it could be easie...</td>\n",
       "      <td>consistency accuracy could easier use data new...</td>\n",
       "    </tr>\n",
       "  </tbody>\n",
       "</table>\n",
       "</div>"
      ],
      "text/plain": [
       "                                                post  label  \\\n",
       "0  There is no new cluster beside the dorm for tw...    2.0   \n",
       "1  >For consistency and accuracy, it could be eas...    0.0   \n",
       "\n",
       "                  date        source  \\\n",
       "0  2020-10-04 08:34:00  hardwarezone   \n",
       "1  2020-04-11 12:26:38        reddit   \n",
       "\n",
       "                                      post_clean_rnn  \\\n",
       "0  there is no new cluster beside the dorm for tw...   \n",
       "1  for consistency and accuracy it could be easie...   \n",
       "\n",
       "                                post_clean_nb_logreg  \n",
       "0                     no new cluster beside two days  \n",
       "1  consistency accuracy could easier use data new...  "
      ]
     },
     "execution_count": 14,
     "metadata": {},
     "output_type": "execute_result"
    }
   ],
   "source": [
    "# renaming columns in train set \n",
    "train.rename(columns = {'post_clean_for_rnn': 'post_clean_rnn'}, inplace=True)\n",
    "display(train.shape)\n",
    "train.head(2)"
   ]
  },
  {
   "cell_type": "markdown",
   "metadata": {},
   "source": [
    "### Merging train and test data "
   ]
  },
  {
   "cell_type": "code",
   "execution_count": 15,
   "metadata": {},
   "outputs": [
    {
     "data": {
      "text/plain": [
       "(10268, 6)"
      ]
     },
     "metadata": {},
     "output_type": "display_data"
    },
    {
     "data": {
      "text/html": [
       "<div>\n",
       "<style scoped>\n",
       "    .dataframe tbody tr th:only-of-type {\n",
       "        vertical-align: middle;\n",
       "    }\n",
       "\n",
       "    .dataframe tbody tr th {\n",
       "        vertical-align: top;\n",
       "    }\n",
       "\n",
       "    .dataframe thead th {\n",
       "        text-align: right;\n",
       "    }\n",
       "</style>\n",
       "<table border=\"1\" class=\"dataframe\">\n",
       "  <thead>\n",
       "    <tr style=\"text-align: right;\">\n",
       "      <th></th>\n",
       "      <th>post</th>\n",
       "      <th>label</th>\n",
       "      <th>date</th>\n",
       "      <th>source</th>\n",
       "      <th>post_clean_rnn</th>\n",
       "      <th>post_clean_nb_logreg</th>\n",
       "    </tr>\n",
       "  </thead>\n",
       "  <tbody>\n",
       "    <tr>\n",
       "      <th>0</th>\n",
       "      <td>There is no new cluster beside the dorm for tw...</td>\n",
       "      <td>2.0</td>\n",
       "      <td>2020-10-04 08:34:00</td>\n",
       "      <td>hardwarezone</td>\n",
       "      <td>there is no new cluster beside the dorm for tw...</td>\n",
       "      <td>no new cluster beside two days</td>\n",
       "    </tr>\n",
       "    <tr>\n",
       "      <th>1</th>\n",
       "      <td>&gt;For consistency and accuracy, it could be eas...</td>\n",
       "      <td>0.0</td>\n",
       "      <td>2020-04-11 12:26:38</td>\n",
       "      <td>reddit</td>\n",
       "      <td>for consistency and accuracy it could be easie...</td>\n",
       "      <td>consistency accuracy could easier use data new...</td>\n",
       "    </tr>\n",
       "    <tr>\n",
       "      <th>2</th>\n",
       "      <td>Only IQ lower than 86 will believe this CSB.Wh...</td>\n",
       "      <td>0.0</td>\n",
       "      <td>2020-04-23 10:42:00</td>\n",
       "      <td>hardwarezone</td>\n",
       "      <td>only iq lower than 86 will believe this csb wh...</td>\n",
       "      <td>iq lower 86 believe csb maids pregnant nothing...</td>\n",
       "    </tr>\n",
       "    <tr>\n",
       "      <th>3</th>\n",
       "      <td>I work nearby to the Westlite and Toh Guan Dor...</td>\n",
       "      <td>0.0</td>\n",
       "      <td>2020-04-06 20:55:47</td>\n",
       "      <td>reddit</td>\n",
       "      <td>i work nearby to the westlite and toh guan dor...</td>\n",
       "      <td>work nearby westlite toh guan initial reports ...</td>\n",
       "    </tr>\n",
       "    <tr>\n",
       "      <th>4</th>\n",
       "      <td>Ho seh liao</td>\n",
       "      <td>0.0</td>\n",
       "      <td>2020-09-04 21:43:00</td>\n",
       "      <td>hardwarezone</td>\n",
       "      <td>ho seh liao</td>\n",
       "      <td>ho seh</td>\n",
       "    </tr>\n",
       "  </tbody>\n",
       "</table>\n",
       "</div>"
      ],
      "text/plain": [
       "                                                post  label  \\\n",
       "0  There is no new cluster beside the dorm for tw...    2.0   \n",
       "1  >For consistency and accuracy, it could be eas...    0.0   \n",
       "2  Only IQ lower than 86 will believe this CSB.Wh...    0.0   \n",
       "3  I work nearby to the Westlite and Toh Guan Dor...    0.0   \n",
       "4                                        Ho seh liao    0.0   \n",
       "\n",
       "                  date        source  \\\n",
       "0  2020-10-04 08:34:00  hardwarezone   \n",
       "1  2020-04-11 12:26:38        reddit   \n",
       "2  2020-04-23 10:42:00  hardwarezone   \n",
       "3  2020-04-06 20:55:47        reddit   \n",
       "4  2020-09-04 21:43:00  hardwarezone   \n",
       "\n",
       "                                      post_clean_rnn  \\\n",
       "0  there is no new cluster beside the dorm for tw...   \n",
       "1  for consistency and accuracy it could be easie...   \n",
       "2  only iq lower than 86 will believe this csb wh...   \n",
       "3  i work nearby to the westlite and toh guan dor...   \n",
       "4                                        ho seh liao   \n",
       "\n",
       "                                post_clean_nb_logreg  \n",
       "0                     no new cluster beside two days  \n",
       "1  consistency accuracy could easier use data new...  \n",
       "2  iq lower 86 believe csb maids pregnant nothing...  \n",
       "3  work nearby westlite toh guan initial reports ...  \n",
       "4                                             ho seh  "
      ]
     },
     "execution_count": 15,
     "metadata": {},
     "output_type": "execute_result"
    }
   ],
   "source": [
    "all_posts = pd.concat([train, test], axis = 0, ignore_index=True)\n",
    "display(all_posts.shape)\n",
    "all_posts.head()"
   ]
  },
  {
   "cell_type": "code",
   "execution_count": 16,
   "metadata": {},
   "outputs": [
    {
     "data": {
      "text/plain": [
       "1.0    8907\n",
       "0.0    1120\n",
       "2.0     241\n",
       "Name: label, dtype: int64"
      ]
     },
     "execution_count": 16,
     "metadata": {},
     "output_type": "execute_result"
    }
   ],
   "source": [
    "all_posts['label'].value_counts()"
   ]
  },
  {
   "cell_type": "code",
   "execution_count": 17,
   "metadata": {},
   "outputs": [],
   "source": [
    "#export allposts \n",
    "\n",
    "all_posts.to_csv('../labelled_posts/all_posts_labelled.csv', index = False)"
   ]
  },
  {
   "cell_type": "markdown",
   "metadata": {},
   "source": [
    "---\n",
    "## Evaluating performance of RNN model on entire dataset"
   ]
  },
  {
   "cell_type": "code",
   "execution_count": 19,
   "metadata": {},
   "outputs": [
    {
     "name": "stdout",
     "output_type": "stream",
     "text": [
      "Found 17458 unique tokens.\n"
     ]
    }
   ],
   "source": [
    "#Vectorize post text, by turning each text into either a sequence of integers or into a vector\n",
    "\n",
    "# The maximum number of words to be used. (most frequent)\n",
    "max_nb_words = 50000\n",
    "\n",
    "# Max number of words in each complaint.\n",
    "max_seq_length = 512\n",
    "\n",
    "# This is fixed.\n",
    "embedding_dim = 100\n",
    "\n",
    "tokenizer = Tokenizer(num_words=max_nb_words, filters='!\"#$%&()*+,-./:;<=>?@[\\]^_`{|}~', lower=True)\n",
    "tokenizer.fit_on_texts(all_posts['post_clean_rnn'].values)\n",
    "word_index = tokenizer.word_index\n",
    "print('Found %s unique tokens.' % len(word_index))"
   ]
  },
  {
   "cell_type": "code",
   "execution_count": 20,
   "metadata": {},
   "outputs": [
    {
     "name": "stdout",
     "output_type": "stream",
     "text": [
      "Shape of data tensor: (10268, 512)\n"
     ]
    }
   ],
   "source": [
    "#truncate and pad \n",
    "X = tokenizer.texts_to_sequences(all_posts['post_clean_rnn'].values)\n",
    "X = pad_sequences(X, maxlen=max_seq_length)\n",
    "print('Shape of data tensor:', X.shape)"
   ]
  },
  {
   "cell_type": "code",
   "execution_count": 21,
   "metadata": {},
   "outputs": [
    {
     "data": {
      "text/plain": [
       "(10268, 3)"
      ]
     },
     "execution_count": 21,
     "metadata": {},
     "output_type": "execute_result"
    }
   ],
   "source": [
    "#one hot encoding labels \n",
    "y = pd.get_dummies(all_posts['label']).values\n",
    "y.shape"
   ]
  },
  {
   "cell_type": "code",
   "execution_count": 22,
   "metadata": {},
   "outputs": [
    {
     "name": "stdout",
     "output_type": "stream",
     "text": [
      "(8214, 512) (8214, 3)\n",
      "(2054, 512) (2054, 3)\n"
     ]
    }
   ],
   "source": [
    "X_train, X_val, y_train, y_val = train_test_split(X, y, test_size = .2, \n",
    "                                                 stratify = y, random_state = 42)\n",
    "\n",
    "print(X_train.shape,y_train.shape)\n",
    "print(X_val.shape,y_val.shape)"
   ]
  },
  {
   "cell_type": "code",
   "execution_count": 23,
   "metadata": {},
   "outputs": [],
   "source": [
    "# Scale\n",
    "ss = StandardScaler()\n",
    "X_train = ss.fit_transform(X_train)\n",
    "X_val = ss.transform(X_val)"
   ]
  },
  {
   "cell_type": "code",
   "execution_count": 24,
   "metadata": {},
   "outputs": [
    {
     "name": "stdout",
     "output_type": "stream",
     "text": [
      "Model: \"sequential\"\n",
      "_________________________________________________________________\n",
      "Layer (type)                 Output Shape              Param #   \n",
      "=================================================================\n",
      "embedding (Embedding)        (None, 512, 100)          5000000   \n",
      "_________________________________________________________________\n",
      "spatial_dropout1d (SpatialDr (None, 512, 100)          0         \n",
      "_________________________________________________________________\n",
      "lstm (LSTM)                  (None, 100)               80400     \n",
      "_________________________________________________________________\n",
      "dense (Dense)                (None, 128)               12928     \n",
      "_________________________________________________________________\n",
      "dense_1 (Dense)              (None, 64)                8256      \n",
      "_________________________________________________________________\n",
      "dropout (Dropout)            (None, 64)                0         \n",
      "_________________________________________________________________\n",
      "dense_2 (Dense)              (None, 3)                 195       \n",
      "=================================================================\n",
      "Total params: 5,101,779\n",
      "Trainable params: 5,101,779\n",
      "Non-trainable params: 0\n",
      "_________________________________________________________________\n"
     ]
    }
   ],
   "source": [
    "model = Sequential()\n",
    "model.add(Embedding(max_nb_words, embedding_dim, input_length=X.shape[1]))\n",
    "model.add(SpatialDropout1D(0.2))\n",
    "model.add(LSTM(100, dropout=0.5, recurrent_dropout=0.5))\n",
    "model.add(Dense(128, activation='relu'))\n",
    "model.add(Dense(64, activation='relu'))\n",
    "model.add(Dropout(0.5))\n",
    "model.add(Dense(3, activation='softmax'))\n",
    "\n",
    "opt = Adam(learning_rate=0.001)\n",
    "model.compile(loss='categorical_crossentropy', optimizer=opt, metrics=['AUC'])\n",
    "\n",
    "model.summary()"
   ]
  },
  {
   "cell_type": "code",
   "execution_count": 25,
   "metadata": {},
   "outputs": [
    {
     "name": "stdout",
     "output_type": "stream",
     "text": [
      "Epoch 1/20\n",
      "WARNING:tensorflow:From /Users/dorafoong/opt/anaconda3/lib/python3.7/site-packages/tensorflow/python/ops/resource_variable_ops.py:1817: calling BaseResourceVariable.__init__ (from tensorflow.python.ops.resource_variable_ops) with constraint is deprecated and will be removed in a future version.\n",
      "Instructions for updating:\n",
      "If using Keras pass *_constraint arguments to layers.\n",
      "257/257 [==============================] - 551s 2s/step - loss: 0.5043 - auc: 0.9197 - val_loss: 0.4559 - val_auc: 0.9256\n",
      "Epoch 2/20\n",
      "257/257 [==============================] - 591s 2s/step - loss: 0.4811 - auc: 0.9186 - val_loss: 0.4525 - val_auc: 0.9252\n",
      "Epoch 3/20\n",
      "257/257 [==============================] - 735s 3s/step - loss: 0.4718 - auc: 0.9220 - val_loss: 0.4610 - val_auc: 0.9239\n",
      "Epoch 4/20\n",
      "257/257 [==============================] - 797s 3s/step - loss: 0.4717 - auc: 0.9211 - val_loss: 0.4510 - val_auc: 0.9266\n",
      "Epoch 5/20\n",
      "257/257 [==============================] - 603s 2s/step - loss: 0.4638 - auc: 0.9242 - val_loss: 0.4528 - val_auc: 0.9260\n",
      "Epoch 6/20\n",
      "257/257 [==============================] - 551s 2s/step - loss: 0.4647 - auc: 0.9237 - val_loss: 0.4564 - val_auc: 0.9323\n",
      "Epoch 7/20\n",
      "257/257 [==============================] - 436s 2s/step - loss: 0.4656 - auc: 0.9237 - val_loss: 0.4544 - val_auc: 0.9257\n"
     ]
    }
   ],
   "source": [
    "epochs = 20\n",
    "batch_size = 32\n",
    "\n",
    "history = model.fit(X_train, y_train, epochs=epochs, batch_size=batch_size,\n",
    "                    validation_data = (X_val, y_val),\n",
    "                    callbacks=[EarlyStopping(monitor='val_loss', patience=3, min_delta=0.0001)],\n",
    "                   verbose=1)"
   ]
  },
  {
   "cell_type": "code",
   "execution_count": 26,
   "metadata": {},
   "outputs": [
    {
     "name": "stdout",
     "output_type": "stream",
     "text": [
      "65/65 [==============================] - 12s 183ms/step - loss: 0.4544 - auc: 0.9257\n",
      "Test set\n",
      "  Loss: 0.454\n",
      "  ROC AUC: 0.926\n"
     ]
    },
    {
     "data": {
      "image/png": "[encoded data removed]",
      "text/plain": [
       "<Figure size 432x288 with 1 Axes>"
      ]
     },
     "metadata": {
      "needs_background": "light"
     },
     "output_type": "display_data"
    }
   ],
   "source": [
    "acc = model.evaluate(X_val,y_val)\n",
    "print('Test set\\n  Loss: {:0.3f}\\n  ROC AUC: {:0.3f}'.format(acc[0],acc[1]))\n",
    "\n",
    "plt.plot(history.history['loss'], label='train')\n",
    "plt.plot(history.history['val_loss'], label='test')\n",
    "plt.legend();"
   ]
  },
  {
   "cell_type": "markdown",
   "metadata": {},
   "source": [
    "---\n",
    "## Evaluating performance of Logistic Regression Model on entire dataset"
   ]
  },
  {
   "cell_type": "code",
   "execution_count": 19,
   "metadata": {},
   "outputs": [],
   "source": [
    "X = all_posts['post_clean_nb_logreg']\n",
    "y = all_posts['label']\n",
    "\n",
    "#train-test-split\n",
    "X_train, X_test, y_train, y_test = train_test_split(X, y, \n",
    "                                                    test_size = 0.2, \n",
    "                                                    stratify=y, \n",
    "                                                    random_state = 42)"
   ]
  },
  {
   "cell_type": "code",
   "execution_count": 28,
   "metadata": {},
   "outputs": [
    {
     "name": "stdout",
     "output_type": "stream",
     "text": [
      "Fitting 5 folds for each of 270 candidates, totalling 1350 fits\n"
     ]
    },
    {
     "name": "stderr",
     "output_type": "stream",
     "text": [
      "[Parallel(n_jobs=-1)]: Using backend LokyBackend with 4 concurrent workers.\n",
      "[Parallel(n_jobs=-1)]: Done  42 tasks      | elapsed:   14.1s\n",
      "[Parallel(n_jobs=-1)]: Done 192 tasks      | elapsed:  1.1min\n",
      "[Parallel(n_jobs=-1)]: Done 442 tasks      | elapsed:  2.4min\n",
      "[Parallel(n_jobs=-1)]: Done 792 tasks      | elapsed:  4.1min\n",
      "[Parallel(n_jobs=-1)]: Done 1242 tasks      | elapsed:  6.1min\n",
      "[Parallel(n_jobs=-1)]: Done 1350 out of 1350 | elapsed:  6.6min finished\n"
     ]
    },
    {
     "data": {
      "text/plain": [
       "GridSearchCV(cv=5,\n",
       "             estimator=Pipeline(steps=[('cvec', CountVectorizer()),\n",
       "                                       ('lr',\n",
       "                                        LogisticRegression(solver='liblinear'))]),\n",
       "             n_jobs=-1,\n",
       "             param_grid={'cvec__max_df': [0.2, 0.3, 0.7],\n",
       "                         'cvec__max_features': [100, 200, 500],\n",
       "                         'cvec__min_df': [2, 4, 6],\n",
       "                         'cvec__ngram_range': [(1, 1)],\n",
       "                         'lr__C': array([1.00000000e-05, 4.64158883e-05, 2.15443469e-04, 1.00000000e-03,\n",
       "       4.64158883e-03, 2.15443469e-02, 1.00000000e-01, 4.64158883e-01,\n",
       "       2.15443469e+00, 1.00000000e+01]),\n",
       "                         'lr__penalty': ['l1']},\n",
       "             verbose=1)"
      ]
     },
     "execution_count": 28,
     "metadata": {},
     "output_type": "execute_result"
    }
   ],
   "source": [
    "pipe = Pipeline([\n",
    "    ('cvec', CountVectorizer()),\n",
    "    ('lr', LogisticRegression(solver = 'liblinear'))\n",
    "])\n",
    "\n",
    "pipe_params = {\n",
    "    'cvec__max_features': [100, 200, 500],\n",
    "    'cvec__min_df': [2, 4, 6],\n",
    "    'cvec__max_df': [0.2, 0.3, 0.7],\n",
    "    'cvec__ngram_range': [(1,1)],\n",
    "    'lr__penalty': ['l1'],\n",
    "    'lr__C': np.logspace(-5, 1, 10)\n",
    "}\n",
    "\n",
    "gscv_lr = GridSearchCV(pipe, pipe_params, cv=5, n_jobs =-1, verbose=1)\n",
    "gscv_lr.fit(X_train, y_train)"
   ]
  },
  {
   "cell_type": "code",
   "execution_count": 29,
   "metadata": {},
   "outputs": [
    {
     "data": {
      "text/plain": [
       "{'cvec__max_df': 0.2,\n",
       " 'cvec__max_features': 200,\n",
       " 'cvec__min_df': 4,\n",
       " 'cvec__ngram_range': (1, 1),\n",
       " 'lr__C': 0.1,\n",
       " 'lr__penalty': 'l1'}"
      ]
     },
     "execution_count": 29,
     "metadata": {},
     "output_type": "execute_result"
    }
   ],
   "source": [
    "gscv_lr.best_params_"
   ]
  },
  {
   "cell_type": "code",
   "execution_count": 30,
   "metadata": {},
   "outputs": [
    {
     "data": {
      "text/plain": [
       "Pipeline(steps=[('cvec',\n",
       "                 CountVectorizer(max_df=0.2, max_features=200, min_df=4)),\n",
       "                ('lr',\n",
       "                 LogisticRegression(C=0.1, penalty='l1', solver='liblinear'))])"
      ]
     },
     "execution_count": 30,
     "metadata": {},
     "output_type": "execute_result"
    }
   ],
   "source": [
    "#fitting model with optimised params \n",
    "opt_gscv_lr = gscv_lr.best_estimator_\n",
    "opt_gscv_lr.fit(X_train, y_train)"
   ]
  },
  {
   "cell_type": "code",
   "execution_count": 31,
   "metadata": {},
   "outputs": [
    {
     "data": {
      "text/html": [
       "<div>\n",
       "<style scoped>\n",
       "    .dataframe tbody tr th:only-of-type {\n",
       "        vertical-align: middle;\n",
       "    }\n",
       "\n",
       "    .dataframe tbody tr th {\n",
       "        vertical-align: top;\n",
       "    }\n",
       "\n",
       "    .dataframe thead th {\n",
       "        text-align: right;\n",
       "    }\n",
       "</style>\n",
       "<table border=\"1\" class=\"dataframe\">\n",
       "  <thead>\n",
       "    <tr style=\"text-align: right;\">\n",
       "      <th></th>\n",
       "      <th>model</th>\n",
       "      <th>optimised_params</th>\n",
       "      <th>train_acc_score</th>\n",
       "      <th>test_acc_score</th>\n",
       "      <th>roc_auc_score</th>\n",
       "      <th>train_f1_score</th>\n",
       "      <th>test_f1_score</th>\n",
       "    </tr>\n",
       "  </thead>\n",
       "  <tbody>\n",
       "    <tr>\n",
       "      <th>0</th>\n",
       "      <td>cvec + logistic regression</td>\n",
       "      <td>{'cvec__max_df': 0.2, 'cvec__max_features': 20...</td>\n",
       "      <td>0.874604</td>\n",
       "      <td>0.872931</td>\n",
       "      <td>0.785801</td>\n",
       "      <td>0.916755</td>\n",
       "      <td>0.914799</td>\n",
       "    </tr>\n",
       "  </tbody>\n",
       "</table>\n",
       "</div>"
      ],
      "text/plain": [
       "                        model  \\\n",
       "0  cvec + logistic regression   \n",
       "\n",
       "                                    optimised_params  train_acc_score  \\\n",
       "0  {'cvec__max_df': 0.2, 'cvec__max_features': 20...         0.874604   \n",
       "\n",
       "   test_acc_score  roc_auc_score  train_f1_score  test_f1_score  \n",
       "0        0.872931       0.785801        0.916755       0.914799  "
      ]
     },
     "metadata": {},
     "output_type": "display_data"
    },
    {
     "data": {
      "text/html": [
       "<div>\n",
       "<style scoped>\n",
       "    .dataframe tbody tr th:only-of-type {\n",
       "        vertical-align: middle;\n",
       "    }\n",
       "\n",
       "    .dataframe tbody tr th {\n",
       "        vertical-align: top;\n",
       "    }\n",
       "\n",
       "    .dataframe thead th {\n",
       "        text-align: right;\n",
       "    }\n",
       "</style>\n",
       "<table border=\"1\" class=\"dataframe\">\n",
       "  <thead>\n",
       "    <tr style=\"text-align: right;\">\n",
       "      <th></th>\n",
       "      <th>pred 0</th>\n",
       "      <th>pred 1</th>\n",
       "      <th>pred 2</th>\n",
       "    </tr>\n",
       "  </thead>\n",
       "  <tbody>\n",
       "    <tr>\n",
       "      <th>actual 0</th>\n",
       "      <td>25</td>\n",
       "      <td>197</td>\n",
       "      <td>2</td>\n",
       "    </tr>\n",
       "    <tr>\n",
       "      <th>actual 1</th>\n",
       "      <td>14</td>\n",
       "      <td>1767</td>\n",
       "      <td>1</td>\n",
       "    </tr>\n",
       "    <tr>\n",
       "      <th>actual 2</th>\n",
       "      <td>8</td>\n",
       "      <td>39</td>\n",
       "      <td>1</td>\n",
       "    </tr>\n",
       "  </tbody>\n",
       "</table>\n",
       "</div>"
      ],
      "text/plain": [
       "          pred 0  pred 1  pred 2\n",
       "actual 0      25     197       2\n",
       "actual 1      14    1767       1\n",
       "actual 2       8      39       1"
      ]
     },
     "metadata": {},
     "output_type": "display_data"
    },
    {
     "name": "stdout",
     "output_type": "stream",
     "text": [
      "              precision    recall  f1-score   support\n",
      "\n",
      "         0.0      0.532     0.112     0.185       224\n",
      "         1.0      0.882     0.992     0.934      1782\n",
      "         2.0      0.250     0.021     0.038        48\n",
      "\n",
      "    accuracy                          0.873      2054\n",
      "   macro avg      0.555     0.375     0.386      2054\n",
      "weighted avg      0.829     0.873     0.831      2054\n",
      "\n"
     ]
    }
   ],
   "source": [
    "#create dataframe of performance metrics based on optimised model \n",
    "opt_results_lr = pd.DataFrame()\n",
    "\n",
    "opt_results_lr['model'] = ['cvec + logistic regression']\n",
    "opt_results_lr['optimised_params'] = [gscv_lr.best_params_]\n",
    "opt_results_lr['train_acc_score'] = opt_gscv_lr.score(X_train, y_train)\n",
    "opt_results_lr['test_acc_score'] = opt_gscv_lr.score(X_test, y_test)\n",
    "\n",
    "pred_proba = opt_gscv_lr.predict_proba(X_test)\n",
    "opt_results_lr['roc_auc_score'] = roc_auc_score(y_test, pred_proba, multi_class=\"ovo\", average = 'weighted')\n",
    "opt_results_lr['train_f1_score'] = f1_score((opt_gscv_lr.predict(X_train)), y_train, average = 'weighted')\n",
    "opt_results_lr['test_f1_score'] = f1_score((opt_gscv_lr.predict(X_test)), y_test, average = 'weighted')\n",
    "\n",
    "display(opt_results_lr)\n",
    "\n",
    "#confusion matrix for logreg\n",
    "\n",
    "y_pred_lr = opt_gscv_lr.predict(X_test)\n",
    "cm = confusion_matrix(y_test, y_pred_lr)\n",
    "cm_df = pd.DataFrame(cm,\n",
    "                     index = ['actual 0','actual 1','actual 2'], \n",
    "                     columns = ['pred 0','pred 1','pred 2'])\n",
    "display(cm_df)\n",
    "\n",
    "print(classification_report(y_test, y_pred_lr, digits=3))"
   ]
  },
  {
   "cell_type": "markdown",
   "metadata": {},
   "source": [
    "---\n",
    "## Evaluating performance of Multinomial Naive Bayes Model on entire dataset"
   ]
  },
  {
   "cell_type": "code",
   "execution_count": 20,
   "metadata": {},
   "outputs": [
    {
     "name": "stdout",
     "output_type": "stream",
     "text": [
      "Fitting 5 folds for each of 12 candidates, totalling 60 fits\n"
     ]
    },
    {
     "name": "stderr",
     "output_type": "stream",
     "text": [
      "[Parallel(n_jobs=-1)]: Using backend LokyBackend with 4 concurrent workers.\n",
      "[Parallel(n_jobs=-1)]: Done  42 tasks      | elapsed:   13.4s\n",
      "[Parallel(n_jobs=-1)]: Done  60 out of  60 | elapsed:   17.2s finished\n"
     ]
    },
    {
     "data": {
      "text/plain": [
       "GridSearchCV(cv=5,\n",
       "             estimator=Pipeline(steps=[('cvec', CountVectorizer()),\n",
       "                                       ('nb', MultinomialNB())]),\n",
       "             n_jobs=-1,\n",
       "             param_grid={'cvec__max_df': [0.2, 0.3, 0.5, 0.7],\n",
       "                         'cvec__max_features': [500], 'cvec__min_df': [2, 4, 6],\n",
       "                         'cvec__ngram_range': [(1, 2)]},\n",
       "             verbose=1)"
      ]
     },
     "execution_count": 20,
     "metadata": {},
     "output_type": "execute_result"
    }
   ],
   "source": [
    "pipe = Pipeline([\n",
    "    ('cvec', CountVectorizer()),\n",
    "    ('nb', MultinomialNB())\n",
    "])\n",
    "\n",
    "\n",
    "pipe_params = {\n",
    "    'cvec__max_features': [500],\n",
    "    'cvec__min_df': [2, 4, 6],\n",
    "    'cvec__max_df': [0.2, 0.3, 0.5, 0.7],\n",
    "    'cvec__ngram_range': [(1,2)]}\n",
    "\n",
    "\n",
    "gscv_nb = GridSearchCV(pipe, pipe_params, cv=5, n_jobs =-1, verbose=1)\n",
    "gscv_nb.fit(X_train, y_train)"
   ]
  },
  {
   "cell_type": "code",
   "execution_count": 21,
   "metadata": {},
   "outputs": [
    {
     "data": {
      "text/plain": [
       "{'cvec__max_df': 0.2,\n",
       " 'cvec__max_features': 500,\n",
       " 'cvec__min_df': 4,\n",
       " 'cvec__ngram_range': (1, 2)}"
      ]
     },
     "execution_count": 21,
     "metadata": {},
     "output_type": "execute_result"
    }
   ],
   "source": [
    "gscv_nb.best_params_"
   ]
  },
  {
   "cell_type": "code",
   "execution_count": 22,
   "metadata": {},
   "outputs": [
    {
     "data": {
      "text/plain": [
       "Pipeline(steps=[('cvec',\n",
       "                 CountVectorizer(max_df=0.2, max_features=500, min_df=4,\n",
       "                                 ngram_range=(1, 2))),\n",
       "                ('nb', MultinomialNB())])"
      ]
     },
     "execution_count": 22,
     "metadata": {},
     "output_type": "execute_result"
    }
   ],
   "source": [
    "#fitting model with optimised params \n",
    "opt_gscv_nb = gscv_nb.best_estimator_\n",
    "opt_gscv_nb.fit(X_train, y_train)"
   ]
  },
  {
   "cell_type": "code",
   "execution_count": 23,
   "metadata": {},
   "outputs": [
    {
     "data": {
      "text/html": [
       "<div>\n",
       "<style scoped>\n",
       "    .dataframe tbody tr th:only-of-type {\n",
       "        vertical-align: middle;\n",
       "    }\n",
       "\n",
       "    .dataframe tbody tr th {\n",
       "        vertical-align: top;\n",
       "    }\n",
       "\n",
       "    .dataframe thead th {\n",
       "        text-align: right;\n",
       "    }\n",
       "</style>\n",
       "<table border=\"1\" class=\"dataframe\">\n",
       "  <thead>\n",
       "    <tr style=\"text-align: right;\">\n",
       "      <th></th>\n",
       "      <th>model</th>\n",
       "      <th>optimised_params</th>\n",
       "      <th>train_acc_score</th>\n",
       "      <th>test_acc_score</th>\n",
       "      <th>roc_auc_score</th>\n",
       "      <th>train_f1_score</th>\n",
       "      <th>test_f1_score</th>\n",
       "    </tr>\n",
       "  </thead>\n",
       "  <tbody>\n",
       "    <tr>\n",
       "      <th>0</th>\n",
       "      <td>cvec + multinomial nb</td>\n",
       "      <td>{'cvec__max_df': 0.2, 'cvec__max_features': 50...</td>\n",
       "      <td>0.86803</td>\n",
       "      <td>0.866115</td>\n",
       "      <td>0.726221</td>\n",
       "      <td>0.873514</td>\n",
       "      <td>0.873842</td>\n",
       "    </tr>\n",
       "  </tbody>\n",
       "</table>\n",
       "</div>"
      ],
      "text/plain": [
       "                   model                                   optimised_params  \\\n",
       "0  cvec + multinomial nb  {'cvec__max_df': 0.2, 'cvec__max_features': 50...   \n",
       "\n",
       "   train_acc_score  test_acc_score  roc_auc_score  train_f1_score  \\\n",
       "0          0.86803        0.866115       0.726221        0.873514   \n",
       "\n",
       "   test_f1_score  \n",
       "0       0.873842  "
      ]
     },
     "metadata": {},
     "output_type": "display_data"
    },
    {
     "data": {
      "text/html": [
       "<div>\n",
       "<style scoped>\n",
       "    .dataframe tbody tr th:only-of-type {\n",
       "        vertical-align: middle;\n",
       "    }\n",
       "\n",
       "    .dataframe tbody tr th {\n",
       "        vertical-align: top;\n",
       "    }\n",
       "\n",
       "    .dataframe thead th {\n",
       "        text-align: right;\n",
       "    }\n",
       "</style>\n",
       "<table border=\"1\" class=\"dataframe\">\n",
       "  <thead>\n",
       "    <tr style=\"text-align: right;\">\n",
       "      <th></th>\n",
       "      <th>pred 0</th>\n",
       "      <th>pred 1</th>\n",
       "      <th>pred 2</th>\n",
       "    </tr>\n",
       "  </thead>\n",
       "  <tbody>\n",
       "    <tr>\n",
       "      <th>actual 0</th>\n",
       "      <td>80</td>\n",
       "      <td>133</td>\n",
       "      <td>11</td>\n",
       "    </tr>\n",
       "    <tr>\n",
       "      <th>actual 1</th>\n",
       "      <td>71</td>\n",
       "      <td>1686</td>\n",
       "      <td>25</td>\n",
       "    </tr>\n",
       "    <tr>\n",
       "      <th>actual 2</th>\n",
       "      <td>10</td>\n",
       "      <td>25</td>\n",
       "      <td>13</td>\n",
       "    </tr>\n",
       "  </tbody>\n",
       "</table>\n",
       "</div>"
      ],
      "text/plain": [
       "          pred 0  pred 1  pred 2\n",
       "actual 0      80     133      11\n",
       "actual 1      71    1686      25\n",
       "actual 2      10      25      13"
      ]
     },
     "metadata": {},
     "output_type": "display_data"
    },
    {
     "name": "stdout",
     "output_type": "stream",
     "text": [
      "\n",
      "              precision    recall  f1-score   support\n",
      "\n",
      "         0.0      0.497     0.357     0.416       224\n",
      "         1.0      0.914     0.946     0.930      1782\n",
      "         2.0      0.265     0.271     0.268        48\n",
      "\n",
      "    accuracy                          0.866      2054\n",
      "   macro avg      0.559     0.525     0.538      2054\n",
      "weighted avg      0.854     0.866     0.858      2054\n",
      "\n"
     ]
    }
   ],
   "source": [
    "#create dataframe of metrics based on optimised model \n",
    "opt_results_nb = pd.DataFrame()\n",
    "\n",
    "opt_results_nb['model'] = ['cvec + multinomial nb']\n",
    "opt_results_nb['optimised_params'] = [gscv_nb.best_params_]\n",
    "opt_results_nb['train_acc_score'] = opt_gscv_nb.score(X_train, y_train)\n",
    "opt_results_nb['test_acc_score'] = opt_gscv_nb.score(X_test, y_test)\n",
    "\n",
    "pred_proba = opt_gscv_nb.predict_proba(X_test)\n",
    "opt_results_nb['roc_auc_score'] = roc_auc_score(y_test, pred_proba, multi_class=\"ovo\", average = 'weighted')\n",
    "opt_results_nb['train_f1_score'] = f1_score((opt_gscv_nb.predict(X_train)), y_train, average = 'weighted')\n",
    "opt_results_nb['test_f1_score'] = f1_score((opt_gscv_nb.predict(X_test)), y_test, average = 'weighted')\n",
    "\n",
    "display(opt_results_nb)\n",
    "\n",
    "#confusion matrix and classification report for multinomial nb \n",
    "\n",
    "y_pred_nb = opt_gscv_nb.predict(X_test)\n",
    "cm = confusion_matrix(y_test, y_pred_nb)\n",
    "cm_df = pd.DataFrame(cm,\n",
    "                     index = ['actual 0','actual 1','actual 2'], \n",
    "                     columns = ['pred 0','pred 1','pred 2'])\n",
    "display(cm_df)\n",
    "print('')\n",
    "print(classification_report(y_test, y_pred_nb, digits=3))"
   ]
  },
  {
   "cell_type": "markdown",
   "metadata": {},
   "source": [
    "---\n",
    "## Production Model\n",
    "\n",
    "Chose multinomial naive bayes model - low variance for accuracy scores and f1-scores, predicted minority classes more accurately than logreg"
   ]
  },
  {
   "cell_type": "code",
   "execution_count": 24,
   "metadata": {},
   "outputs": [
    {
     "data": {
      "text/plain": [
       "Pipeline(steps=[('cvec',\n",
       "                 CountVectorizer(max_df=0.2, max_features=500, min_df=4,\n",
       "                                 ngram_range=(1, 2))),\n",
       "                ('nb', MultinomialNB())])"
      ]
     },
     "execution_count": 24,
     "metadata": {},
     "output_type": "execute_result"
    }
   ],
   "source": [
    "production_model = opt_gscv_nb.fit(X, y)\n",
    "production_model"
   ]
  },
  {
   "cell_type": "markdown",
   "metadata": {},
   "source": [
    "---\n",
    "## Model Insights"
   ]
  },
  {
   "cell_type": "markdown",
   "metadata": {},
   "source": [
    "### Interpreting coefficients from Multinomial NB model \n",
    "\n",
    "Upside of using a classification model instead of neural network - interpretability. \n",
    "\n",
    "Words with smallest negative coefficient values have the LEAST IMPACT in lowering the probability of the class, more likely that a word indicates negative, neutral or positive sentiment.\n",
    "\n",
    "Words with largest negative coefficient values have the MOST IMPACT in lowering the probability of the class, less likely that a word indicates negative, neutral or positive sentiment. "
   ]
  },
  {
   "cell_type": "code",
   "execution_count": 25,
   "metadata": {},
   "outputs": [
    {
     "data": {
      "text/plain": [
       "(3, 500)"
      ]
     },
     "metadata": {},
     "output_type": "display_data"
    },
    {
     "data": {
      "text/plain": [
       "500"
      ]
     },
     "metadata": {},
     "output_type": "display_data"
    },
    {
     "data": {
      "text/html": [
       "<div>\n",
       "<style scoped>\n",
       "    .dataframe tbody tr th:only-of-type {\n",
       "        vertical-align: middle;\n",
       "    }\n",
       "\n",
       "    .dataframe tbody tr th {\n",
       "        vertical-align: top;\n",
       "    }\n",
       "\n",
       "    .dataframe thead th {\n",
       "        text-align: right;\n",
       "    }\n",
       "</style>\n",
       "<table border=\"1\" class=\"dataframe\">\n",
       "  <thead>\n",
       "    <tr style=\"text-align: right;\">\n",
       "      <th></th>\n",
       "      <th>word</th>\n",
       "      <th>coef_negative_class</th>\n",
       "      <th>coef_neutral_class</th>\n",
       "      <th>coef_positive_class</th>\n",
       "    </tr>\n",
       "  </thead>\n",
       "  <tbody>\n",
       "    <tr>\n",
       "      <th>0</th>\n",
       "      <td>000</td>\n",
       "      <td>-6.224896</td>\n",
       "      <td>-5.580103</td>\n",
       "      <td>-6.131610</td>\n",
       "    </tr>\n",
       "    <tr>\n",
       "      <th>1</th>\n",
       "      <td>10</td>\n",
       "      <td>-6.224896</td>\n",
       "      <td>-5.838902</td>\n",
       "      <td>-7.173064</td>\n",
       "    </tr>\n",
       "    <tr>\n",
       "      <th>2</th>\n",
       "      <td>100</td>\n",
       "      <td>-6.942736</td>\n",
       "      <td>-6.564602</td>\n",
       "      <td>-6.566928</td>\n",
       "    </tr>\n",
       "    <tr>\n",
       "      <th>3</th>\n",
       "      <td>12</td>\n",
       "      <td>-7.992558</td>\n",
       "      <td>-6.665072</td>\n",
       "      <td>-7.578529</td>\n",
       "    </tr>\n",
       "    <tr>\n",
       "      <th>4</th>\n",
       "      <td>120</td>\n",
       "      <td>-7.859027</td>\n",
       "      <td>-6.804428</td>\n",
       "      <td>-8.964823</td>\n",
       "    </tr>\n",
       "  </tbody>\n",
       "</table>\n",
       "</div>"
      ],
      "text/plain": [
       "  word  coef_negative_class  coef_neutral_class  coef_positive_class\n",
       "0  000            -6.224896           -5.580103            -6.131610\n",
       "1   10            -6.224896           -5.838902            -7.173064\n",
       "2  100            -6.942736           -6.564602            -6.566928\n",
       "3   12            -7.992558           -6.665072            -7.578529\n",
       "4  120            -7.859027           -6.804428            -8.964823"
      ]
     },
     "execution_count": 25,
     "metadata": {},
     "output_type": "execute_result"
    }
   ],
   "source": [
    "coefs = opt_gscv_nb.named_steps['nb'].coef_\n",
    "display(coefs.shape)\n",
    "\n",
    "features = opt_gscv_nb.named_steps['cvec'].get_feature_names()\n",
    "display(len(features))\n",
    "\n",
    "#creating dataframe of words and coefficients for each class\n",
    "coef_df = pd.DataFrame({'word':features, \n",
    "                        'coef_negative_class':coefs[0], \n",
    "                        'coef_neutral_class':coefs[1], \n",
    "                        'coef_positive_class':coefs[2]})\n",
    "coef_df.head()"
   ]
  },
  {
   "cell_type": "markdown",
   "metadata": {},
   "source": [
    "Negative class words not too dissimilar from positive class words. \n",
    "\n",
    "Exceptions are calling out organisations and agencies in their posts - 'PAP' (People's Action Party - the ruling party) and 'MOM' (Ministry of Manpower), perhaps \n",
    "\n",
    "The word 'still' indicates a sentiment in these posts that COVID-19 cases in dorms remain high. \n",
    "\n",
    "'Mask' is also another word in negative sentiment posts - perhaps taking issue with the Government's delay in asking people to wear masks in public. "
   ]
  },
  {
   "cell_type": "code",
   "execution_count": 26,
   "metadata": {},
   "outputs": [
    {
     "data": {
      "text/html": [
       "<div>\n",
       "<style scoped>\n",
       "    .dataframe tbody tr th:only-of-type {\n",
       "        vertical-align: middle;\n",
       "    }\n",
       "\n",
       "    .dataframe tbody tr th {\n",
       "        vertical-align: top;\n",
       "    }\n",
       "\n",
       "    .dataframe thead th {\n",
       "        text-align: right;\n",
       "    }\n",
       "</style>\n",
       "<table border=\"1\" class=\"dataframe\">\n",
       "  <thead>\n",
       "    <tr style=\"text-align: right;\">\n",
       "      <th></th>\n",
       "      <th>word</th>\n",
       "      <th>coef_negative_class</th>\n",
       "      <th>coef_neutral_class</th>\n",
       "      <th>coef_positive_class</th>\n",
       "    </tr>\n",
       "  </thead>\n",
       "  <tbody>\n",
       "    <tr>\n",
       "      <th>293</th>\n",
       "      <td>no</td>\n",
       "      <td>-4.167027</td>\n",
       "      <td>-4.365745</td>\n",
       "      <td>-4.320432</td>\n",
       "    </tr>\n",
       "    <tr>\n",
       "      <th>234</th>\n",
       "      <td>like</td>\n",
       "      <td>-4.457830</td>\n",
       "      <td>-4.511233</td>\n",
       "      <td>-4.522172</td>\n",
       "    </tr>\n",
       "    <tr>\n",
       "      <th>313</th>\n",
       "      <td>pap</td>\n",
       "      <td>-4.466198</td>\n",
       "      <td>-6.402083</td>\n",
       "      <td>-6.131610</td>\n",
       "    </tr>\n",
       "    <tr>\n",
       "      <th>167</th>\n",
       "      <td>government</td>\n",
       "      <td>-4.535791</td>\n",
       "      <td>-5.574624</td>\n",
       "      <td>-4.211233</td>\n",
       "    </tr>\n",
       "    <tr>\n",
       "      <th>321</th>\n",
       "      <td>people</td>\n",
       "      <td>-4.572493</td>\n",
       "      <td>-4.534134</td>\n",
       "      <td>-4.194139</td>\n",
       "    </tr>\n",
       "    <tr>\n",
       "      <th>389</th>\n",
       "      <td>should</td>\n",
       "      <td>-4.610592</td>\n",
       "      <td>-4.896618</td>\n",
       "      <td>-4.510476</td>\n",
       "    </tr>\n",
       "    <tr>\n",
       "      <th>303</th>\n",
       "      <td>one</td>\n",
       "      <td>-4.620349</td>\n",
       "      <td>-4.615545</td>\n",
       "      <td>-4.558104</td>\n",
       "    </tr>\n",
       "    <tr>\n",
       "      <th>374</th>\n",
       "      <td>said</td>\n",
       "      <td>-4.718113</td>\n",
       "      <td>-4.598930</td>\n",
       "      <td>-4.975839</td>\n",
       "    </tr>\n",
       "    <tr>\n",
       "      <th>287</th>\n",
       "      <td>need</td>\n",
       "      <td>-4.808570</td>\n",
       "      <td>-4.854521</td>\n",
       "      <td>-5.073003</td>\n",
       "    </tr>\n",
       "    <tr>\n",
       "      <th>277</th>\n",
       "      <td>mom</td>\n",
       "      <td>-4.820475</td>\n",
       "      <td>-6.047911</td>\n",
       "      <td>-6.566928</td>\n",
       "    </tr>\n",
       "    <tr>\n",
       "      <th>393</th>\n",
       "      <td>singapore</td>\n",
       "      <td>-4.832523</td>\n",
       "      <td>-4.413353</td>\n",
       "      <td>-4.558104</td>\n",
       "    </tr>\n",
       "    <tr>\n",
       "      <th>168</th>\n",
       "      <td>govt</td>\n",
       "      <td>-4.857064</td>\n",
       "      <td>-6.106619</td>\n",
       "      <td>-4.660758</td>\n",
       "    </tr>\n",
       "    <tr>\n",
       "      <th>129</th>\n",
       "      <td>even</td>\n",
       "      <td>-4.882223</td>\n",
       "      <td>-5.017352</td>\n",
       "      <td>-4.921772</td>\n",
       "    </tr>\n",
       "    <tr>\n",
       "      <th>20</th>\n",
       "      <td>also</td>\n",
       "      <td>-4.921189</td>\n",
       "      <td>-4.670427</td>\n",
       "      <td>-4.558104</td>\n",
       "    </tr>\n",
       "    <tr>\n",
       "      <th>440</th>\n",
       "      <td>think</td>\n",
       "      <td>-4.921189</td>\n",
       "      <td>-4.834770</td>\n",
       "      <td>-4.558104</td>\n",
       "    </tr>\n",
       "    <tr>\n",
       "      <th>417</th>\n",
       "      <td>still</td>\n",
       "      <td>-4.941256</td>\n",
       "      <td>-4.736737</td>\n",
       "      <td>-5.227154</td>\n",
       "    </tr>\n",
       "    <tr>\n",
       "      <th>259</th>\n",
       "      <td>many</td>\n",
       "      <td>-4.948036</td>\n",
       "      <td>-4.880111</td>\n",
       "      <td>-4.837689</td>\n",
       "    </tr>\n",
       "    <tr>\n",
       "      <th>260</th>\n",
       "      <td>mask</td>\n",
       "      <td>-4.989709</td>\n",
       "      <td>-5.790281</td>\n",
       "      <td>-5.499087</td>\n",
       "    </tr>\n",
       "    <tr>\n",
       "      <th>379</th>\n",
       "      <td>see</td>\n",
       "      <td>-5.011215</td>\n",
       "      <td>-5.158289</td>\n",
       "      <td>-5.136182</td>\n",
       "    </tr>\n",
       "    <tr>\n",
       "      <th>486</th>\n",
       "      <td>work</td>\n",
       "      <td>-5.025814</td>\n",
       "      <td>-4.834770</td>\n",
       "      <td>-5.409475</td>\n",
       "    </tr>\n",
       "  </tbody>\n",
       "</table>\n",
       "</div>"
      ],
      "text/plain": [
       "           word  coef_negative_class  coef_neutral_class  coef_positive_class\n",
       "293          no            -4.167027           -4.365745            -4.320432\n",
       "234        like            -4.457830           -4.511233            -4.522172\n",
       "313         pap            -4.466198           -6.402083            -6.131610\n",
       "167  government            -4.535791           -5.574624            -4.211233\n",
       "321      people            -4.572493           -4.534134            -4.194139\n",
       "389      should            -4.610592           -4.896618            -4.510476\n",
       "303         one            -4.620349           -4.615545            -4.558104\n",
       "374        said            -4.718113           -4.598930            -4.975839\n",
       "287        need            -4.808570           -4.854521            -5.073003\n",
       "277         mom            -4.820475           -6.047911            -6.566928\n",
       "393   singapore            -4.832523           -4.413353            -4.558104\n",
       "168        govt            -4.857064           -6.106619            -4.660758\n",
       "129        even            -4.882223           -5.017352            -4.921772\n",
       "20         also            -4.921189           -4.670427            -4.558104\n",
       "440       think            -4.921189           -4.834770            -4.558104\n",
       "417       still            -4.941256           -4.736737            -5.227154\n",
       "259        many            -4.948036           -4.880111            -4.837689\n",
       "260        mask            -4.989709           -5.790281            -5.499087\n",
       "379         see            -5.011215           -5.158289            -5.136182\n",
       "486        work            -5.025814           -4.834770            -5.409475"
      ]
     },
     "execution_count": 26,
     "metadata": {},
     "output_type": "execute_result"
    }
   ],
   "source": [
    "coef_df.sort_values(by ='coef_negative_class',ascending=False)[0:20]"
   ]
  },
  {
   "cell_type": "code",
   "execution_count": 45,
   "metadata": {},
   "outputs": [
    {
     "data": {
      "image/png": "[encoded data removed]",
      "text/plain": [
       "<Figure size 1080x720 with 1 Axes>"
      ]
     },
     "metadata": {
      "needs_background": "light"
     },
     "output_type": "display_data"
    }
   ],
   "source": [
    "neg_coef = coef_df.sort_values(by ='coef_negative_class',ascending=False)[0:20]\n",
    "neg_coef[['word', 'coef_negative_class']][::-1].plot.barh('word', figsize=(15,10))\n",
    "plt.title(\"Top 20 words for negative sentiment posts\");"
   ]
  },
  {
   "cell_type": "markdown",
   "metadata": {},
   "source": [
    "For words indicating positive classes\n",
    "\n",
    "Words like 'people', 'government', 'singapore' are top words indicating positive sentiment - similar to negative sentiment coefficients but of more importance\n",
    "\n",
    "'Would', 'should' - indicating some kind of suggestion in the post, hence will do topic modelling in next section\n",
    "\n",
    "'Good' also in top words, but not a very large negative coefficient, suggestion other words are more prominent in positive sentiment posts"
   ]
  },
  {
   "cell_type": "code",
   "execution_count": 36,
   "metadata": {},
   "outputs": [
    {
     "data": {
      "text/html": [
       "<div>\n",
       "<style scoped>\n",
       "    .dataframe tbody tr th:only-of-type {\n",
       "        vertical-align: middle;\n",
       "    }\n",
       "\n",
       "    .dataframe tbody tr th {\n",
       "        vertical-align: top;\n",
       "    }\n",
       "\n",
       "    .dataframe thead th {\n",
       "        text-align: right;\n",
       "    }\n",
       "</style>\n",
       "<table border=\"1\" class=\"dataframe\">\n",
       "  <thead>\n",
       "    <tr style=\"text-align: right;\">\n",
       "      <th></th>\n",
       "      <th>word</th>\n",
       "      <th>coef_negative_class</th>\n",
       "      <th>coef_neutral_class</th>\n",
       "      <th>coef_positive_class</th>\n",
       "    </tr>\n",
       "  </thead>\n",
       "  <tbody>\n",
       "    <tr>\n",
       "      <th>321</th>\n",
       "      <td>people</td>\n",
       "      <td>-4.572493</td>\n",
       "      <td>-4.534134</td>\n",
       "      <td>-4.194139</td>\n",
       "    </tr>\n",
       "    <tr>\n",
       "      <th>167</th>\n",
       "      <td>government</td>\n",
       "      <td>-4.535791</td>\n",
       "      <td>-5.574624</td>\n",
       "      <td>-4.211233</td>\n",
       "    </tr>\n",
       "    <tr>\n",
       "      <th>293</th>\n",
       "      <td>no</td>\n",
       "      <td>-4.167027</td>\n",
       "      <td>-4.365745</td>\n",
       "      <td>-4.320432</td>\n",
       "    </tr>\n",
       "    <tr>\n",
       "      <th>492</th>\n",
       "      <td>would</td>\n",
       "      <td>-5.102187</td>\n",
       "      <td>-4.991096</td>\n",
       "      <td>-4.487487</td>\n",
       "    </tr>\n",
       "    <tr>\n",
       "      <th>389</th>\n",
       "      <td>should</td>\n",
       "      <td>-4.610592</td>\n",
       "      <td>-4.896618</td>\n",
       "      <td>-4.510476</td>\n",
       "    </tr>\n",
       "    <tr>\n",
       "      <th>234</th>\n",
       "      <td>like</td>\n",
       "      <td>-4.457830</td>\n",
       "      <td>-4.511233</td>\n",
       "      <td>-4.522172</td>\n",
       "    </tr>\n",
       "    <tr>\n",
       "      <th>440</th>\n",
       "      <td>think</td>\n",
       "      <td>-4.921189</td>\n",
       "      <td>-4.834770</td>\n",
       "      <td>-4.558104</td>\n",
       "    </tr>\n",
       "    <tr>\n",
       "      <th>20</th>\n",
       "      <td>also</td>\n",
       "      <td>-4.921189</td>\n",
       "      <td>-4.670427</td>\n",
       "      <td>-4.558104</td>\n",
       "    </tr>\n",
       "    <tr>\n",
       "      <th>303</th>\n",
       "      <td>one</td>\n",
       "      <td>-4.620349</td>\n",
       "      <td>-4.615545</td>\n",
       "      <td>-4.558104</td>\n",
       "    </tr>\n",
       "    <tr>\n",
       "      <th>393</th>\n",
       "      <td>singapore</td>\n",
       "      <td>-4.832523</td>\n",
       "      <td>-4.413353</td>\n",
       "      <td>-4.558104</td>\n",
       "    </tr>\n",
       "    <tr>\n",
       "      <th>168</th>\n",
       "      <td>govt</td>\n",
       "      <td>-4.857064</td>\n",
       "      <td>-6.106619</td>\n",
       "      <td>-4.660758</td>\n",
       "    </tr>\n",
       "    <tr>\n",
       "      <th>259</th>\n",
       "      <td>many</td>\n",
       "      <td>-4.948036</td>\n",
       "      <td>-4.880111</td>\n",
       "      <td>-4.837689</td>\n",
       "    </tr>\n",
       "    <tr>\n",
       "      <th>376</th>\n",
       "      <td>say</td>\n",
       "      <td>-5.078656</td>\n",
       "      <td>-5.404212</td>\n",
       "      <td>-4.904380</td>\n",
       "    </tr>\n",
       "    <tr>\n",
       "      <th>129</th>\n",
       "      <td>even</td>\n",
       "      <td>-4.882223</td>\n",
       "      <td>-5.017352</td>\n",
       "      <td>-4.921772</td>\n",
       "    </tr>\n",
       "    <tr>\n",
       "      <th>374</th>\n",
       "      <td>said</td>\n",
       "      <td>-4.718113</td>\n",
       "      <td>-4.598930</td>\n",
       "      <td>-4.975839</td>\n",
       "    </tr>\n",
       "    <tr>\n",
       "      <th>217</th>\n",
       "      <td>know</td>\n",
       "      <td>-5.094281</td>\n",
       "      <td>-5.270681</td>\n",
       "      <td>-5.032998</td>\n",
       "    </tr>\n",
       "    <tr>\n",
       "      <th>299</th>\n",
       "      <td>numbers</td>\n",
       "      <td>-6.006643</td>\n",
       "      <td>-5.610789</td>\n",
       "      <td>-5.052800</td>\n",
       "    </tr>\n",
       "    <tr>\n",
       "      <th>287</th>\n",
       "      <td>need</td>\n",
       "      <td>-4.808570</td>\n",
       "      <td>-4.854521</td>\n",
       "      <td>-5.073003</td>\n",
       "    </tr>\n",
       "    <tr>\n",
       "      <th>164</th>\n",
       "      <td>good</td>\n",
       "      <td>-5.384592</td>\n",
       "      <td>-5.413472</td>\n",
       "      <td>-5.073003</td>\n",
       "    </tr>\n",
       "    <tr>\n",
       "      <th>446</th>\n",
       "      <td>time</td>\n",
       "      <td>-5.055667</td>\n",
       "      <td>-5.008007</td>\n",
       "      <td>-5.114676</td>\n",
       "    </tr>\n",
       "  </tbody>\n",
       "</table>\n",
       "</div>"
      ],
      "text/plain": [
       "           word  coef_negative_class  coef_neutral_class  coef_positive_class\n",
       "321      people            -4.572493           -4.534134            -4.194139\n",
       "167  government            -4.535791           -5.574624            -4.211233\n",
       "293          no            -4.167027           -4.365745            -4.320432\n",
       "492       would            -5.102187           -4.991096            -4.487487\n",
       "389      should            -4.610592           -4.896618            -4.510476\n",
       "234        like            -4.457830           -4.511233            -4.522172\n",
       "440       think            -4.921189           -4.834770            -4.558104\n",
       "20         also            -4.921189           -4.670427            -4.558104\n",
       "303         one            -4.620349           -4.615545            -4.558104\n",
       "393   singapore            -4.832523           -4.413353            -4.558104\n",
       "168        govt            -4.857064           -6.106619            -4.660758\n",
       "259        many            -4.948036           -4.880111            -4.837689\n",
       "376         say            -5.078656           -5.404212            -4.904380\n",
       "129        even            -4.882223           -5.017352            -4.921772\n",
       "374        said            -4.718113           -4.598930            -4.975839\n",
       "217        know            -5.094281           -5.270681            -5.032998\n",
       "299     numbers            -6.006643           -5.610789            -5.052800\n",
       "287        need            -4.808570           -4.854521            -5.073003\n",
       "164        good            -5.384592           -5.413472            -5.073003\n",
       "446        time            -5.055667           -5.008007            -5.114676"
      ]
     },
     "execution_count": 36,
     "metadata": {},
     "output_type": "execute_result"
    }
   ],
   "source": [
    "coef_df.sort_values(by ='coef_positive_class',ascending=False)[0:20]"
   ]
  },
  {
   "cell_type": "code",
   "execution_count": 46,
   "metadata": {},
   "outputs": [
    {
     "data": {
      "image/png": "[encoded data removed]",
      "text/plain": [
       "<Figure size 1080x720 with 1 Axes>"
      ]
     },
     "metadata": {
      "needs_background": "light"
     },
     "output_type": "display_data"
    }
   ],
   "source": [
    "pos_coef = coef_df.sort_values(by ='coef_positive_class',ascending=False)[0:20]\n",
    "pos_coef[['word', 'coef_positive_class']][::-1].plot.barh('word', figsize=(15,10))\n",
    "plt.title(\"Top 20 words for positive sentiment posts\");"
   ]
  },
  {
   "cell_type": "markdown",
   "metadata": {},
   "source": [
    "### Proportion of negative/neutral/positive sentiment posts per source \n",
    "\n",
    "#### Reddit\n",
    "- Negative sentiment posts: 247 of 3493 posts (7.08%)\n",
    "- Neutral sentiment posts: 3109 of 3493 posts (89%)\n",
    "- Positive sentiment posts 137 of 3493 posts (3.92%)\n",
    "\n",
    "#### Hardwarezone \n",
    "- Negative sentiment posts: 673 of 6081 posts (11%)\n",
    "- Neutral sentiment posts: 5318 of 6081 posts (87.5%)\n",
    "- Positive sentiment posts: 90 of 6081 posts (1.5%)\n",
    "\n",
    "#### Sgtalk\n",
    "- Negative sentiment posts: 200 of 694 posts (28%)\n",
    "- Neutral sentiment posts: 480 of 694 posts (70%)\n",
    "- Positive sentiment posts 14 of 694 posts (2%)"
   ]
  },
  {
   "cell_type": "code",
   "execution_count": 47,
   "metadata": {},
   "outputs": [
    {
     "data": {
      "text/plain": [
       "1.0    8907\n",
       "0.0    1120\n",
       "2.0     241\n",
       "Name: label, dtype: int64"
      ]
     },
     "execution_count": 47,
     "metadata": {},
     "output_type": "execute_result"
    }
   ],
   "source": [
    "all_posts['label'].value_counts()"
   ]
  },
  {
   "cell_type": "code",
   "execution_count": 40,
   "metadata": {},
   "outputs": [
    {
     "data": {
      "text/plain": [
       "hardwarezone    6081\n",
       "reddit          3493\n",
       "sgtalk           694\n",
       "Name: source, dtype: int64"
      ]
     },
     "execution_count": 40,
     "metadata": {},
     "output_type": "execute_result"
    }
   ],
   "source": [
    "all_posts['source'].value_counts()"
   ]
  },
  {
   "cell_type": "code",
   "execution_count": 41,
   "metadata": {
    "scrolled": false
   },
   "outputs": [
    {
     "name": "stdout",
     "output_type": "stream",
     "text": [
      "**********REDDIT**********\n",
      "\n",
      "reddit posts with negative sentiment\n"
     ]
    },
    {
     "name": "stderr",
     "output_type": "stream",
     "text": [
      "/Users/dorafoong/opt/anaconda3/lib/python3.7/site-packages/ipykernel_launcher.py:7: UserWarning: Boolean Series key will be reindexed to match DataFrame index.\n",
      "  import sys\n"
     ]
    },
    {
     "data": {
      "text/plain": [
       "post                    247\n",
       "label                   247\n",
       "date                    247\n",
       "source                  247\n",
       "post_clean_rnn          247\n",
       "post_clean_nb_logreg    247\n",
       "dtype: int64"
      ]
     },
     "metadata": {},
     "output_type": "display_data"
    },
    {
     "name": "stdout",
     "output_type": "stream",
     "text": [
      "reddit posts with neutral sentiment\n"
     ]
    },
    {
     "name": "stderr",
     "output_type": "stream",
     "text": [
      "/Users/dorafoong/opt/anaconda3/lib/python3.7/site-packages/ipykernel_launcher.py:10: UserWarning: Boolean Series key will be reindexed to match DataFrame index.\n",
      "  # Remove the CWD from sys.path while we load stuff.\n"
     ]
    },
    {
     "data": {
      "text/plain": [
       "post                    3109\n",
       "label                   3109\n",
       "date                    3109\n",
       "source                  3109\n",
       "post_clean_rnn          3109\n",
       "post_clean_nb_logreg    3109\n",
       "dtype: int64"
      ]
     },
     "metadata": {},
     "output_type": "display_data"
    },
    {
     "name": "stdout",
     "output_type": "stream",
     "text": [
      "reddit posts with positive sentiment\n"
     ]
    },
    {
     "name": "stderr",
     "output_type": "stream",
     "text": [
      "/Users/dorafoong/opt/anaconda3/lib/python3.7/site-packages/ipykernel_launcher.py:13: UserWarning: Boolean Series key will be reindexed to match DataFrame index.\n",
      "  del sys.path[0]\n"
     ]
    },
    {
     "data": {
      "text/plain": [
       "post                    137\n",
       "label                   137\n",
       "date                    137\n",
       "source                  137\n",
       "post_clean_rnn          137\n",
       "post_clean_nb_logreg    137\n",
       "dtype: int64"
      ]
     },
     "metadata": {},
     "output_type": "display_data"
    },
    {
     "name": "stdout",
     "output_type": "stream",
     "text": [
      "**********HARDWAREZONE**********\n",
      "\n",
      "hardwarezone posts with negative sentiment\n"
     ]
    },
    {
     "name": "stderr",
     "output_type": "stream",
     "text": [
      "/Users/dorafoong/opt/anaconda3/lib/python3.7/site-packages/ipykernel_launcher.py:19: UserWarning: Boolean Series key will be reindexed to match DataFrame index.\n"
     ]
    },
    {
     "data": {
      "text/plain": [
       "post                    673\n",
       "label                   673\n",
       "date                    673\n",
       "source                  673\n",
       "post_clean_rnn          673\n",
       "post_clean_nb_logreg    673\n",
       "dtype: int64"
      ]
     },
     "metadata": {},
     "output_type": "display_data"
    },
    {
     "name": "stdout",
     "output_type": "stream",
     "text": [
      "hardwarezone posts with neutral sentiment\n"
     ]
    },
    {
     "name": "stderr",
     "output_type": "stream",
     "text": [
      "/Users/dorafoong/opt/anaconda3/lib/python3.7/site-packages/ipykernel_launcher.py:22: UserWarning: Boolean Series key will be reindexed to match DataFrame index.\n"
     ]
    },
    {
     "data": {
      "text/plain": [
       "post                    5318\n",
       "label                   5318\n",
       "date                    5318\n",
       "source                  5318\n",
       "post_clean_rnn          5318\n",
       "post_clean_nb_logreg    5318\n",
       "dtype: int64"
      ]
     },
     "metadata": {},
     "output_type": "display_data"
    },
    {
     "name": "stdout",
     "output_type": "stream",
     "text": [
      "hardwarezone posts with positive sentiment\n"
     ]
    },
    {
     "name": "stderr",
     "output_type": "stream",
     "text": [
      "/Users/dorafoong/opt/anaconda3/lib/python3.7/site-packages/ipykernel_launcher.py:25: UserWarning: Boolean Series key will be reindexed to match DataFrame index.\n"
     ]
    },
    {
     "data": {
      "text/plain": [
       "post                    90\n",
       "label                   90\n",
       "date                    90\n",
       "source                  90\n",
       "post_clean_rnn          90\n",
       "post_clean_nb_logreg    90\n",
       "dtype: int64"
      ]
     },
     "metadata": {},
     "output_type": "display_data"
    },
    {
     "name": "stdout",
     "output_type": "stream",
     "text": [
      "**********SGTALK**********\n",
      "\n",
      "sgtalk posts with negative sentiment\n"
     ]
    },
    {
     "name": "stderr",
     "output_type": "stream",
     "text": [
      "/Users/dorafoong/opt/anaconda3/lib/python3.7/site-packages/ipykernel_launcher.py:31: UserWarning: Boolean Series key will be reindexed to match DataFrame index.\n"
     ]
    },
    {
     "data": {
      "text/plain": [
       "post                    200\n",
       "label                   200\n",
       "date                    200\n",
       "source                  200\n",
       "post_clean_rnn          200\n",
       "post_clean_nb_logreg    200\n",
       "dtype: int64"
      ]
     },
     "metadata": {},
     "output_type": "display_data"
    },
    {
     "name": "stdout",
     "output_type": "stream",
     "text": [
      "sgtalk posts with neutral sentiment\n"
     ]
    },
    {
     "name": "stderr",
     "output_type": "stream",
     "text": [
      "/Users/dorafoong/opt/anaconda3/lib/python3.7/site-packages/ipykernel_launcher.py:34: UserWarning: Boolean Series key will be reindexed to match DataFrame index.\n"
     ]
    },
    {
     "data": {
      "text/plain": [
       "post                    480\n",
       "label                   480\n",
       "date                    480\n",
       "source                  480\n",
       "post_clean_rnn          480\n",
       "post_clean_nb_logreg    480\n",
       "dtype: int64"
      ]
     },
     "metadata": {},
     "output_type": "display_data"
    },
    {
     "name": "stdout",
     "output_type": "stream",
     "text": [
      "sgtalk posts with positive sentiment\n"
     ]
    },
    {
     "name": "stderr",
     "output_type": "stream",
     "text": [
      "/Users/dorafoong/opt/anaconda3/lib/python3.7/site-packages/ipykernel_launcher.py:37: UserWarning: Boolean Series key will be reindexed to match DataFrame index.\n"
     ]
    },
    {
     "data": {
      "text/plain": [
       "post                    14\n",
       "label                   14\n",
       "date                    14\n",
       "source                  14\n",
       "post_clean_rnn          14\n",
       "post_clean_nb_logreg    14\n",
       "dtype: int64"
      ]
     },
     "metadata": {},
     "output_type": "display_data"
    }
   ],
   "source": [
    "#positive/neutral/neg posts skewed to which source?\n",
    "\n",
    "#REDDIT\n",
    "print('**********REDDIT**********')\n",
    "print('')\n",
    "print('reddit posts with negative sentiment')\n",
    "display(all_posts[all_posts['label'] == 0][all_posts['source'] == 'reddit'].count())\n",
    "\n",
    "print('reddit posts with neutral sentiment')\n",
    "display(all_posts[all_posts['label'] == 1][all_posts['source'] == 'reddit'].count())\n",
    "\n",
    "print('reddit posts with positive sentiment')\n",
    "display(all_posts[all_posts['label'] == 2][all_posts['source'] == 'reddit'].count())\n",
    "\n",
    "#HARDWAREZONE\n",
    "print('**********HARDWAREZONE**********')\n",
    "print('')\n",
    "print('hardwarezone posts with negative sentiment')\n",
    "display(all_posts[all_posts['label'] == 0][all_posts['source'] == 'hardwarezone'].count())\n",
    "\n",
    "print('hardwarezone posts with neutral sentiment')\n",
    "display(all_posts[all_posts['label'] == 1][all_posts['source'] == 'hardwarezone'].count())\n",
    "\n",
    "print('hardwarezone posts with positive sentiment')\n",
    "display(all_posts[all_posts['label'] == 2][all_posts['source'] == 'hardwarezone'].count())\n",
    "\n",
    "#SGTALK\n",
    "print('**********SGTALK**********')\n",
    "print('')\n",
    "print('sgtalk posts with negative sentiment')\n",
    "display(all_posts[all_posts['label'] == 0][all_posts['source'] == 'sgtalk'].count())\n",
    "\n",
    "print('sgtalk posts with neutral sentiment')\n",
    "display(all_posts[all_posts['label'] == 1][all_posts['source'] == 'sgtalk'].count())\n",
    "\n",
    "print('sgtalk posts with positive sentiment')\n",
    "display(all_posts[all_posts['label'] == 2][all_posts['source'] == 'sgtalk'].count())"
   ]
  },
  {
   "cell_type": "code",
   "execution_count": 42,
   "metadata": {},
   "outputs": [
    {
     "data": {
      "text/plain": [
       "array(['2020-10-04 08:34:00', '2020-04-11 12:26:38',\n",
       "       '2020-04-23 10:42:00', ..., '2020-11-05 22:17:00',\n",
       "       '2020-10-04 08:30:00', '2020-04-14 13:34:14'], dtype=object)"
      ]
     },
     "execution_count": 42,
     "metadata": {},
     "output_type": "execute_result"
    }
   ],
   "source": [
    "# num of positive/neg posts evolved over time? \n",
    "# unable to generate insights as many post dates were incorrectly labelled by the source \n",
    "\n",
    "all_posts['date'].unique()"
   ]
  },
  {
   "cell_type": "markdown",
   "metadata": {},
   "source": [
    "---\n",
    "## Saving model for deployment "
   ]
  },
  {
   "cell_type": "code",
   "execution_count": 43,
   "metadata": {},
   "outputs": [],
   "source": [
    "import pickle\n",
    "import joblib"
   ]
  },
  {
   "cell_type": "code",
   "execution_count": 44,
   "metadata": {},
   "outputs": [
    {
     "data": {
      "text/plain": [
       "['production_sentiment_analysis_model.pkl']"
      ]
     },
     "execution_count": 44,
     "metadata": {},
     "output_type": "execute_result"
    }
   ],
   "source": [
    "joblib.dump(production_model, 'production_sentiment_analysis_model.pkl') "
   ]
  },
  {
   "cell_type": "code",
   "execution_count": null,
   "metadata": {},
   "outputs": [],
   "source": []
  }
 ],
 "metadata": {
  "kernelspec": {
   "display_name": "Python 3",
   "language": "python",
   "name": "python3"
  },
  "language_info": {
   "codemirror_mode": {
    "name": "ipython",
    "version": 3
   },
   "file_extension": ".py",
   "mimetype": "text/x-python",
   "name": "python",
   "nbconvert_exporter": "python",
   "pygments_lexer": "ipython3",
   "version": "3.7.6"
  }
 },
 "nbformat": 4,
 "nbformat_minor": 4
}
