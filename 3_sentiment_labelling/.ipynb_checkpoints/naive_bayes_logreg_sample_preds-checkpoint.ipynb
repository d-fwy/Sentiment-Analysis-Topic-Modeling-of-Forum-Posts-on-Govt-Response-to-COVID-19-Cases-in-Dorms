{
 "cells": [
  {
   "cell_type": "markdown",
   "metadata": {},
   "source": [
    "## Using supervised learning models (Multinomial Naive Bayes and Logistic Regression) to label sentiment of posts\n",
    "\n",
    "Having manually labelled 1000 posts from the train set, these labelled posts were used to train both Multinomial NB and Log Reg models to incrementally label the remaining 7000 posts in the train set.\n",
    "\n",
    "Process:\n",
    "1. Manually label 1000 posts \n",
    "2. Split posts to train and val set\n",
    "3. Train models\n",
    "4. Evaluate best performing model on val set \n",
    "5. Use models to predict next 1000 posts \n",
    "6. Manually check accuracy of predictions, make changes to labels \n",
    "7. Combine all labelled posts \n",
    "8. Repeat 2-7 until all posts in train set labelled"
   ]
  },
  {
   "cell_type": "code",
   "execution_count": 2,
   "metadata": {},
   "outputs": [],
   "source": [
    "import pandas as pd\n",
    "import numpy as np\n",
    "import matplotlib.pyplot as plt\n",
    "from sklearn.feature_extraction.text import CountVectorizer, TfidfVectorizer\n",
    "from sklearn.pipeline import Pipeline\n",
    "from sklearn.model_selection import train_test_split, GridSearchCV\n",
    "from sklearn.naive_bayes import MultinomialNB\n",
    "from sklearn.linear_model import LogisticRegression\n",
    "from sklearn.metrics import roc_auc_score, f1_score, confusion_matrix"
   ]
  },
  {
   "cell_type": "code",
   "execution_count": 4,
   "metadata": {},
   "outputs": [
    {
     "data": {
      "text/html": [
       "<div>\n",
       "<style scoped>\n",
       "    .dataframe tbody tr th:only-of-type {\n",
       "        vertical-align: middle;\n",
       "    }\n",
       "\n",
       "    .dataframe tbody tr th {\n",
       "        vertical-align: top;\n",
       "    }\n",
       "\n",
       "    .dataframe thead th {\n",
       "        text-align: right;\n",
       "    }\n",
       "</style>\n",
       "<table border=\"1\" class=\"dataframe\">\n",
       "  <thead>\n",
       "    <tr style=\"text-align: right;\">\n",
       "      <th></th>\n",
       "      <th>Unnamed: 0</th>\n",
       "      <th>post</th>\n",
       "      <th>manual sentiment</th>\n",
       "      <th>date</th>\n",
       "      <th>source</th>\n",
       "      <th>post_clean</th>\n",
       "    </tr>\n",
       "  </thead>\n",
       "  <tbody>\n",
       "    <tr>\n",
       "      <th>0</th>\n",
       "      <td>0</td>\n",
       "      <td>&gt;For consistency and accuracy, it could be eas...</td>\n",
       "      <td>0</td>\n",
       "      <td>2020-04-11 12:26:38</td>\n",
       "      <td>reddit</td>\n",
       "      <td>consistency accuracy could easier use data new...</td>\n",
       "    </tr>\n",
       "    <tr>\n",
       "      <th>1</th>\n",
       "      <td>1</td>\n",
       "      <td>Only IQ lower than 86 will believe this CSB.Wh...</td>\n",
       "      <td>0</td>\n",
       "      <td>2020-04-23 10:42:00</td>\n",
       "      <td>hardwarezone</td>\n",
       "      <td>iq lower 86 believe csb maids pregnant nothing...</td>\n",
       "    </tr>\n",
       "    <tr>\n",
       "      <th>2</th>\n",
       "      <td>2</td>\n",
       "      <td>I work nearby to the Westlite and Toh Guan Dor...</td>\n",
       "      <td>0</td>\n",
       "      <td>2020-04-06 20:55:47</td>\n",
       "      <td>reddit</td>\n",
       "      <td>work nearby westlite toh guan initial reports ...</td>\n",
       "    </tr>\n",
       "    <tr>\n",
       "      <th>3</th>\n",
       "      <td>3</td>\n",
       "      <td>Ho seh liao</td>\n",
       "      <td>0</td>\n",
       "      <td>2020-09-04 21:43:00</td>\n",
       "      <td>hardwarezone</td>\n",
       "      <td>ho seh</td>\n",
       "    </tr>\n",
       "    <tr>\n",
       "      <th>4</th>\n",
       "      <td>4</td>\n",
       "      <td>I’m not saying we caused this spread among the...</td>\n",
       "      <td>0</td>\n",
       "      <td>2020-04-16 23:59:35</td>\n",
       "      <td>reddit</td>\n",
       "      <td>not saying caused spread among agree oversight...</td>\n",
       "    </tr>\n",
       "  </tbody>\n",
       "</table>\n",
       "</div>"
      ],
      "text/plain": [
       "   Unnamed: 0                                               post  \\\n",
       "0           0  >For consistency and accuracy, it could be eas...   \n",
       "1           1  Only IQ lower than 86 will believe this CSB.Wh...   \n",
       "2           2  I work nearby to the Westlite and Toh Guan Dor...   \n",
       "3           3                                        Ho seh liao   \n",
       "4           4  I’m not saying we caused this spread among the...   \n",
       "\n",
       "   manual sentiment                 date        source  \\\n",
       "0                 0  2020-04-11 12:26:38        reddit   \n",
       "1                 0  2020-04-23 10:42:00  hardwarezone   \n",
       "2                 0  2020-04-06 20:55:47        reddit   \n",
       "3                 0  2020-09-04 21:43:00  hardwarezone   \n",
       "4                 0  2020-04-16 23:59:35        reddit   \n",
       "\n",
       "                                          post_clean  \n",
       "0  consistency accuracy could easier use data new...  \n",
       "1  iq lower 86 believe csb maids pregnant nothing...  \n",
       "2  work nearby westlite toh guan initial reports ...  \n",
       "3                                             ho seh  \n",
       "4  not saying caused spread among agree oversight...  "
      ]
     },
     "execution_count": 4,
     "metadata": {},
     "output_type": "execute_result"
    }
   ],
   "source": [
    "sample_posts = pd.read_csv('./labelled_posts/train_posts_sample_1000_manual_label.clean.csv')\n",
    "sample_posts.head()"
   ]
  },
  {
   "cell_type": "code",
   "execution_count": 5,
   "metadata": {},
   "outputs": [],
   "source": [
    "sample_posts.drop(columns = ['Unnamed: 0'], inplace=True)\n",
    "sample_posts.fillna('nopost', inplace=True)"
   ]
  },
  {
   "cell_type": "code",
   "execution_count": 6,
   "metadata": {},
   "outputs": [],
   "source": [
    "#features matrix\n",
    "\n",
    "X = sample_posts['post_clean']\n",
    "y = sample_posts['manual sentiment']"
   ]
  },
  {
   "cell_type": "code",
   "execution_count": 7,
   "metadata": {},
   "outputs": [
    {
     "data": {
      "text/plain": [
       "1    0.738\n",
       "0    0.205\n",
       "2    0.057\n",
       "Name: manual sentiment, dtype: float64"
      ]
     },
     "execution_count": 7,
     "metadata": {},
     "output_type": "execute_result"
    }
   ],
   "source": [
    "#baseline \n",
    "y.value_counts(normalize=True)\n",
    "\n",
    "# 0 - negative post\n",
    "# 1 - neutral post \n",
    "# 2 - positive post \n",
    "\n",
    "#data is skewed to neutral post, very imbalanced for other classes \n",
    "#use SMOTE?"
   ]
  },
  {
   "cell_type": "code",
   "execution_count": 8,
   "metadata": {},
   "outputs": [],
   "source": [
    "#train-test-split\n",
    "X_train, X_test, y_train, y_test = train_test_split(X, \n",
    "                                                    y, \n",
    "                                                    test_size = 0.2, \n",
    "                                                    stratify=y, \n",
    "                                                    random_state = 42)"
   ]
  },
  {
   "cell_type": "code",
   "execution_count": 9,
   "metadata": {},
   "outputs": [
    {
     "name": "stdout",
     "output_type": "stream",
     "text": [
      "Fitting 5 folds for each of 540 candidates, totalling 2700 fits\n"
     ]
    },
    {
     "name": "stderr",
     "output_type": "stream",
     "text": [
      "[Parallel(n_jobs=-1)]: Using backend LokyBackend with 4 concurrent workers.\n",
      "[Parallel(n_jobs=-1)]: Done  42 tasks      | elapsed:   10.0s\n",
      "[Parallel(n_jobs=-1)]: Done 192 tasks      | elapsed:   18.3s\n",
      "[Parallel(n_jobs=-1)]: Done 442 tasks      | elapsed:   35.8s\n",
      "[Parallel(n_jobs=-1)]: Done 792 tasks      | elapsed:  1.0min\n",
      "[Parallel(n_jobs=-1)]: Done 1242 tasks      | elapsed:  1.5min\n",
      "[Parallel(n_jobs=-1)]: Done 1792 tasks      | elapsed:  2.4min\n",
      "[Parallel(n_jobs=-1)]: Done 2442 tasks      | elapsed:  3.7min\n",
      "[Parallel(n_jobs=-1)]: Done 2700 out of 2700 | elapsed:  4.0min finished\n"
     ]
    },
    {
     "data": {
      "text/plain": [
       "GridSearchCV(cv=5,\n",
       "             estimator=Pipeline(steps=[('tvec', TfidfVectorizer()),\n",
       "                                       ('lr',\n",
       "                                        LogisticRegression(solver='liblinear'))]),\n",
       "             n_jobs=-1,\n",
       "             param_grid={'lr__C': array([1.00000000e-05, 4.64158883e-05, 2.15443469e-04, 1.00000000e-03,\n",
       "       4.64158883e-03, 2.15443469e-02, 1.00000000e-01, 4.64158883e-01,\n",
       "       2.15443469e+00, 1.00000000e+01]),\n",
       "                         'lr__penalty': ['l1', 'l2'],\n",
       "                         'tvec__max_df': [0.2, 0.3, 0.7],\n",
       "                         'tvec__max_features': [100, 200, 500],\n",
       "                         'tvec__min_df': [2, 4, 6],\n",
       "                         'tvec__ngram_range': [(1, 1)]},\n",
       "             verbose=1)"
      ]
     },
     "execution_count": 9,
     "metadata": {},
     "output_type": "execute_result"
    }
   ],
   "source": [
    "#logreg\n",
    "\n",
    "pipe = Pipeline([\n",
    "    ('tvec', TfidfVectorizer()),\n",
    "    ('lr', LogisticRegression(solver = 'liblinear'))\n",
    "])\n",
    "\n",
    "pipe_params = {\n",
    "    'tvec__max_features': [100, 200, 500],\n",
    "    'tvec__min_df': [2, 4, 6],\n",
    "    'tvec__max_df': [0.2, 0.3, 0.7],\n",
    "    'tvec__ngram_range': [(1,1)],\n",
    "    'lr__penalty': ['l1', 'l2'],\n",
    "    'lr__C': np.logspace(-5, 1, 10)\n",
    "}\n",
    "\n",
    "gscv_lr = GridSearchCV(pipe, pipe_params, cv=5, n_jobs =-1, verbose=1)\n",
    "gscv_lr.fit(X_train, y_train)"
   ]
  },
  {
   "cell_type": "code",
   "execution_count": 10,
   "metadata": {
    "scrolled": true
   },
   "outputs": [
    {
     "data": {
      "text/plain": [
       "{'lr__C': 10.0,\n",
       " 'lr__penalty': 'l2',\n",
       " 'tvec__max_df': 0.3,\n",
       " 'tvec__max_features': 500,\n",
       " 'tvec__min_df': 2,\n",
       " 'tvec__ngram_range': (1, 1)}"
      ]
     },
     "execution_count": 10,
     "metadata": {},
     "output_type": "execute_result"
    }
   ],
   "source": [
    "gscv_lr.best_params_"
   ]
  },
  {
   "cell_type": "code",
   "execution_count": 11,
   "metadata": {},
   "outputs": [
    {
     "data": {
      "text/plain": [
       "Pipeline(steps=[('tvec',\n",
       "                 TfidfVectorizer(max_df=0.3, max_features=500, min_df=2)),\n",
       "                ('lr', LogisticRegression(C=10.0, solver='liblinear'))])"
      ]
     },
     "execution_count": 11,
     "metadata": {},
     "output_type": "execute_result"
    }
   ],
   "source": [
    "#fitting model with optimised params \n",
    "opt_gscv_lr = gscv_lr.best_estimator_\n",
    "opt_gscv_lr.fit(X_train, y_train)"
   ]
  },
  {
   "cell_type": "code",
   "execution_count": 12,
   "metadata": {},
   "outputs": [
    {
     "data": {
      "text/html": [
       "<div>\n",
       "<style scoped>\n",
       "    .dataframe tbody tr th:only-of-type {\n",
       "        vertical-align: middle;\n",
       "    }\n",
       "\n",
       "    .dataframe tbody tr th {\n",
       "        vertical-align: top;\n",
       "    }\n",
       "\n",
       "    .dataframe thead th {\n",
       "        text-align: right;\n",
       "    }\n",
       "</style>\n",
       "<table border=\"1\" class=\"dataframe\">\n",
       "  <thead>\n",
       "    <tr style=\"text-align: right;\">\n",
       "      <th></th>\n",
       "      <th>model</th>\n",
       "      <th>optimised_params</th>\n",
       "      <th>train_score</th>\n",
       "      <th>test_score</th>\n",
       "    </tr>\n",
       "  </thead>\n",
       "  <tbody>\n",
       "    <tr>\n",
       "      <th>0</th>\n",
       "      <td>tvec + logistic regression</td>\n",
       "      <td>{'lr__C': 10.0, 'lr__penalty': 'l2', 'tvec__ma...</td>\n",
       "      <td>0.935</td>\n",
       "      <td>0.775</td>\n",
       "    </tr>\n",
       "  </tbody>\n",
       "</table>\n",
       "</div>"
      ],
      "text/plain": [
       "                        model  \\\n",
       "0  tvec + logistic regression   \n",
       "\n",
       "                                    optimised_params  train_score  test_score  \n",
       "0  {'lr__C': 10.0, 'lr__penalty': 'l2', 'tvec__ma...        0.935       0.775  "
      ]
     },
     "execution_count": 12,
     "metadata": {},
     "output_type": "execute_result"
    }
   ],
   "source": [
    "#create dataframe of metrics based on optimised model \n",
    "opt_results_lr = pd.DataFrame()\n",
    "\n",
    "opt_results_lr['model'] = ['tvec + logistic regression']\n",
    "opt_results_lr['optimised_params'] = [gscv_lr.best_params_]\n",
    "opt_results_lr['train_score'] = opt_gscv_lr.score(X_train, y_train)\n",
    "opt_results_lr['test_score'] = opt_gscv_lr.score(X_test, y_test)\n",
    "\n",
    "opt_results_lr"
   ]
  },
  {
   "cell_type": "code",
   "execution_count": 13,
   "metadata": {},
   "outputs": [],
   "source": [
    "from sklearn.metrics import multilabel_confusion_matrix, classification_report"
   ]
  },
  {
   "cell_type": "code",
   "execution_count": 14,
   "metadata": {},
   "outputs": [
    {
     "data": {
      "text/html": [
       "<div>\n",
       "<style scoped>\n",
       "    .dataframe tbody tr th:only-of-type {\n",
       "        vertical-align: middle;\n",
       "    }\n",
       "\n",
       "    .dataframe tbody tr th {\n",
       "        vertical-align: top;\n",
       "    }\n",
       "\n",
       "    .dataframe thead th {\n",
       "        text-align: right;\n",
       "    }\n",
       "</style>\n",
       "<table border=\"1\" class=\"dataframe\">\n",
       "  <thead>\n",
       "    <tr style=\"text-align: right;\">\n",
       "      <th></th>\n",
       "      <th>0</th>\n",
       "      <th>1</th>\n",
       "      <th>2</th>\n",
       "    </tr>\n",
       "  </thead>\n",
       "  <tbody>\n",
       "    <tr>\n",
       "      <th>0</th>\n",
       "      <td>11</td>\n",
       "      <td>30</td>\n",
       "      <td>0</td>\n",
       "    </tr>\n",
       "    <tr>\n",
       "      <th>1</th>\n",
       "      <td>4</td>\n",
       "      <td>144</td>\n",
       "      <td>0</td>\n",
       "    </tr>\n",
       "    <tr>\n",
       "      <th>2</th>\n",
       "      <td>1</td>\n",
       "      <td>10</td>\n",
       "      <td>0</td>\n",
       "    </tr>\n",
       "  </tbody>\n",
       "</table>\n",
       "</div>"
      ],
      "text/plain": [
       "    0    1  2\n",
       "0  11   30  0\n",
       "1   4  144  0\n",
       "2   1   10  0"
      ]
     },
     "metadata": {},
     "output_type": "display_data"
    },
    {
     "data": {
      "text/plain": [
       "array([[[154,   5],\n",
       "        [ 30,  11]],\n",
       "\n",
       "       [[ 12,  40],\n",
       "        [  4, 144]],\n",
       "\n",
       "       [[189,   0],\n",
       "        [ 11,   0]]])"
      ]
     },
     "metadata": {},
     "output_type": "display_data"
    },
    {
     "name": "stdout",
     "output_type": "stream",
     "text": [
      "              precision    recall  f1-score   support\n",
      "\n",
      "           0      0.688     0.268     0.386        41\n",
      "           1      0.783     0.973     0.867       148\n",
      "           2      0.000     0.000     0.000        11\n",
      "\n",
      "    accuracy                          0.775       200\n",
      "   macro avg      0.490     0.414     0.418       200\n",
      "weighted avg      0.720     0.775     0.721       200\n",
      "\n"
     ]
    },
    {
     "name": "stderr",
     "output_type": "stream",
     "text": [
      "/Users/dorafoong/opt/anaconda3/lib/python3.7/site-packages/sklearn/metrics/_classification.py:1221: UndefinedMetricWarning: Precision and F-score are ill-defined and being set to 0.0 in labels with no predicted samples. Use `zero_division` parameter to control this behavior.\n",
      "  _warn_prf(average, modifier, msg_start, len(result))\n"
     ]
    }
   ],
   "source": [
    "#confusion matrix for logreg\n",
    "\n",
    "y_pred_lr = opt_gscv_lr.predict(X_test)\n",
    "cm = confusion_matrix(y_test, y_pred_lr)\n",
    "cm_df = pd.DataFrame(cm,\n",
    "                     index = [0,1,2], \n",
    "                     columns = [0,1,2])\n",
    "display(cm_df)\n",
    "display(multilabel_confusion_matrix(y_test, y_pred_lr))\n",
    "\n",
    "print(classification_report(y_test, y_pred_lr, digits=3))"
   ]
  },
  {
   "cell_type": "code",
   "execution_count": 15,
   "metadata": {},
   "outputs": [
    {
     "name": "stdout",
     "output_type": "stream",
     "text": [
      "OVO ROC AUC scores: 0.6221(macro), 0.6385(weighted by prevalence)\n"
     ]
    }
   ],
   "source": [
    "y_prob_lr = opt_gscv_lr.predict_proba(X_test)\n",
    "\n",
    "macro_roc_auc_ovo = roc_auc_score(y_test, y_prob_lr, multi_class=\"ovo\",\n",
    "                                  average=\"macro\")\n",
    "weighted_roc_auc_ovo = roc_auc_score(y_test, y_prob_lr, multi_class=\"ovo\",\n",
    "                                     average=\"weighted\")\n",
    "\n",
    "print(f'OVO ROC AUC scores: {macro_roc_auc_ovo:.4f}(macro), {weighted_roc_auc_ovo:.4f}(weighted by prevalence)')"
   ]
  },
  {
   "cell_type": "code",
   "execution_count": 16,
   "metadata": {
    "scrolled": true
   },
   "outputs": [
    {
     "name": "stderr",
     "output_type": "stream",
     "text": [
      "[Parallel(n_jobs=-1)]: Using backend LokyBackend with 4 concurrent workers.\n"
     ]
    },
    {
     "name": "stdout",
     "output_type": "stream",
     "text": [
      "Fitting 5 folds for each of 27 candidates, totalling 135 fits\n"
     ]
    },
    {
     "name": "stderr",
     "output_type": "stream",
     "text": [
      "[Parallel(n_jobs=-1)]: Done  74 tasks      | elapsed:    4.3s\n",
      "[Parallel(n_jobs=-1)]: Done 128 out of 135 | elapsed:    8.0s remaining:    0.4s\n",
      "[Parallel(n_jobs=-1)]: Done 135 out of 135 | elapsed:    8.5s finished\n"
     ]
    },
    {
     "data": {
      "text/plain": [
       "GridSearchCV(cv=5,\n",
       "             estimator=Pipeline(steps=[('cvec', CountVectorizer()),\n",
       "                                       ('nb', MultinomialNB())]),\n",
       "             n_jobs=-1,\n",
       "             param_grid={'cvec__max_df': [0.2, 0.3, 0.7],\n",
       "                         'cvec__max_features': [100, 200, 500],\n",
       "                         'cvec__min_df': [2, 4, 6],\n",
       "                         'cvec__ngram_range': [(1, 1)]},\n",
       "             verbose=1)"
      ]
     },
     "execution_count": 16,
     "metadata": {},
     "output_type": "execute_result"
    }
   ],
   "source": [
    "pipe = Pipeline([\n",
    "    ('cvec', CountVectorizer()),\n",
    "    ('nb', MultinomialNB())\n",
    "])\n",
    "\n",
    "\n",
    "pipe_params = {\n",
    "    'cvec__max_features': [100, 200, 500],\n",
    "    'cvec__min_df': [2, 4, 6],\n",
    "    'cvec__max_df': [0.2, 0.3, 0.7],\n",
    "    'cvec__ngram_range': [(1,1)]}\n",
    "\n",
    "\n",
    "gscv_nb = GridSearchCV(pipe, pipe_params, cv=5, n_jobs =-1, verbose=1)\n",
    "gscv_nb.fit(X_train, y_train)"
   ]
  },
  {
   "cell_type": "code",
   "execution_count": 17,
   "metadata": {
    "scrolled": true
   },
   "outputs": [
    {
     "data": {
      "text/plain": [
       "{'cvec__max_df': 0.3,\n",
       " 'cvec__max_features': 100,\n",
       " 'cvec__min_df': 6,\n",
       " 'cvec__ngram_range': (1, 1)}"
      ]
     },
     "execution_count": 17,
     "metadata": {},
     "output_type": "execute_result"
    }
   ],
   "source": [
    "gscv_nb.best_params_"
   ]
  },
  {
   "cell_type": "code",
   "execution_count": 18,
   "metadata": {},
   "outputs": [
    {
     "data": {
      "text/plain": [
       "Pipeline(steps=[('cvec',\n",
       "                 CountVectorizer(max_df=0.3, max_features=100, min_df=6)),\n",
       "                ('nb', MultinomialNB())])"
      ]
     },
     "execution_count": 18,
     "metadata": {},
     "output_type": "execute_result"
    }
   ],
   "source": [
    "#fitting model with optimised params \n",
    "opt_gscv_nb = gscv_nb.best_estimator_\n",
    "opt_gscv_nb.fit(X_train, y_train)"
   ]
  },
  {
   "cell_type": "code",
   "execution_count": 24,
   "metadata": {},
   "outputs": [
    {
     "data": {
      "text/html": [
       "<div>\n",
       "<style scoped>\n",
       "    .dataframe tbody tr th:only-of-type {\n",
       "        vertical-align: middle;\n",
       "    }\n",
       "\n",
       "    .dataframe tbody tr th {\n",
       "        vertical-align: top;\n",
       "    }\n",
       "\n",
       "    .dataframe thead th {\n",
       "        text-align: right;\n",
       "    }\n",
       "</style>\n",
       "<table border=\"1\" class=\"dataframe\">\n",
       "  <thead>\n",
       "    <tr style=\"text-align: right;\">\n",
       "      <th></th>\n",
       "      <th>model</th>\n",
       "      <th>optimised_params</th>\n",
       "      <th>train_score</th>\n",
       "      <th>test_score</th>\n",
       "    </tr>\n",
       "  </thead>\n",
       "  <tbody>\n",
       "    <tr>\n",
       "      <th>0</th>\n",
       "      <td>cvec + multinomial nb</td>\n",
       "      <td>{'cvec__max_df': 0.3, 'cvec__max_features': 10...</td>\n",
       "      <td>0.78125</td>\n",
       "      <td>0.775</td>\n",
       "    </tr>\n",
       "  </tbody>\n",
       "</table>\n",
       "</div>"
      ],
      "text/plain": [
       "                   model                                   optimised_params  \\\n",
       "0  cvec + multinomial nb  {'cvec__max_df': 0.3, 'cvec__max_features': 10...   \n",
       "\n",
       "   train_score  test_score  \n",
       "0      0.78125       0.775  "
      ]
     },
     "execution_count": 24,
     "metadata": {},
     "output_type": "execute_result"
    }
   ],
   "source": [
    "#create dataframe of metrics based on optimised model \n",
    "opt_results_nb = pd.DataFrame()\n",
    "\n",
    "opt_results_nb['model'] = ['cvec + multinomial nb']\n",
    "opt_results_nb['optimised_params'] = [gscv_nb.best_params_]\n",
    "opt_results_nb['train_score'] = opt_gscv_nb.score(X_train, y_train)\n",
    "opt_results_nb['test_score'] = opt_gscv_nb.score(X_test, y_test)\n",
    "\n",
    "opt_results_nb"
   ]
  },
  {
   "cell_type": "code",
   "execution_count": 20,
   "metadata": {
    "scrolled": true
   },
   "outputs": [
    {
     "data": {
      "text/html": [
       "<div>\n",
       "<style scoped>\n",
       "    .dataframe tbody tr th:only-of-type {\n",
       "        vertical-align: middle;\n",
       "    }\n",
       "\n",
       "    .dataframe tbody tr th {\n",
       "        vertical-align: top;\n",
       "    }\n",
       "\n",
       "    .dataframe thead th {\n",
       "        text-align: right;\n",
       "    }\n",
       "</style>\n",
       "<table border=\"1\" class=\"dataframe\">\n",
       "  <thead>\n",
       "    <tr style=\"text-align: right;\">\n",
       "      <th></th>\n",
       "      <th>0</th>\n",
       "      <th>1</th>\n",
       "      <th>2</th>\n",
       "    </tr>\n",
       "  </thead>\n",
       "  <tbody>\n",
       "    <tr>\n",
       "      <th>0</th>\n",
       "      <td>11</td>\n",
       "      <td>30</td>\n",
       "      <td>0</td>\n",
       "    </tr>\n",
       "    <tr>\n",
       "      <th>1</th>\n",
       "      <td>3</td>\n",
       "      <td>144</td>\n",
       "      <td>1</td>\n",
       "    </tr>\n",
       "    <tr>\n",
       "      <th>2</th>\n",
       "      <td>3</td>\n",
       "      <td>8</td>\n",
       "      <td>0</td>\n",
       "    </tr>\n",
       "  </tbody>\n",
       "</table>\n",
       "</div>"
      ],
      "text/plain": [
       "    0    1  2\n",
       "0  11   30  0\n",
       "1   3  144  1\n",
       "2   3    8  0"
      ]
     },
     "execution_count": 20,
     "metadata": {},
     "output_type": "execute_result"
    }
   ],
   "source": [
    "#confusion matrix for multinomial nb \n",
    "\n",
    "y_pred_nb = opt_gscv_nb.predict(X_test)\n",
    "cm = confusion_matrix(y_test, y_pred_nb)\n",
    "cm_df = pd.DataFrame(cm,\n",
    "                     index = [0,1,2], \n",
    "                     columns = [0,1,2])\n",
    "cm_df"
   ]
  },
  {
   "cell_type": "code",
   "execution_count": 21,
   "metadata": {},
   "outputs": [
    {
     "data": {
      "text/plain": [
       "array([[[153,   6],\n",
       "        [ 30,  11]],\n",
       "\n",
       "       [[ 14,  38],\n",
       "        [  4, 144]],\n",
       "\n",
       "       [[188,   1],\n",
       "        [ 11,   0]]])"
      ]
     },
     "execution_count": 21,
     "metadata": {},
     "output_type": "execute_result"
    }
   ],
   "source": [
    "multilabel_confusion_matrix(y_test, y_pred_nb)"
   ]
  },
  {
   "cell_type": "code",
   "execution_count": 22,
   "metadata": {},
   "outputs": [
    {
     "name": "stdout",
     "output_type": "stream",
     "text": [
      "              precision    recall  f1-score   support\n",
      "\n",
      "           0      0.647     0.268     0.379        41\n",
      "           1      0.791     0.973     0.873       148\n",
      "           2      0.000     0.000     0.000        11\n",
      "\n",
      "    accuracy                          0.775       200\n",
      "   macro avg      0.479     0.414     0.417       200\n",
      "weighted avg      0.718     0.775     0.724       200\n",
      "\n"
     ]
    }
   ],
   "source": [
    "print(classification_report(y_test, y_pred_nb, digits=3))"
   ]
  },
  {
   "cell_type": "code",
   "execution_count": 23,
   "metadata": {},
   "outputs": [
    {
     "name": "stdout",
     "output_type": "stream",
     "text": [
      "OVO ROC AUC scores: 0.5812(macro), 0.6026(weighted by prevalence)\n"
     ]
    }
   ],
   "source": [
    "y_prob_nb = opt_gscv_nb.predict_proba(X_test)\n",
    "\n",
    "macro_roc_auc_ovo = roc_auc_score(y_test, y_prob_nb, multi_class=\"ovo\",\n",
    "                                  average=\"macro\")\n",
    "weighted_roc_auc_ovo = roc_auc_score(y_test, y_prob_nb, multi_class=\"ovo\",\n",
    "                                     average=\"weighted\")\n",
    "\n",
    "print(f'OVO ROC AUC scores: {macro_roc_auc_ovo:.4f}(macro), {weighted_roc_auc_ovo:.4f}(weighted by prevalence)')"
   ]
  },
  {
   "cell_type": "code",
   "execution_count": 30,
   "metadata": {},
   "outputs": [
    {
     "data": {
      "text/plain": [
       "Pipeline(steps=[('cvec',\n",
       "                 CountVectorizer(max_df=0.3, max_features=100, min_df=6)),\n",
       "                ('nb', MultinomialNB())])"
      ]
     },
     "execution_count": 30,
     "metadata": {},
     "output_type": "execute_result"
    }
   ],
   "source": [
    "# fitting production model \n",
    "\n",
    "opt_gscv_nb.fit(X,y)"
   ]
  },
  {
   "cell_type": "code",
   "execution_count": 72,
   "metadata": {},
   "outputs": [
    {
     "data": {
      "text/html": [
       "<div>\n",
       "<style scoped>\n",
       "    .dataframe tbody tr th:only-of-type {\n",
       "        vertical-align: middle;\n",
       "    }\n",
       "\n",
       "    .dataframe tbody tr th {\n",
       "        vertical-align: top;\n",
       "    }\n",
       "\n",
       "    .dataframe thead th {\n",
       "        text-align: right;\n",
       "    }\n",
       "</style>\n",
       "<table border=\"1\" class=\"dataframe\">\n",
       "  <thead>\n",
       "    <tr style=\"text-align: right;\">\n",
       "      <th></th>\n",
       "      <th>post</th>\n",
       "      <th>manual label</th>\n",
       "      <th>date</th>\n",
       "      <th>source</th>\n",
       "      <th>post_clean</th>\n",
       "    </tr>\n",
       "  </thead>\n",
       "  <tbody>\n",
       "    <tr>\n",
       "      <th>0</th>\n",
       "      <td>Normal day to day probably but we're talking a...</td>\n",
       "      <td>NaN</td>\n",
       "      <td>2020-04-09 22:12:56</td>\n",
       "      <td>reddit</td>\n",
       "      <td>normal day day probably talking food provided ...</td>\n",
       "    </tr>\n",
       "    <tr>\n",
       "      <th>1</th>\n",
       "      <td>Maybe they are not the main reason. But it's s...</td>\n",
       "      <td>NaN</td>\n",
       "      <td>2020-05-08 09:27:47</td>\n",
       "      <td>reddit</td>\n",
       "      <td>maybe not main reason still big reason</td>\n",
       "    </tr>\n",
       "    <tr>\n",
       "      <th>2</th>\n",
       "      <td>Quite f up but there's really nothing much nor...</td>\n",
       "      <td>NaN</td>\n",
       "      <td>2020-06-04 23:53:00</td>\n",
       "      <td>hardwarezone</td>\n",
       "      <td>quite f really nothing much normal citizens li...</td>\n",
       "    </tr>\n",
       "    <tr>\n",
       "      <th>3</th>\n",
       "      <td>Not everyone. Only Singapore Citizens and PR.\\...</td>\n",
       "      <td>NaN</td>\n",
       "      <td>2020-04-05 02:31:02</td>\n",
       "      <td>reddit</td>\n",
       "      <td>not everyone singapore citizens pr cna officia...</td>\n",
       "    </tr>\n",
       "    <tr>\n",
       "      <th>4</th>\n",
       "      <td>Maybe too many liao, tmr might be a big spike ...</td>\n",
       "      <td>NaN</td>\n",
       "      <td>2020-05-04 19:34:00</td>\n",
       "      <td>hardwarezone</td>\n",
       "      <td>maybe many tmr might big spike number no point...</td>\n",
       "    </tr>\n",
       "  </tbody>\n",
       "</table>\n",
       "</div>"
      ],
      "text/plain": [
       "                                                post  manual label  \\\n",
       "0  Normal day to day probably but we're talking a...           NaN   \n",
       "1  Maybe they are not the main reason. But it's s...           NaN   \n",
       "2  Quite f up but there's really nothing much nor...           NaN   \n",
       "3  Not everyone. Only Singapore Citizens and PR.\\...           NaN   \n",
       "4  Maybe too many liao, tmr might be a big spike ...           NaN   \n",
       "\n",
       "                  date        source  \\\n",
       "0  2020-04-09 22:12:56        reddit   \n",
       "1  2020-05-08 09:27:47        reddit   \n",
       "2  2020-06-04 23:53:00  hardwarezone   \n",
       "3  2020-04-05 02:31:02        reddit   \n",
       "4  2020-05-04 19:34:00  hardwarezone   \n",
       "\n",
       "                                          post_clean  \n",
       "0  normal day day probably talking food provided ...  \n",
       "1             maybe not main reason still big reason  \n",
       "2  quite f really nothing much normal citizens li...  \n",
       "3  not everyone singapore citizens pr cna officia...  \n",
       "4  maybe many tmr might big spike number no point...  "
      ]
     },
     "execution_count": 72,
     "metadata": {},
     "output_type": "execute_result"
    }
   ],
   "source": [
    "#import unlabelled data \n",
    "test = pd.read_csv('./unlabelled_posts/2000_2999_unlabelled.csv')\n",
    "test.head()"
   ]
  },
  {
   "cell_type": "code",
   "execution_count": 66,
   "metadata": {},
   "outputs": [],
   "source": [
    "#preprocessing test data \n",
    "\n",
    "test.isnull().sum()\n",
    "test['post_clean'].fillna('nopost', inplace=True)\n",
    "\n",
    "test_posts = test['post_clean']"
   ]
  },
  {
   "cell_type": "code",
   "execution_count": 67,
   "metadata": {},
   "outputs": [],
   "source": [
    "#fit count vectorizer with optimised params \n",
    "cvec = CountVectorizer(max_df=0.3, max_features=100, min_df=1)\n",
    "test = cvec.fit_transform(test).toarray()"
   ]
  },
  {
   "cell_type": "code",
   "execution_count": 68,
   "metadata": {},
   "outputs": [],
   "source": [
    "test_pred = opt_gscv_nb.predict(test_posts)"
   ]
  },
  {
   "cell_type": "code",
   "execution_count": 73,
   "metadata": {
    "scrolled": true
   },
   "outputs": [],
   "source": [
    "test['preds'] = test_pred"
   ]
  },
  {
   "cell_type": "code",
   "execution_count": 74,
   "metadata": {},
   "outputs": [
    {
     "data": {
      "text/html": [
       "<div>\n",
       "<style scoped>\n",
       "    .dataframe tbody tr th:only-of-type {\n",
       "        vertical-align: middle;\n",
       "    }\n",
       "\n",
       "    .dataframe tbody tr th {\n",
       "        vertical-align: top;\n",
       "    }\n",
       "\n",
       "    .dataframe thead th {\n",
       "        text-align: right;\n",
       "    }\n",
       "</style>\n",
       "<table border=\"1\" class=\"dataframe\">\n",
       "  <thead>\n",
       "    <tr style=\"text-align: right;\">\n",
       "      <th></th>\n",
       "      <th>post</th>\n",
       "      <th>manual label</th>\n",
       "      <th>date</th>\n",
       "      <th>source</th>\n",
       "      <th>post_clean</th>\n",
       "      <th>preds</th>\n",
       "    </tr>\n",
       "  </thead>\n",
       "  <tbody>\n",
       "    <tr>\n",
       "      <th>0</th>\n",
       "      <td>Normal day to day probably but we're talking a...</td>\n",
       "      <td>NaN</td>\n",
       "      <td>2020-04-09 22:12:56</td>\n",
       "      <td>reddit</td>\n",
       "      <td>normal day day probably talking food provided ...</td>\n",
       "      <td>1</td>\n",
       "    </tr>\n",
       "    <tr>\n",
       "      <th>1</th>\n",
       "      <td>Maybe they are not the main reason. But it's s...</td>\n",
       "      <td>NaN</td>\n",
       "      <td>2020-05-08 09:27:47</td>\n",
       "      <td>reddit</td>\n",
       "      <td>maybe not main reason still big reason</td>\n",
       "      <td>1</td>\n",
       "    </tr>\n",
       "    <tr>\n",
       "      <th>2</th>\n",
       "      <td>Quite f up but there's really nothing much nor...</td>\n",
       "      <td>NaN</td>\n",
       "      <td>2020-06-04 23:53:00</td>\n",
       "      <td>hardwarezone</td>\n",
       "      <td>quite f really nothing much normal citizens li...</td>\n",
       "      <td>0</td>\n",
       "    </tr>\n",
       "    <tr>\n",
       "      <th>3</th>\n",
       "      <td>Not everyone. Only Singapore Citizens and PR.\\...</td>\n",
       "      <td>NaN</td>\n",
       "      <td>2020-04-05 02:31:02</td>\n",
       "      <td>reddit</td>\n",
       "      <td>not everyone singapore citizens pr cna officia...</td>\n",
       "      <td>1</td>\n",
       "    </tr>\n",
       "    <tr>\n",
       "      <th>4</th>\n",
       "      <td>Maybe too many liao, tmr might be a big spike ...</td>\n",
       "      <td>NaN</td>\n",
       "      <td>2020-05-04 19:34:00</td>\n",
       "      <td>hardwarezone</td>\n",
       "      <td>maybe many tmr might big spike number no point...</td>\n",
       "      <td>1</td>\n",
       "    </tr>\n",
       "  </tbody>\n",
       "</table>\n",
       "</div>"
      ],
      "text/plain": [
       "                                                post  manual label  \\\n",
       "0  Normal day to day probably but we're talking a...           NaN   \n",
       "1  Maybe they are not the main reason. But it's s...           NaN   \n",
       "2  Quite f up but there's really nothing much nor...           NaN   \n",
       "3  Not everyone. Only Singapore Citizens and PR.\\...           NaN   \n",
       "4  Maybe too many liao, tmr might be a big spike ...           NaN   \n",
       "\n",
       "                  date        source  \\\n",
       "0  2020-04-09 22:12:56        reddit   \n",
       "1  2020-05-08 09:27:47        reddit   \n",
       "2  2020-06-04 23:53:00  hardwarezone   \n",
       "3  2020-04-05 02:31:02        reddit   \n",
       "4  2020-05-04 19:34:00  hardwarezone   \n",
       "\n",
       "                                          post_clean  preds  \n",
       "0  normal day day probably talking food provided ...      1  \n",
       "1             maybe not main reason still big reason      1  \n",
       "2  quite f really nothing much normal citizens li...      0  \n",
       "3  not everyone singapore citizens pr cna officia...      1  \n",
       "4  maybe many tmr might big spike number no point...      1  "
      ]
     },
     "execution_count": 74,
     "metadata": {},
     "output_type": "execute_result"
    }
   ],
   "source": [
    "test.head()"
   ]
  },
  {
   "cell_type": "code",
   "execution_count": 75,
   "metadata": {},
   "outputs": [],
   "source": [
    "test.to_csv('./labelled_posts/2000_2999_nb_labelled.csv')"
   ]
  },
  {
   "cell_type": "code",
   "execution_count": null,
   "metadata": {},
   "outputs": [],
   "source": []
  }
 ],
 "metadata": {
  "kernelspec": {
   "display_name": "Python 3",
   "language": "python",
   "name": "python3"
  },
  "language_info": {
   "codemirror_mode": {
    "name": "ipython",
    "version": 3
   },
   "file_extension": ".py",
   "mimetype": "text/x-python",
   "name": "python",
   "nbconvert_exporter": "python",
   "pygments_lexer": "ipython3",
   "version": "3.7.6"
  }
 },
 "nbformat": 4,
 "nbformat_minor": 4
}
