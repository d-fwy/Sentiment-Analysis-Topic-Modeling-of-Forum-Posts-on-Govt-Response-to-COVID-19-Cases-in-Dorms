{
 "cells": [
  {
   "cell_type": "markdown",
   "metadata": {},
   "source": [
    "## Using textblob unsupervised learning to label posts\n",
    "\n",
    "Textblob is a "
   ]
  },
  {
   "cell_type": "code",
   "execution_count": 1,
   "metadata": {},
   "outputs": [
    {
     "name": "stdout",
     "output_type": "stream",
     "text": [
      "Collecting textblob\n",
      "  Downloading textblob-0.15.3-py2.py3-none-any.whl (636 kB)\n",
      "\u001b[K     |████████████████████████████████| 636 kB 5.8 MB/s eta 0:00:01\n",
      "\u001b[?25hRequirement already satisfied: nltk>=3.1 in /Users/dorafoong/opt/anaconda3/lib/python3.7/site-packages (from textblob) (3.4.5)\n",
      "Requirement already satisfied: six in /Users/dorafoong/opt/anaconda3/lib/python3.7/site-packages (from nltk>=3.1->textblob) (1.14.0)\n",
      "Installing collected packages: textblob\n",
      "Successfully installed textblob-0.15.3\n"
     ]
    }
   ],
   "source": [
    "! pip install textblob"
   ]
  },
  {
   "cell_type": "code",
   "execution_count": 4,
   "metadata": {},
   "outputs": [],
   "source": [
    "import pandas as pd \n",
    "import numpy as np \n",
    "import matplotlib.pyplot as plt \n",
    "import seaborn as sns \n",
    "\n",
    "from textblob import TextBlob as tb"
   ]
  },
  {
   "cell_type": "code",
   "execution_count": 5,
   "metadata": {},
   "outputs": [],
   "source": [
    "#import train data \n",
    "posts = pd.read_csv('./train_posts.csv')\n",
    "\n",
    "display(posts.shape)\n",
    "posts.head()\n",
    "\n",
    "posts.fillna('nopost', inplace=True)\n",
    "display(posts.isnull().sum())"
   ]
  },
  {
   "cell_type": "code",
   "execution_count": 63,
   "metadata": {},
   "outputs": [
    {
     "data": {
      "text/plain": [
       "(500,)"
      ]
     },
     "metadata": {},
     "output_type": "display_data"
    },
    {
     "data": {
      "text/plain": [
       "0    There is no new cluster beside the dorm for tw...\n",
       "1    >For consistency and accuracy, it could be eas...\n",
       "2    Only IQ lower than 86 will believe this CSB.Wh...\n",
       "3    I work nearby to the Westlite and Toh Guan Dor...\n",
       "4                                          Ho seh liao\n",
       "Name: post, dtype: object"
      ]
     },
     "execution_count": 63,
     "metadata": {},
     "output_type": "execute_result"
    }
   ],
   "source": [
    "#taking sample of 500 posts \n",
    "sample_posts = posts['post'][0:500]\n",
    "\n",
    "display(sample_posts.shape)\n",
    "sample_posts.head()"
   ]
  },
  {
   "cell_type": "code",
   "execution_count": null,
   "metadata": {},
   "outputs": [],
   "source": [
    "#posts in sample_posts are all text, unprocessed \n",
    "#html addresses etc removed in scraping notebooks \n",
    "\n",
    "#using textblob to assign sentiment to posts in sample_posts\n",
    "sentiment = []\n",
    "\n",
    "for i in range(len(sample_posts)):\n",
    "    blob = tb(sample_posts[i])\n",
    "    sentiment.append(blob.sentiment.polarity)"
   ]
  },
  {
   "cell_type": "code",
   "execution_count": 65,
   "metadata": {
    "scrolled": true
   },
   "outputs": [
    {
     "data": {
      "text/html": [
       "<div>\n",
       "<style scoped>\n",
       "    .dataframe tbody tr th:only-of-type {\n",
       "        vertical-align: middle;\n",
       "    }\n",
       "\n",
       "    .dataframe tbody tr th {\n",
       "        vertical-align: top;\n",
       "    }\n",
       "\n",
       "    .dataframe thead th {\n",
       "        text-align: right;\n",
       "    }\n",
       "</style>\n",
       "<table border=\"1\" class=\"dataframe\">\n",
       "  <thead>\n",
       "    <tr style=\"text-align: right;\">\n",
       "      <th></th>\n",
       "      <th>posts</th>\n",
       "      <th>sentiment</th>\n",
       "    </tr>\n",
       "  </thead>\n",
       "  <tbody>\n",
       "    <tr>\n",
       "      <th>0</th>\n",
       "      <td>There is no new cluster beside the dorm for tw...</td>\n",
       "      <td>-0.068182</td>\n",
       "    </tr>\n",
       "    <tr>\n",
       "      <th>1</th>\n",
       "      <td>&gt;For consistency and accuracy, it could be eas...</td>\n",
       "      <td>-0.024320</td>\n",
       "    </tr>\n",
       "    <tr>\n",
       "      <th>2</th>\n",
       "      <td>Only IQ lower than 86 will believe this CSB.Wh...</td>\n",
       "      <td>0.111111</td>\n",
       "    </tr>\n",
       "    <tr>\n",
       "      <th>3</th>\n",
       "      <td>I work nearby to the Westlite and Toh Guan Dor...</td>\n",
       "      <td>0.069259</td>\n",
       "    </tr>\n",
       "    <tr>\n",
       "      <th>4</th>\n",
       "      <td>Ho seh liao</td>\n",
       "      <td>0.000000</td>\n",
       "    </tr>\n",
       "    <tr>\n",
       "      <th>5</th>\n",
       "      <td>I’m not saying we caused this spread among the...</td>\n",
       "      <td>0.000000</td>\n",
       "    </tr>\n",
       "    <tr>\n",
       "      <th>6</th>\n",
       "      <td>1. From healthy no wear mask to Mask mandatory...</td>\n",
       "      <td>0.206667</td>\n",
       "    </tr>\n",
       "    <tr>\n",
       "      <th>7</th>\n",
       "      <td>Exactly. People don’t even wanna let our publi...</td>\n",
       "      <td>0.125000</td>\n",
       "    </tr>\n",
       "    <tr>\n",
       "      <th>8</th>\n",
       "      <td>The current situation is beyond this woman. 24...</td>\n",
       "      <td>-0.066667</td>\n",
       "    </tr>\n",
       "    <tr>\n",
       "      <th>9</th>\n",
       "      <td>Iran, followed by China, India, Israel, Saudi ...</td>\n",
       "      <td>0.115972</td>\n",
       "    </tr>\n",
       "    <tr>\n",
       "      <th>10</th>\n",
       "      <td>coz they still get salaries for staying in bun...</td>\n",
       "      <td>-0.333333</td>\n",
       "    </tr>\n",
       "    <tr>\n",
       "      <th>11</th>\n",
       "      <td>Becoming bangala na0!!Sent from Xiaomi MI 9T u...</td>\n",
       "      <td>0.450000</td>\n",
       "    </tr>\n",
       "    <tr>\n",
       "      <th>12</th>\n",
       "      <td>I feel that your views are quite myopic.\\n\\nHa...</td>\n",
       "      <td>0.168860</td>\n",
       "    </tr>\n",
       "    <tr>\n",
       "      <th>13</th>\n",
       "      <td>Probably once in a lifetime for them.No need j...</td>\n",
       "      <td>0.000000</td>\n",
       "    </tr>\n",
       "    <tr>\n",
       "      <th>14</th>\n",
       "      <td>Wong said that it was a very unpredictable sit...</td>\n",
       "      <td>0.029143</td>\n",
       "    </tr>\n",
       "    <tr>\n",
       "      <th>15</th>\n",
       "      <td>Exactly. Sure majority of infections are in do...</td>\n",
       "      <td>0.150000</td>\n",
       "    </tr>\n",
       "    <tr>\n",
       "      <th>16</th>\n",
       "      <td>And they sail back home.. haha</td>\n",
       "      <td>0.100000</td>\n",
       "    </tr>\n",
       "    <tr>\n",
       "      <th>17</th>\n",
       "      <td>DEPORT ALL FTRASH .FWs are our frens. They bui...</td>\n",
       "      <td>0.000000</td>\n",
       "    </tr>\n",
       "    <tr>\n",
       "      <th>18</th>\n",
       "      <td>there are many homeless ppl in sg...living wor...</td>\n",
       "      <td>0.200000</td>\n",
       "    </tr>\n",
       "    <tr>\n",
       "      <th>19</th>\n",
       "      <td>stand so far with mask on. i dun think can hea...</td>\n",
       "      <td>-0.050000</td>\n",
       "    </tr>\n",
       "    <tr>\n",
       "      <th>20</th>\n",
       "      <td>if u work in civil/public service, u know the ...</td>\n",
       "      <td>0.250000</td>\n",
       "    </tr>\n",
       "    <tr>\n",
       "      <th>21</th>\n",
       "      <td>I broke down the numbers (theory only) on this...</td>\n",
       "      <td>-0.093519</td>\n",
       "    </tr>\n",
       "    <tr>\n",
       "      <th>22</th>\n",
       "      <td>pls dont be lazy and do some reading upit has ...</td>\n",
       "      <td>0.047222</td>\n",
       "    </tr>\n",
       "    <tr>\n",
       "      <th>23</th>\n",
       "      <td>if tomorrow STI still green or little red cons...</td>\n",
       "      <td>-0.129167</td>\n",
       "    </tr>\n",
       "    <tr>\n",
       "      <th>24</th>\n",
       "      <td>We can’t wait for consumers to change things. ...</td>\n",
       "      <td>0.087429</td>\n",
       "    </tr>\n",
       "    <tr>\n",
       "      <th>25</th>\n",
       "      <td>can u imagine the contract tracing police team...</td>\n",
       "      <td>-0.015152</td>\n",
       "    </tr>\n",
       "    <tr>\n",
       "      <th>26</th>\n",
       "      <td>Unique person swabbed as of the following date...</td>\n",
       "      <td>0.037500</td>\n",
       "    </tr>\n",
       "    <tr>\n",
       "      <th>27</th>\n",
       "      <td>Design and Built according to specifications a...</td>\n",
       "      <td>0.266667</td>\n",
       "    </tr>\n",
       "    <tr>\n",
       "      <th>28</th>\n",
       "      <td>66 new unlinked. Really is play circuit breaker.</td>\n",
       "      <td>0.168182</td>\n",
       "    </tr>\n",
       "    <tr>\n",
       "      <th>29</th>\n",
       "      <td>Relax , it just a normal flu</td>\n",
       "      <td>0.150000</td>\n",
       "    </tr>\n",
       "  </tbody>\n",
       "</table>\n",
       "</div>"
      ],
      "text/plain": [
       "                                                posts  sentiment\n",
       "0   There is no new cluster beside the dorm for tw...  -0.068182\n",
       "1   >For consistency and accuracy, it could be eas...  -0.024320\n",
       "2   Only IQ lower than 86 will believe this CSB.Wh...   0.111111\n",
       "3   I work nearby to the Westlite and Toh Guan Dor...   0.069259\n",
       "4                                         Ho seh liao   0.000000\n",
       "5   I’m not saying we caused this spread among the...   0.000000\n",
       "6   1. From healthy no wear mask to Mask mandatory...   0.206667\n",
       "7   Exactly. People don’t even wanna let our publi...   0.125000\n",
       "8   The current situation is beyond this woman. 24...  -0.066667\n",
       "9   Iran, followed by China, India, Israel, Saudi ...   0.115972\n",
       "10  coz they still get salaries for staying in bun...  -0.333333\n",
       "11  Becoming bangala na0!!Sent from Xiaomi MI 9T u...   0.450000\n",
       "12  I feel that your views are quite myopic.\\n\\nHa...   0.168860\n",
       "13  Probably once in a lifetime for them.No need j...   0.000000\n",
       "14  Wong said that it was a very unpredictable sit...   0.029143\n",
       "15  Exactly. Sure majority of infections are in do...   0.150000\n",
       "16                     And they sail back home.. haha   0.100000\n",
       "17  DEPORT ALL FTRASH .FWs are our frens. They bui...   0.000000\n",
       "18  there are many homeless ppl in sg...living wor...   0.200000\n",
       "19  stand so far with mask on. i dun think can hea...  -0.050000\n",
       "20  if u work in civil/public service, u know the ...   0.250000\n",
       "21  I broke down the numbers (theory only) on this...  -0.093519\n",
       "22  pls dont be lazy and do some reading upit has ...   0.047222\n",
       "23  if tomorrow STI still green or little red cons...  -0.129167\n",
       "24  We can’t wait for consumers to change things. ...   0.087429\n",
       "25  can u imagine the contract tracing police team...  -0.015152\n",
       "26  Unique person swabbed as of the following date...   0.037500\n",
       "27  Design and Built according to specifications a...   0.266667\n",
       "28   66 new unlinked. Really is play circuit breaker.   0.168182\n",
       "29                       Relax , it just a normal flu   0.150000"
      ]
     },
     "execution_count": 65,
     "metadata": {},
     "output_type": "execute_result"
    }
   ],
   "source": [
    "sample_sentiment = pd.DataFrame(list(zip(sample_posts, sentiment)), \n",
    "                                     columns = ['posts', 'sentiment'])\n",
    "\n",
    "sample_sentiment.head(30)"
   ]
  },
  {
   "cell_type": "code",
   "execution_count": 66,
   "metadata": {},
   "outputs": [],
   "source": [
    "sample_sentiment.to_csv('./textblob_sentiment_sample_1.csv')"
   ]
  },
  {
   "cell_type": "code",
   "execution_count": null,
   "metadata": {},
   "outputs": [],
   "source": []
  }
 ],
 "metadata": {
  "kernelspec": {
   "display_name": "Python 3",
   "language": "python",
   "name": "python3"
  },
  "language_info": {
   "codemirror_mode": {
    "name": "ipython",
    "version": 3
   },
   "file_extension": ".py",
   "mimetype": "text/x-python",
   "name": "python",
   "nbconvert_exporter": "python",
   "pygments_lexer": "ipython3",
   "version": "3.7.6"
  }
 },
 "nbformat": 4,
 "nbformat_minor": 4
}
