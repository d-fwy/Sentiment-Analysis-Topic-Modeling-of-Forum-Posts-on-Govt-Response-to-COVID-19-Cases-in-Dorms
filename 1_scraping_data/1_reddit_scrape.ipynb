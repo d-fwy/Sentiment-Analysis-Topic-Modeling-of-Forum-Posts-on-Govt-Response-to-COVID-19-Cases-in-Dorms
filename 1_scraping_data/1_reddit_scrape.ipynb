{
 "cells": [
  {
   "cell_type": "code",
   "execution_count": null,
   "metadata": {},
   "outputs": [],
   "source": [
    "# reddit scraped on 05/07/2020 1520H\n",
    "\n",
    "# r/singapore subreddit - search \"foreign worker dorm\", sort by relevance, filter by created this year \n",
    "# data scraped: title of thread, body of thread, all comments in thread, date of comment\n",
    "\n",
    "# result:\n",
    "# 81 threads \n",
    "# 3622 comments "
   ]
  },
  {
   "cell_type": "code",
   "execution_count": 1,
   "metadata": {},
   "outputs": [],
   "source": [
    "import praw\n",
    "import pandas as pd\n",
    "import numpy as np\n",
    "from praw.models import MoreComments\n",
    "from time import sleep \n",
    "from random import randint"
   ]
  },
  {
   "cell_type": "code",
   "execution_count": 2,
   "metadata": {},
   "outputs": [],
   "source": [
    "reddit = praw.Reddit(client_id = '5-nI-M9L8c6g1g',\n",
    "                    client_secret = '9JmaJIrfgATVUYtivkxpqTGwhlw',\n",
    "                    user_agent = 'redditscrape',\n",
    "                    username = 'dfwy94',\n",
    "                    password = 'weftoj-wasbyw-heSku3')"
   ]
  },
  {
   "cell_type": "code",
   "execution_count": 3,
   "metadata": {
    "scrolled": true
   },
   "outputs": [],
   "source": [
    "subreddit = reddit.subreddit('singapore')\n",
    "reddit_dorms = subreddit.search('foreign worker dorm', sort='relevance', time_filter = 'year')"
   ]
  },
  {
   "cell_type": "code",
   "execution_count": 4,
   "metadata": {},
   "outputs": [],
   "source": [
    "threads_dict = {'title': [],'body': [], 'comment': [], 'comment_date': []}"
   ]
  },
  {
   "cell_type": "code",
   "execution_count": 5,
   "metadata": {},
   "outputs": [],
   "source": [
    "for thread in reddit_dorms:\n",
    "    thread.comments.replace_more(limit=None)\n",
    "    comments = thread.comments.list()\n",
    "    for comment in comments:\n",
    "        threads_dict[\"title\"].append(thread.title)\n",
    "        threads_dict[\"body\"].append(thread.selftext)\n",
    "        threads_dict[\"comment\"].append(comment.body)\n",
    "        threads_dict[\"comment_date\"].append(comment.created)\n",
    "\n",
    "    sleep(randint(1,4))        "
   ]
  },
  {
   "cell_type": "code",
   "execution_count": 23,
   "metadata": {
    "scrolled": true
   },
   "outputs": [
    {
     "data": {
      "text/html": [
       "<div>\n",
       "<style scoped>\n",
       "    .dataframe tbody tr th:only-of-type {\n",
       "        vertical-align: middle;\n",
       "    }\n",
       "\n",
       "    .dataframe tbody tr th {\n",
       "        vertical-align: top;\n",
       "    }\n",
       "\n",
       "    .dataframe thead th {\n",
       "        text-align: right;\n",
       "    }\n",
       "</style>\n",
       "<table border=\"1\" class=\"dataframe\">\n",
       "  <thead>\n",
       "    <tr style=\"text-align: right;\">\n",
       "      <th></th>\n",
       "      <th>title</th>\n",
       "      <th>body</th>\n",
       "      <th>comment</th>\n",
       "      <th>comment_date</th>\n",
       "    </tr>\n",
       "  </thead>\n",
       "  <tbody>\n",
       "    <tr>\n",
       "      <th>0</th>\n",
       "      <td>Fake videos being spread to create trouble in ...</td>\n",
       "      <td></td>\n",
       "      <td>&gt; # Fake videos being spread to create trouble...</td>\n",
       "      <td>1.588179e+09</td>\n",
       "    </tr>\n",
       "    <tr>\n",
       "      <th>1</th>\n",
       "      <td>Fake videos being spread to create trouble in ...</td>\n",
       "      <td></td>\n",
       "      <td>Serious stuff...with serious implications for ...</td>\n",
       "      <td>1.588180e+09</td>\n",
       "    </tr>\n",
       "    <tr>\n",
       "      <th>2</th>\n",
       "      <td>Fake videos being spread to create trouble in ...</td>\n",
       "      <td></td>\n",
       "      <td>Not far fetched to think that Singapore is bei...</td>\n",
       "      <td>1.588183e+09</td>\n",
       "    </tr>\n",
       "    <tr>\n",
       "      <th>3</th>\n",
       "      <td>Fake videos being spread to create trouble in ...</td>\n",
       "      <td></td>\n",
       "      <td>Recently got a WA message complaining that for...</td>\n",
       "      <td>1.588180e+09</td>\n",
       "    </tr>\n",
       "    <tr>\n",
       "      <th>4</th>\n",
       "      <td>Fake videos being spread to create trouble in ...</td>\n",
       "      <td></td>\n",
       "      <td>I really hope all those videos were fake or re...</td>\n",
       "      <td>1.588181e+09</td>\n",
       "    </tr>\n",
       "  </tbody>\n",
       "</table>\n",
       "</div>"
      ],
      "text/plain": [
       "                                               title body  \\\n",
       "0  Fake videos being spread to create trouble in ...        \n",
       "1  Fake videos being spread to create trouble in ...        \n",
       "2  Fake videos being spread to create trouble in ...        \n",
       "3  Fake videos being spread to create trouble in ...        \n",
       "4  Fake videos being spread to create trouble in ...        \n",
       "\n",
       "                                             comment  comment_date  \n",
       "0  > # Fake videos being spread to create trouble...  1.588179e+09  \n",
       "1  Serious stuff...with serious implications for ...  1.588180e+09  \n",
       "2  Not far fetched to think that Singapore is bei...  1.588183e+09  \n",
       "3  Recently got a WA message complaining that for...  1.588180e+09  \n",
       "4  I really hope all those videos were fake or re...  1.588181e+09  "
      ]
     },
     "execution_count": 23,
     "metadata": {},
     "output_type": "execute_result"
    }
   ],
   "source": [
    "threads_df = pd.DataFrame(threads_dict)\n",
    "threads_df.head()"
   ]
  },
  {
   "cell_type": "code",
   "execution_count": 27,
   "metadata": {},
   "outputs": [
    {
     "data": {
      "text/html": [
       "<div>\n",
       "<style scoped>\n",
       "    .dataframe tbody tr th:only-of-type {\n",
       "        vertical-align: middle;\n",
       "    }\n",
       "\n",
       "    .dataframe tbody tr th {\n",
       "        vertical-align: top;\n",
       "    }\n",
       "\n",
       "    .dataframe thead th {\n",
       "        text-align: right;\n",
       "    }\n",
       "</style>\n",
       "<table border=\"1\" class=\"dataframe\">\n",
       "  <thead>\n",
       "    <tr style=\"text-align: right;\">\n",
       "      <th></th>\n",
       "      <th>title</th>\n",
       "      <th>body</th>\n",
       "      <th>comment</th>\n",
       "      <th>comment_date</th>\n",
       "    </tr>\n",
       "  </thead>\n",
       "  <tbody>\n",
       "    <tr>\n",
       "      <th>0</th>\n",
       "      <td>Fake videos being spread to create trouble in ...</td>\n",
       "      <td></td>\n",
       "      <td>&gt; # Fake videos being spread to create trouble...</td>\n",
       "      <td>2020-04-29 16:56:44</td>\n",
       "    </tr>\n",
       "    <tr>\n",
       "      <th>1</th>\n",
       "      <td>Fake videos being spread to create trouble in ...</td>\n",
       "      <td></td>\n",
       "      <td>Serious stuff...with serious implications for ...</td>\n",
       "      <td>2020-04-29 17:14:42</td>\n",
       "    </tr>\n",
       "    <tr>\n",
       "      <th>2</th>\n",
       "      <td>Fake videos being spread to create trouble in ...</td>\n",
       "      <td></td>\n",
       "      <td>Not far fetched to think that Singapore is bei...</td>\n",
       "      <td>2020-04-29 17:58:23</td>\n",
       "    </tr>\n",
       "    <tr>\n",
       "      <th>3</th>\n",
       "      <td>Fake videos being spread to create trouble in ...</td>\n",
       "      <td></td>\n",
       "      <td>Recently got a WA message complaining that for...</td>\n",
       "      <td>2020-04-29 17:00:19</td>\n",
       "    </tr>\n",
       "    <tr>\n",
       "      <th>4</th>\n",
       "      <td>Fake videos being spread to create trouble in ...</td>\n",
       "      <td></td>\n",
       "      <td>I really hope all those videos were fake or re...</td>\n",
       "      <td>2020-04-29 17:23:39</td>\n",
       "    </tr>\n",
       "  </tbody>\n",
       "</table>\n",
       "</div>"
      ],
      "text/plain": [
       "                                               title body  \\\n",
       "0  Fake videos being spread to create trouble in ...        \n",
       "1  Fake videos being spread to create trouble in ...        \n",
       "2  Fake videos being spread to create trouble in ...        \n",
       "3  Fake videos being spread to create trouble in ...        \n",
       "4  Fake videos being spread to create trouble in ...        \n",
       "\n",
       "                                             comment        comment_date  \n",
       "0  > # Fake videos being spread to create trouble... 2020-04-29 16:56:44  \n",
       "1  Serious stuff...with serious implications for ... 2020-04-29 17:14:42  \n",
       "2  Not far fetched to think that Singapore is bei... 2020-04-29 17:58:23  \n",
       "3  Recently got a WA message complaining that for... 2020-04-29 17:00:19  \n",
       "4  I really hope all those videos were fake or re... 2020-04-29 17:23:39  "
      ]
     },
     "execution_count": 27,
     "metadata": {},
     "output_type": "execute_result"
    }
   ],
   "source": [
    "#convert comment_date from unix time to datetime\n",
    "threads_df['comment_date'] = pd.to_datetime(threads_df['comment_date'], unit='s')\n",
    "threads_df.head()"
   ]
  },
  {
   "cell_type": "code",
   "execution_count": 45,
   "metadata": {},
   "outputs": [
    {
     "name": "stdout",
     "output_type": "stream",
     "text": [
      "number of threads = 81\n",
      "shape of threads_df = (3622, 4)\n"
     ]
    }
   ],
   "source": [
    "print(f\"number of threads = {len(threads_df['title'].unique())}\")\n",
    "print(f'shape of threads_df = {threads_df.shape}')"
   ]
  },
  {
   "cell_type": "code",
   "execution_count": 46,
   "metadata": {},
   "outputs": [],
   "source": [
    "#export to csv\n",
    "threads_df.to_csv('./reddit_scrape.csv', index = False)"
   ]
  },
  {
   "cell_type": "code",
   "execution_count": null,
   "metadata": {},
   "outputs": [],
   "source": []
  }
 ],
 "metadata": {
  "kernelspec": {
   "display_name": "Python 3",
   "language": "python",
   "name": "python3"
  },
  "language_info": {
   "codemirror_mode": {
    "name": "ipython",
    "version": 3
   },
   "file_extension": ".py",
   "mimetype": "text/x-python",
   "name": "python",
   "nbconvert_exporter": "python",
   "pygments_lexer": "ipython3",
   "version": "3.7.6"
  }
 },
 "nbformat": 4,
 "nbformat_minor": 4
}
