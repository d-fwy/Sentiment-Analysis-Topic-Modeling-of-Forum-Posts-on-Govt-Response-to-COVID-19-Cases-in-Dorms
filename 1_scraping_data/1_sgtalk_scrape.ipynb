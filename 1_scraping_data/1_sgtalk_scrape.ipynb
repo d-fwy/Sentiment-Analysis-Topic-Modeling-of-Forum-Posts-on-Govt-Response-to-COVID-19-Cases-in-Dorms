{
 "cells": [
  {
   "cell_type": "code",
   "execution_count": 14,
   "metadata": {},
   "outputs": [],
   "source": [
    "from bs4 import BeautifulSoup as bs\n",
    "\n",
    "import requests\n",
    "import pandas as pd\n",
    "import numpy as np\n",
    "\n",
    "from time import sleep \n",
    "from random import randint "
   ]
  },
  {
   "cell_type": "code",
   "execution_count": 15,
   "metadata": {},
   "outputs": [],
   "source": [
    "#scraping from sgtalk market forum \n",
    "#all posts from the following urls "
   ]
  },
  {
   "cell_type": "code",
   "execution_count": 16,
   "metadata": {},
   "outputs": [],
   "source": [
    "urls = ['https://sgtalk.org/mybb/Thread-Govt-to-absorb-additional-operational-costs-for-dorm-operators-housing-the-300K-fws',\n",
    "     'https://sgtalk.org/mybb/Thread-Netizens-praise-WP%E2%80%99s-Png-Eng-Huat-for-asking-if-operators-dorm-owners-are-liable-to',\n",
    "     'https://sgtalk.org/mybb/Thread-Ministers-Tharman-and-Teo-Chee-Hean-brought-in-to-handle-manpower-matters',\n",
    "     'https://sgtalk.org/mybb/Thread-Dormitory-operators-should-be-fined-for-endangering-Singaporeans-with-virus',\n",
    "     'https://sgtalk.org/mybb/Thread-Lawrence-Wong-Unfortunately-we-do-not-have-the-luxury-of-the-benefit-of-hindsight',\n",
    "     'https://sgtalk.org/mybb/Thread-Covid-19-S-pore-reports-new-record-high-of-728-new-cases-4-427-cases-in-total',\n",
    "     'https://sgtalk.org/mybb/Thread-Did-we-blame-the-government-wrongly',\n",
    "     'https://sgtalk.org/mybb/Thread-Josephine-Teo-I-have-not-come-across-any-migrant-worker-that-has-demanded-apology',\n",
    "     'https://sgtalk.org/mybb/Thread-COVID-19-Singapore-reports-932-new-cases&highlight=foreign+worker+dorm',\n",
    "     'https://sgtalk.org/mybb/Thread-This-migrant-worker-can-replace-our-ministers-like-CCS-Lawrence-Josephine-and-Gan',\n",
    "     'https://sgtalk.org/mybb/Thread-I-urge-Minister-Josephine-to-isolate-all-worker-dormitories-instead-the-select-ones',\n",
    "     'https://sgtalk.org/mybb/Thread-Fake-videos-being-spread-to-create-trouble-in-foreign-worker-dorms',\n",
    "     'https://sgtalk.org/mybb/Thread-Someone-must-to-held-accountable-for-this-oversight',\n",
    "     'https://sgtalk.org/mybb/Thread-Apr-9-287-new-cases-3-imported-284-local-mostly-from-dormitories',\n",
    "     'https://sgtalk.org/mybb/Thread-Measures-to-tackle-COVID-19-cases-in-dorms-early-on-were-insufficient-Teo-CH',\n",
    "     'https://sgtalk.org/mybb/Thread-Soul-Searching-in-Singapore',\n",
    "     'https://sgtalk.org/mybb/Thread-SIA-s-in-flight-catering-provider-serves-foreign-workers-healthy-balance-meals',\n",
    "     'https://sgtalk.org/mybb/Thread-Thousands-of-FW-in-dorm-tested-positive-zero-ICU-zero-deaths',\n",
    "     'https://sgtalk.org/mybb/Thread-Migrant-workers-to-get-1-3-million-reusable-masks',\n",
    "     'https://sgtalk.org/mybb/Thread-Singapore-Contained-the-Coronavirus-for-Months-Now-It-Has-One-of-the-Worst-Outbreaks',\n",
    "     'https://sgtalk.org/mybb/Thread-Two-weeks-and-a-70-fold-increase-A-look-into-the-COVID-19-outbreak-in-Singapore--872499',\n",
    "     'https://sgtalk.org/mybb/Thread-HEY-GOV-BETTER-DON-T-BE-DOUBLE-STANDARD-YET-AGAIN-WHERE-THE-SOCIAL-DISTANCE']"
   ]
  },
  {
   "cell_type": "code",
   "execution_count": 17,
   "metadata": {},
   "outputs": [
    {
     "name": "stdout",
     "output_type": "stream",
     "text": [
      "scraping thread - page 1\n",
      "scraping thread - page 2\n",
      "scraping thread - page 3\n",
      "scraping thread - page 4\n",
      "scraping thread - page 5\n",
      "scraping thread - page 6\n",
      "scraping thread - page 7\n",
      "scraping thread - page 8\n",
      "scraping thread - page 9\n",
      "scraping thread - page 10\n",
      "all pages in thread scraped\n",
      "scraping thread - page 1\n",
      "scraping thread - page 2\n",
      "scraping thread - page 3\n",
      "scraping thread - page 4\n",
      "scraping thread - page 5\n",
      "scraping thread - page 6\n",
      "scraping thread - page 7\n",
      "scraping thread - page 8\n",
      "scraping thread - page 9\n",
      "all pages in thread scraped\n",
      "scraping thread - page 1\n",
      "scraping thread - page 2\n",
      "scraping thread - page 3\n",
      "scraping thread - page 4\n",
      "scraping thread - page 5\n",
      "scraping thread - page 6\n",
      "scraping thread - page 7\n",
      "scraping thread - page 8\n",
      "scraping thread - page 9\n",
      "all pages in thread scraped\n",
      "scraping thread - page 1\n",
      "scraping thread - page 2\n",
      "scraping thread - page 3\n",
      "scraping thread - page 4\n",
      "scraping thread - page 5\n",
      "scraping thread - page 6\n",
      "scraping thread - page 7\n",
      "scraping thread - page 8\n",
      "scraping thread - page 9\n",
      "all pages in thread scraped\n",
      "scraping thread - page 1\n",
      "scraping thread - page 2\n",
      "scraping thread - page 3\n",
      "scraping thread - page 4\n",
      "scraping thread - page 5\n",
      "scraping thread - page 6\n",
      "scraping thread - page 7\n",
      "scraping thread - page 8\n",
      "scraping thread - page 9\n",
      "all pages in thread scraped\n",
      "scraping thread - page 1\n",
      "scraping thread - page 2\n",
      "scraping thread - page 3\n",
      "scraping thread - page 4\n",
      "scraping thread - page 5\n",
      "scraping thread - page 6\n",
      "all pages in thread scraped\n",
      "scraping thread - page 1\n",
      "scraping thread - page 2\n",
      "scraping thread - page 3\n",
      "scraping thread - page 4\n",
      "scraping thread - page 5\n",
      "all pages in thread scraped\n",
      "scraping thread - page 1\n",
      "scraping thread - page 2\n",
      "scraping thread - page 3\n",
      "scraping thread - page 4\n",
      "all pages in thread scraped\n",
      "scraping thread - page 1\n",
      "scraping thread - page 2\n",
      "scraping thread - page 3\n",
      "all pages in thread scraped\n",
      "scraping thread - page 1\n",
      "scraping thread - page 2\n",
      "scraping thread - page 3\n",
      "all pages in thread scraped\n",
      "scraping thread - page 1\n",
      "scraping thread - page 2\n",
      "all pages in thread scraped\n",
      "scraping thread - page 1\n",
      "scraping thread - page 2\n",
      "all pages in thread scraped\n",
      "scraping thread - page 1\n",
      "scraping thread - page 2\n",
      "all pages in thread scraped\n",
      "scraping thread - page 1\n",
      "scraping thread - page 2\n",
      "all pages in thread scraped\n",
      "scraping thread - page 1\n",
      "thread only has one page\n",
      "scraping thread - page 1\n",
      "thread only has one page\n",
      "scraping thread - page 1\n",
      "thread only has one page\n",
      "scraping thread - page 1\n",
      "thread only has one page\n",
      "scraping thread - page 1\n",
      "thread only has one page\n",
      "scraping thread - page 1\n",
      "thread only has one page\n",
      "scraping thread - page 1\n",
      "thread only has one page\n",
      "scraping thread - page 1\n",
      "thread only has one page\n"
     ]
    }
   ],
   "source": [
    "posts = []\n",
    "\n",
    "for url in urls:\n",
    "    page = 1\n",
    "    while True:\n",
    "\n",
    "        print(f'scraping thread - page {page}')\n",
    "\n",
    "        res = requests.get(f'{url}?page={str(page)}')\n",
    "        soup = bs(res.text, 'html.parser')\n",
    "        post_div = soup.find_all('div', {'class': 'post_content'})\n",
    "\n",
    "        for post in post_div:\n",
    "            posts.append(post.find('div', {'class':'post_body'}).text.replace('\\r', '').replace('\\n', '').replace('\\t', ''))   \n",
    "            posts.append(post.find('span', {'class': 'post_date'}).text)  #date\n",
    "            posts.append(soup.find('span', {'class': 'active'}).text)  #title\n",
    "        sleep(randint(1,4))\n",
    "\n",
    "        \n",
    "        try:   \n",
    "            next_page = soup.find('span', {'class': 'pages'}).text.split(\"Pages (\",1)[1].replace(\"):\", \"\")\n",
    "            if next_page != str(page):\n",
    "                page +=1\n",
    "            else:\n",
    "                print('all pages in thread scraped')\n",
    "                break\n",
    "        except AttributeError:\n",
    "            print('thread only has one page')\n",
    "            break"
   ]
  },
  {
   "cell_type": "code",
   "execution_count": 26,
   "metadata": {},
   "outputs": [
    {
     "data": {
      "text/plain": [
       "2181"
      ]
     },
     "execution_count": 26,
     "metadata": {},
     "output_type": "execute_result"
    }
   ],
   "source": [
    "len(posts)"
   ]
  },
  {
   "cell_type": "code",
   "execution_count": 27,
   "metadata": {
    "scrolled": false
   },
   "outputs": [
    {
     "data": {
      "text/plain": [
       "[\"https://www.todayonline.com/singapore/co...-590-casesS11 dormitory cluster alone grows to almost 590 cases. Tell me, give me a good reason why the dorm operator shouldn't be fined. At least, make the owner pay for part of the medical bill of the dorm workers.\",\n",
       " '14-4-2020 12:00 AM ',\n",
       " 'Dormitory operators should be fined for endangering Singaporeans with virus',\n",
       " \" 14-4-2020 12:00 AMagau said:  https://www.todayonline.com/singapore/co...-590-casesS11 dormitory cluster alone grows to almost 590 cases. Tell me, give me a good reason why the dorm operator shouldn't be fined. At least, make the owner pay for part of the medical bill of the dorm workers.The dorm operator should pay for full medical expenses for those infected FWs. On top of that they should be fined\",\n",
       " '14-4-2020 12:09 AM ',\n",
       " 'Dormitory operators should be fined for endangering Singaporeans with virus',\n",
       " 'These fooking dorm operators should be fined heavily and bar from doing any businesses forever',\n",
       " '14-4-2020 1:01 AM ',\n",
       " 'Dormitory operators should be fined for endangering Singaporeans with virus',\n",
       " \"718 cases in Punggol S11 Dorm alone. Let's be fair to taxpayers. Shouldn't the dorm operators foot part of the bill? Profits you take all, problems taxpayers pay?\",\n",
       " '15-4-2020 2:17 PM ',\n",
       " 'Dormitory operators should be fined for endangering Singaporeans with virus',\n",
       " \" 13-4-2020 12:20 AMagau said:  Recently, many new infections come from foreign workers dormitories. The dormitory owners/operators should be fined for endangering Singaporeans with the risk of virus infection because of poor living conditions in the dormitories.Fine them. Don't give chance. NO need to worry about them not being able to pay the fine. Check what kind of homes they live in. They sure can pay the fine.Don't blame the dormitory operators.  Blamed the Head of governance that lacks in their social responsibilities of controls.  Slow in meting out measures that caused so many cross-infections in these clusters.  They shd be fired for not doing a proper job and endangering life of citizens.   And start hard-hitting citizens for failure to wear mask, safe distancing, group gatherings, so forth and so for.\",\n",
       " '15-4-2020 2:23 PM ',\n",
       " 'Dormitory operators should be fined for endangering Singaporeans with virus',\n",
       " '我認为政府，雇主都要为这事故負起責任。比方说政府没有严格管制工人宿舍長期以来所面对的拥挤境况，雇主又不给以政府正面的合作。',\n",
       " '15-4-2020 2:27 PM ',\n",
       " 'Dormitory operators should be fined for endangering Singaporeans with virus',\n",
       " '404 out of 447 new cases come from foreign workers dormitories. You tell me. Is it justified to fine the dormitory owners and make them foot the medical bill partially?https://www.channelnewsasia.com/news/sin...5-12643698SINGAPORE: Singapore reported a record 447 new COVID-19 cases on Wednesday (Apr 15), taking the national total to 3,699. Of the new cases, 68 per cent are linked to previously identified clusters, while contact tracing is ongoing for the remaining cases, said the Ministry of Health (MOH) in its daily update.A total of 404 new cases are from foreign worker dormitories. Five are work permit holders living outside the dormitories. ',\n",
       " '15-4-2020 11:11 PM ']"
      ]
     },
     "execution_count": 27,
     "metadata": {},
     "output_type": "execute_result"
    }
   ],
   "source": [
    "posts[900:920]"
   ]
  },
  {
   "cell_type": "code",
   "execution_count": 28,
   "metadata": {},
   "outputs": [],
   "source": [
    "post = posts[::3]\n",
    "date = posts[1::3]\n",
    "title = posts[2::3]"
   ]
  },
  {
   "cell_type": "code",
   "execution_count": 29,
   "metadata": {},
   "outputs": [],
   "source": [
    "#remove all char before 'said:  ' for post\n",
    "import regex as re\n",
    "for i in range(len(post)):\n",
    "    post[i] = re.sub(r\"^.+said\\:\\s\\s\", \"\", post[i])"
   ]
  },
  {
   "cell_type": "code",
   "execution_count": 30,
   "metadata": {},
   "outputs": [
    {
     "data": {
      "text/plain": [
       "['In-flight food taste  ',\n",
       " 'Sinkees also quarantined at home gets nothing. Worst, go out buy food can get $300 fine somemore.Do idiots know what kind of sick Gov they voted?',\n",
       " '',\n",
       " \"The people of Singapore have to foot the bill of housing 200k fw with food60sq ft x 200k = 12m sq ft. plus 200k beds while the dormitory operator's wife is enjoying in Sentosa.Stop complaining lah. SG has class status 1 hor.  Highest caste is the untouchables.\",\n",
       " 'the sats kitchen better than any little india place they would frequent.']"
      ]
     },
     "execution_count": 30,
     "metadata": {},
     "output_type": "execute_result"
    }
   ],
   "source": [
    "post[700:705]"
   ]
  },
  {
   "cell_type": "code",
   "execution_count": 31,
   "metadata": {
    "scrolled": true
   },
   "outputs": [
    {
     "data": {
      "text/html": [
       "<div>\n",
       "<style scoped>\n",
       "    .dataframe tbody tr th:only-of-type {\n",
       "        vertical-align: middle;\n",
       "    }\n",
       "\n",
       "    .dataframe tbody tr th {\n",
       "        vertical-align: top;\n",
       "    }\n",
       "\n",
       "    .dataframe thead th {\n",
       "        text-align: right;\n",
       "    }\n",
       "</style>\n",
       "<table border=\"1\" class=\"dataframe\">\n",
       "  <thead>\n",
       "    <tr style=\"text-align: right;\">\n",
       "      <th></th>\n",
       "      <th>post</th>\n",
       "      <th>date</th>\n",
       "      <th>title</th>\n",
       "    </tr>\n",
       "  </thead>\n",
       "  <tbody>\n",
       "    <tr>\n",
       "      <th>722</th>\n",
       "      <td>The Health Ministry's charts show that the cas...</td>\n",
       "      <td>17-4-2020 6:27 PM</td>\n",
       "      <td>Two weeks and a 70-fold increase: A look into ...</td>\n",
       "    </tr>\n",
       "    <tr>\n",
       "      <th>723</th>\n",
       "      <td></td>\n",
       "      <td>17-4-2020 6:28 PM</td>\n",
       "      <td>Two weeks and a 70-fold increase: A look into ...</td>\n",
       "    </tr>\n",
       "    <tr>\n",
       "      <th>724</th>\n",
       "      <td>https://www.channelnewsasia.com/news/sin...e-1...</td>\n",
       "      <td>17-4-2020 12:16 PM</td>\n",
       "      <td>HEY GOV BETTER DON'T BE DOUBLE STANDARD YET AG...</td>\n",
       "    </tr>\n",
       "    <tr>\n",
       "      <th>725</th>\n",
       "      <td>They want the FWs to develop herd immunity is ...</td>\n",
       "      <td>17-4-2020 12:18 PM</td>\n",
       "      <td>HEY GOV BETTER DON'T BE DOUBLE STANDARD YET AG...</td>\n",
       "    </tr>\n",
       "    <tr>\n",
       "      <th>726</th>\n",
       "      <td>Now 1 or 2 m ?</td>\n",
       "      <td>17-4-2020 12:22 PM</td>\n",
       "      <td>HEY GOV BETTER DON'T BE DOUBLE STANDARD YET AG...</td>\n",
       "    </tr>\n",
       "  </tbody>\n",
       "</table>\n",
       "</div>"
      ],
      "text/plain": [
       "                                                  post                 date  \\\n",
       "722  The Health Ministry's charts show that the cas...   17-4-2020 6:27 PM    \n",
       "723                                                      17-4-2020 6:28 PM    \n",
       "724  https://www.channelnewsasia.com/news/sin...e-1...  17-4-2020 12:16 PM    \n",
       "725  They want the FWs to develop herd immunity is ...  17-4-2020 12:18 PM    \n",
       "726                                     Now 1 or 2 m ?  17-4-2020 12:22 PM    \n",
       "\n",
       "                                                 title  \n",
       "722  Two weeks and a 70-fold increase: A look into ...  \n",
       "723  Two weeks and a 70-fold increase: A look into ...  \n",
       "724  HEY GOV BETTER DON'T BE DOUBLE STANDARD YET AG...  \n",
       "725  HEY GOV BETTER DON'T BE DOUBLE STANDARD YET AG...  \n",
       "726  HEY GOV BETTER DON'T BE DOUBLE STANDARD YET AG...  "
      ]
     },
     "execution_count": 31,
     "metadata": {},
     "output_type": "execute_result"
    }
   ],
   "source": [
    "sgtalk = pd.DataFrame(list(zip(post, date, title)), columns = ['post', 'date', 'title'])\n",
    "sgtalk.tail()"
   ]
  },
  {
   "cell_type": "code",
   "execution_count": 32,
   "metadata": {},
   "outputs": [
    {
     "data": {
      "text/plain": [
       "(727, 3)"
      ]
     },
     "execution_count": 32,
     "metadata": {},
     "output_type": "execute_result"
    }
   ],
   "source": [
    "sgtalk.shape"
   ]
  },
  {
   "cell_type": "code",
   "execution_count": 33,
   "metadata": {},
   "outputs": [],
   "source": [
    "sgtalk.to_csv('./sgtalk_scrape.csv', index=False)"
   ]
  },
  {
   "cell_type": "code",
   "execution_count": null,
   "metadata": {},
   "outputs": [],
   "source": []
  }
 ],
 "metadata": {
  "kernelspec": {
   "display_name": "Python 3",
   "language": "python",
   "name": "python3"
  },
  "language_info": {
   "codemirror_mode": {
    "name": "ipython",
    "version": 3
   },
   "file_extension": ".py",
   "mimetype": "text/x-python",
   "name": "python",
   "nbconvert_exporter": "python",
   "pygments_lexer": "ipython3",
   "version": "3.7.6"
  }
 },
 "nbformat": 4,
 "nbformat_minor": 4
}
